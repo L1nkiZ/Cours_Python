{
 "cells": [
  {
   "cell_type": "markdown",
   "metadata": {},
   "source": [
    "# Définition\n",
    "\n",
    "Structure de données séquentielle **hétérogène** permettant de regrouper en un seul objet plusieurs **éléments** pouvant être de type différents ($\\neq$ chaînes de caractères). \n",
    "\n",
    "Déclaration littérale d'une liste :"
   ]
  },
  {
   "cell_type": "code",
   "execution_count": 1,
   "metadata": {},
   "outputs": [],
   "source": [
    "[] # Liste vide\n",
    "[True, \"Timoléon\", 42] # Liste de 3 éléments\n",
    "[[1, 2], ['a', 'b', 'c']] # liste de listes\n",
    "liste = [1, 2, 3, 4, 5] # affectation à une variable"
   ]
  },
  {
   "cell_type": "markdown",
   "metadata": {},
   "source": [
    "**Remarque :** Dans le cours, on n'utilisera que des listes \"homogènes\", c'est-à-dire des listes dont tous les éléments sont du même type.\n",
    "\n",
    "# Points communs avec les chaînes de caractères\n",
    "\n",
    "Beaucoup  de points communs avec les chaînes de caractères :\n",
    "\n",
    "* Longueur : ```len```"
   ]
  },
  {
   "cell_type": "code",
   "execution_count": 2,
   "metadata": {},
   "outputs": [
    {
     "name": "stdout",
     "output_type": "stream",
     "text": [
      "Longueur de liste = 5\n"
     ]
    }
   ],
   "source": [
    "print(\"Longueur de liste =\", len(liste))"
   ]
  },
  {
   "cell_type": "markdown",
   "metadata": {},
   "source": [
    "* Eléments indicés + accès aux éléments par la notation indicielle (```[]```)"
   ]
  },
  {
   "cell_type": "code",
   "execution_count": 3,
   "metadata": {},
   "outputs": [
    {
     "name": "stdout",
     "output_type": "stream",
     "text": [
      "liste[0] = 1\n",
      "liste[1] = 2\n",
      "liste[2] = 3\n",
      "liste[3] = 4\n",
      "liste[4] = 5\n"
     ]
    }
   ],
   "source": [
    "for i in range(len(liste)):\n",
    "    print(\"liste[\" + str(i) + \"] =\", liste[i])"
   ]
  },
  {
   "cell_type": "markdown",
   "metadata": {},
   "source": [
    "* Opérateur de concaténation : ```+```"
   ]
  },
  {
   "cell_type": "code",
   "execution_count": 4,
   "metadata": {},
   "outputs": [
    {
     "name": "stdout",
     "output_type": "stream",
     "text": [
      "l1 + l2 = [1, 2, 3, 10, 20]\n"
     ]
    }
   ],
   "source": [
    "l1 = [1, 2, 3]\n",
    "l2 = [10, 20]\n",
    "print(\"l1 + l2 =\", l1 + l2)"
   ]
  },
  {
   "cell_type": "markdown",
   "metadata": {},
   "source": [
    "* Opérateur de répétition : ```*```"
   ]
  },
  {
   "cell_type": "code",
   "execution_count": 5,
   "metadata": {},
   "outputs": [
    {
     "data": {
      "text/plain": [
       "[0, 0, 0, 0]"
      ]
     },
     "execution_count": 5,
     "metadata": {},
     "output_type": "execute_result"
    }
   ],
   "source": [
    "[0] * 4"
   ]
  },
  {
   "cell_type": "code",
   "execution_count": 6,
   "metadata": {},
   "outputs": [
    {
     "data": {
      "text/plain": [
       "[1, 2, 3, 1, 2, 3, 1, 2, 3]"
      ]
     },
     "execution_count": 6,
     "metadata": {},
     "output_type": "execute_result"
    }
   ],
   "source": [
    "[1, 2, 3] * 3"
   ]
  },
  {
   "cell_type": "markdown",
   "metadata": {},
   "source": [
    "* Itérable avec une boucle ```for``` :"
   ]
  },
  {
   "cell_type": "code",
   "execution_count": 7,
   "metadata": {},
   "outputs": [
    {
     "name": "stdout",
     "output_type": "stream",
     "text": [
      "1\n",
      "2\n",
      "3\n",
      "4\n",
      "5\n"
     ]
    }
   ],
   "source": [
    "for x in liste:\n",
    "    print(x)"
   ]
  },
  {
   "cell_type": "markdown",
   "metadata": {},
   "source": [
    "* Tranches"
   ]
  },
  {
   "cell_type": "code",
   "execution_count": 8,
   "metadata": {},
   "outputs": [
    {
     "data": {
      "text/plain": [
       "[3, 4]"
      ]
     },
     "execution_count": 8,
     "metadata": {},
     "output_type": "execute_result"
    }
   ],
   "source": [
    "liste[2:4]"
   ]
  },
  {
   "cell_type": "code",
   "execution_count": 9,
   "metadata": {},
   "outputs": [
    {
     "data": {
      "text/plain": [
       "[1, 2, 3, 4]"
      ]
     },
     "execution_count": 9,
     "metadata": {},
     "output_type": "execute_result"
    }
   ],
   "source": [
    "liste[:4]"
   ]
  },
  {
   "cell_type": "code",
   "execution_count": 10,
   "metadata": {},
   "outputs": [
    {
     "data": {
      "text/plain": [
       "[3, 4, 5]"
      ]
     },
     "execution_count": 10,
     "metadata": {},
     "output_type": "execute_result"
    }
   ],
   "source": [
    "liste[2:]"
   ]
  },
  {
   "cell_type": "code",
   "execution_count": 11,
   "metadata": {},
   "outputs": [
    {
     "data": {
      "text/plain": [
       "[1, 2, 3, 4, 5]"
      ]
     },
     "execution_count": 11,
     "metadata": {},
     "output_type": "execute_result"
    }
   ],
   "source": [
    "liste[:]"
   ]
  },
  {
   "cell_type": "markdown",
   "metadata": {},
   "source": [
    "# Mutabilité\n",
    "\n",
    "Les éléments d'une liste peuvent être modifiées."
   ]
  },
  {
   "cell_type": "code",
   "execution_count": 12,
   "metadata": {},
   "outputs": [
    {
     "name": "stdout",
     "output_type": "stream",
     "text": [
      "[1, 2, 3, 42, 5]\n"
     ]
    }
   ],
   "source": [
    "liste[3] = 42\n",
    "print(liste)"
   ]
  },
  {
   "cell_type": "code",
   "execution_count": 6,
   "metadata": {},
   "outputs": [
    {
     "name": "stdout",
     "output_type": "stream",
     "text": [
      "[3, 5, 7, 9, 11]\n"
     ]
    }
   ],
   "source": [
    "for i in range(len(liste)):\n",
    "    liste[i] = 2*liste[i] + 1\n",
    "print(liste)"
   ]
  },
  {
   "cell_type": "markdown",
   "metadata": {},
   "source": [
    "**Remarque :** Si on veut modifier les éléments d'une liste dans une boucle, on est obligé d'itérer sur les indices. Itérer directement sur les éléments ne permet pas de modifier la liste :"
   ]
  },
  {
   "cell_type": "code",
   "execution_count": 4,
   "metadata": {},
   "outputs": [
    {
     "name": "stdout",
     "output_type": "stream",
     "text": [
      "[1, 2, 3, 4, 5]\n"
     ]
    }
   ],
   "source": [
    "for x in liste:\n",
    "    x = 2*x + 1\n",
    "print(liste)"
   ]
  },
  {
   "cell_type": "markdown",
   "metadata": {},
   "source": [
    "\n",
    "**Rappels :**\n",
    "\n",
    "* Toute expression entière peut être utilisée comme indice\n",
    "* Il faut que l'indice soit entre 0 et la longueur de la liste - 1 sinon une erreur est levée (sauf pour certaines valeurs négatives mais pour le cours on suppose qu'un indice est positif ou nul)\n",
    "\n",
    "\n",
    "L'opérateur ```in``` existe aussi pour les listes :"
   ]
  },
  {
   "cell_type": "code",
   "execution_count": 7,
   "metadata": {},
   "outputs": [
    {
     "data": {
      "text/plain": [
       "True"
      ]
     },
     "execution_count": 7,
     "metadata": {},
     "output_type": "execute_result"
    }
   ],
   "source": [
    "9 in liste"
   ]
  },
  {
   "cell_type": "code",
   "execution_count": 16,
   "metadata": {},
   "outputs": [
    {
     "data": {
      "text/plain": [
       "False"
      ]
     },
     "execution_count": 16,
     "metadata": {},
     "output_type": "execute_result"
    }
   ],
   "source": [
    "42 in liste"
   ]
  },
  {
   "cell_type": "markdown",
   "metadata": {},
   "source": [
    "# Ajouter un élément à la fin d'une liste une liste\n",
    "\n",
    "Les listes sont des objets et des méthodes sont définies pour modifier le contenu d'une liste.\n",
    "\n",
    "La méthode ```append``` permet d'ajouter un élément à la fin d'une liste.\n",
    "\n",
    "Par exemple, le programme suivant construit la liste des entiers pair plus petits ou égaux à ```n``` :"
   ]
  },
  {
   "cell_type": "code",
   "execution_count": 34,
   "metadata": {},
   "outputs": [
    {
     "name": "stdout",
     "output_type": "stream",
     "text": [
      "[0, 2, 4, 6, 8, 10, 12, 14, 16, 18, 20, 22, 24, 26, 28, 30, 32, 34, 36, 38, 40, 42, 44]\n"
     ]
    }
   ],
   "source": [
    "n = 45\n",
    "\n",
    "liste = [] # On commence avec une liste vide\n",
    "for i in range(0, n+1, 2):\n",
    "    liste.append(i)\n",
    "\n",
    "print(liste)"
   ]
  },
  {
   "cell_type": "markdown",
   "metadata": {},
   "source": [
    "# Retirer un élément à la fin d'une liste\n",
    "\n",
    "La méthode ```pop``` permet de retirer le dernier élément d'une liste :"
   ]
  },
  {
   "cell_type": "code",
   "execution_count": 18,
   "metadata": {},
   "outputs": [
    {
     "name": "stdout",
     "output_type": "stream",
     "text": [
      "[0, 2, 4, 6, 8, 10, 12, 14, 16, 18, 20, 22, 24, 26, 28, 30, 32, 34, 36, 38, 40, 42]\n"
     ]
    }
   ],
   "source": [
    "liste.pop()\n",
    "print(liste)"
   ]
  },
  {
   "cell_type": "markdown",
   "metadata": {},
   "source": [
    "**Remarque :** il existe d'autres méthodes pour modifier les listes mais ```append``` et ```pop``` sont des actions classiques et _efficaces_ que l'on rencontre dans des structures d'autres langage comme ```vector``` en C++ et ```ArrayList``` en Java.\n",
    "\n",
    "# Construction d'une liste à partir d'une chaîne de caractères\n",
    "\n",
    "La fonction ```list``` permet de construire une liste à partir d'une donnée qui est une séquence et donc notamment les chaînes de caractères."
   ]
  },
  {
   "cell_type": "code",
   "execution_count": 19,
   "metadata": {},
   "outputs": [
    {
     "name": "stdout",
     "output_type": "stream",
     "text": [
      "['s', 'p', 'a', 'm']\n"
     ]
    }
   ],
   "source": [
    "chaîne = \"spam\"\n",
    "liste = list(chaîne)\n",
    "print(liste)"
   ]
  },
  {
   "cell_type": "markdown",
   "metadata": {},
   "source": [
    "# Aliasing\n",
    "\n",
    "Considérons les instructions suivantes :"
   ]
  },
  {
   "cell_type": "code",
   "execution_count": 20,
   "metadata": {},
   "outputs": [],
   "source": [
    "l1 = [1, 2, 3, 4, 5]\n",
    "l2 = l1"
   ]
  },
  {
   "cell_type": "markdown",
   "metadata": {},
   "source": [
    "**Question :** quel est le rapport entre ```l1``` et ```l2``` ?\n",
    "\n",
    "* Possibilité 1 : ```l1``` et ```l2``` font référence à deux objets listes distincts qui ont la même valeur (la séquence ```1, 2, 3, 4, 5```)\n",
    "* Possibilité 2 : ```l1``` et ```l2``` font référence au même objet liste, ce qui signifie que modifier ```l1``` entraîne une modification de ```l2``` et vice versa.\n",
    "\n",
    "Faisons un test :"
   ]
  },
  {
   "cell_type": "code",
   "execution_count": 21,
   "metadata": {},
   "outputs": [
    {
     "name": "stdout",
     "output_type": "stream",
     "text": [
      "l1 [1, 42, 3, 4, 5]\n",
      "l2 [1, 42, 3, 4, 5]\n"
     ]
    }
   ],
   "source": [
    "l1[1] = 42\n",
    "print(\"l1\", l1)\n",
    "print(\"l2\", l2)"
   ]
  },
  {
   "cell_type": "markdown",
   "metadata": {},
   "source": [
    "On est donc dans le second cas.\n",
    "\n",
    "L'association d'une variable avec un objet est appelée une **référence**.\n",
    "\n",
    "Un même objet peut être donc être référencé par plusieurs variables.\n",
    "\n",
    "La modification d'un objet via une variable qui le référence est visible via toutes les autres variables qui le référencent.\n",
    "\n",
    "**Remarque :** Les chaînes de caractères sont aussi des objets et les variables où l'on affecte une chaîne de caractères sont donc aussi des références. Cependant, les chaînes de caractères étant non mutables, la question de l'aliasing ne se posait pas.\n",
    "\n",
    "L'opérateur ```is``` permet de tester si deux variables font référence au même objet :"
   ]
  },
  {
   "cell_type": "code",
   "execution_count": 22,
   "metadata": {},
   "outputs": [
    {
     "data": {
      "text/plain": [
       "True"
      ]
     },
     "execution_count": 22,
     "metadata": {},
     "output_type": "execute_result"
    }
   ],
   "source": [
    "l1 is l2"
   ]
  },
  {
   "cell_type": "code",
   "execution_count": 23,
   "metadata": {},
   "outputs": [
    {
     "data": {
      "text/plain": [
       "False"
      ]
     },
     "execution_count": 23,
     "metadata": {},
     "output_type": "execute_result"
    }
   ],
   "source": [
    "l3 = [1, 42, 3, 4, 5]\n",
    "l1 is l3"
   ]
  },
  {
   "cell_type": "markdown",
   "metadata": {},
   "source": [
    "**Remarque :** l'opérateur ```==``` fonctionne aussi sur les listes. Il permet de tester si deux listes représentent la même séquence (mêmes éléments et même ordre)"
   ]
  },
  {
   "cell_type": "code",
   "execution_count": 24,
   "metadata": {},
   "outputs": [
    {
     "data": {
      "text/plain": [
       "True"
      ]
     },
     "execution_count": 24,
     "metadata": {},
     "output_type": "execute_result"
    }
   ],
   "source": [
    "l1 == l2"
   ]
  },
  {
   "cell_type": "code",
   "execution_count": 25,
   "metadata": {},
   "outputs": [
    {
     "data": {
      "text/plain": [
       "True"
      ]
     },
     "execution_count": 25,
     "metadata": {},
     "output_type": "execute_result"
    }
   ],
   "source": [
    "l1 == l3"
   ]
  },
  {
   "cell_type": "markdown",
   "metadata": {},
   "source": [
    "L'affectation ```=``` ne permet donc pas de faire une copie *profonde* d'une liste. C'est-à-dire créer un nouvel objet liste qui représente la même séquence.\n",
    "\n",
    "Pour cela, on peut :\n",
    "\n",
    "1. Ecrire sa propre fonction :"
   ]
  },
  {
   "cell_type": "code",
   "execution_count": 27,
   "metadata": {},
   "outputs": [
    {
     "name": "stdout",
     "output_type": "stream",
     "text": [
      "Avant modification, l1 = [1, 42, 3, 4, 5]\n",
      "Avant modification, l2 = [1, 42, 3, 4, 5]\n",
      "Après modification, l1 = [1, 42, 3, 4, 5]\n",
      "Après modification, l2 = [1, 10000, 3, 4, 5]\n"
     ]
    }
   ],
   "source": [
    "def copie(l1):\n",
    "    résultat = []\n",
    "    for x in l1:\n",
    "        résultat.append(x)\n",
    "    return résultat\n",
    "\n",
    "l2 = copie(l1)\n",
    "\n",
    "print(\"Avant modification, l1 =\", l1)\n",
    "print(\"Avant modification, l2 =\", l2)\n",
    "l2[1] = 10000\n",
    "print(\"Après modification, l1 =\", l1)\n",
    "print(\"Après modification, l2 =\", l2)"
   ]
  },
  {
   "cell_type": "markdown",
   "metadata": {},
   "source": [
    "2. Utiliser la fonction ```list``` :"
   ]
  },
  {
   "cell_type": "code",
   "execution_count": 28,
   "metadata": {},
   "outputs": [
    {
     "name": "stdout",
     "output_type": "stream",
     "text": [
      "Avant modification, l1 = [1, 42, 3, 4, 5]\n",
      "Avant modification, l2 = [1, 42, 3, 4, 5]\n",
      "Après modification, l1 = [1, 42, 3, 4, 5]\n",
      "Après modification, l2 = [1, 10000, 3, 4, 5]\n"
     ]
    }
   ],
   "source": [
    "l2 = list(l1)\n",
    "\n",
    "print(\"Avant modification, l1 =\", l1)\n",
    "print(\"Avant modification, l2 =\", l2)\n",
    "l2[1] = 10000\n",
    "print(\"Après modification, l1 =\", l1)\n",
    "print(\"Après modification, l2 =\", l2)"
   ]
  },
  {
   "cell_type": "markdown",
   "metadata": {},
   "source": [
    "3. Créer une tranche :"
   ]
  },
  {
   "cell_type": "code",
   "execution_count": 29,
   "metadata": {},
   "outputs": [
    {
     "name": "stdout",
     "output_type": "stream",
     "text": [
      "Avant modification, l1 = [1, 42, 3, 4, 5]\n",
      "Avant modification, l2 = [1, 42, 3, 4, 5]\n",
      "Après modification, l1 = [1, 42, 3, 4, 5]\n",
      "Après modification, l2 = [1, 10000, 3, 4, 5]\n"
     ]
    }
   ],
   "source": [
    "l2 = l1[:]\n",
    "\n",
    "print(\"Avant modification, l1 =\", l1)\n",
    "print(\"Avant modification, l2 =\", l2)\n",
    "l2[1] = 10000\n",
    "print(\"Après modification, l1 =\", l1)\n",
    "print(\"Après modification, l2 =\", l2)"
   ]
  },
  {
   "cell_type": "markdown",
   "metadata": {},
   "source": [
    "4. Utiliser la méthode ```copy``` de la classe liste **(méthode à privilégier)**:"
   ]
  },
  {
   "cell_type": "code",
   "execution_count": 30,
   "metadata": {},
   "outputs": [
    {
     "name": "stdout",
     "output_type": "stream",
     "text": [
      "Avant modification, l1 = [1, 42, 3, 4, 5]\n",
      "Avant modification, l2 = [1, 42, 3, 4, 5]\n",
      "Après modification, l1 = [1, 42, 3, 4, 5]\n",
      "Après modification, l2 = [1, 10000, 3, 4, 5]\n"
     ]
    }
   ],
   "source": [
    "l2 = l1.copy()\n",
    "\n",
    "print(\"Avant modification, l1 =\", l1)\n",
    "print(\"Avant modification, l2 =\", l2)\n",
    "l2[1] = 10000\n",
    "print(\"Après modification, l1 =\", l1)\n",
    "print(\"Après modification, l2 =\", l2)"
   ]
  },
  {
   "cell_type": "markdown",
   "metadata": {},
   "source": [
    "# Listes et arguments d'une fonction\n",
    "\n",
    "Lorsqu'une liste est passée en argument d'une fonction, on passe la référence sur l'objet et non une copie.\n",
    "\n",
    "**Conséquence :** si la fonction modifie la liste, la modification est visible au niveau de l'appel."
   ]
  },
  {
   "cell_type": "code",
   "execution_count": 1,
   "metadata": {},
   "outputs": [
    {
     "name": "stdout",
     "output_type": "stream",
     "text": [
      "l1 après appel : [2, 4, 6, 8, 10]\n"
     ]
    }
   ],
   "source": [
    "def double(l):\n",
    "    for i in range(len(l)):\n",
    "        l[i] = 2*l[i]\n",
    "\n",
    "l1 = [1, 2, 3, 4, 5]\n",
    "double(l1)\n",
    "print(\"l1 après appel :\", l1)"
   ]
  },
  {
   "cell_type": "markdown",
   "metadata": {},
   "source": [
    "# Exercices\n",
    "\n",
    "## Exercice 1\n",
    "\n",
    "Ecrire une fonction qui prend un entier ```n``` en paramètre. La fonction demande ```n``` nombres entiers à un utilisateur. Lorsque l'utilisateur a fini, la fonction affiche les nombres pairs."
   ]
  },
  {
   "cell_type": "code",
   "execution_count": 2,
   "metadata": {},
   "outputs": [
    {
     "name": "stdout",
     "output_type": "stream",
     "text": [
      "[2, 2, 2, 2, 6, 6, 6, 8]\n"
     ]
    }
   ],
   "source": [
    "def pairs (n):\n",
    "    res = []\n",
    "    inter = []\n",
    "    for i in range(len(n)):\n",
    "        if n[i]%2 == 0:\n",
    "            inter = [n[i]]\n",
    "            res = res + inter\n",
    "    return res\n",
    "\n",
    "valeur = [2,2,2,2,5,5,5,6,6,6,7,8]\n",
    "print(pairs(valeur))"
   ]
  },
  {
   "cell_type": "markdown",
   "metadata": {},
   "source": [
    "## Exercice 2\n",
    "\n",
    "1. Ecrire une fonction ```ajouter_un``` qui prend en paramètre une liste d'entiers et qui ajoute un à tous les éléments de liste. La fonction doit modifier la liste passée en paramètre et ne pas créer une copie. Par exemple, si on fait l'appel :\n",
    "\n",
    "```\n",
    "x = [1, 2, 3]\n",
    "ajouter_un(x)\n",
    "```\n",
    "\n",
    "après l'appel ```x``` doit représenter la liste ```[2, 3, 4]```."
   ]
  },
  {
   "cell_type": "code",
   "execution_count": 3,
   "metadata": {},
   "outputs": [
    {
     "name": "stdout",
     "output_type": "stream",
     "text": [
      "[2, 3, 4]\n"
     ]
    }
   ],
   "source": [
    "def ajouter_un(n):\n",
    "    res =[]\n",
    "    inter=[]\n",
    "    for i in range (len(n)):\n",
    "        inter = [n[i]+1]\n",
    "        res = res + inter\n",
    "    return res\n",
    "\n",
    "x = [1, 2, 3]\n",
    "print(ajouter_un(x))"
   ]
  },
  {
   "cell_type": "markdown",
   "metadata": {},
   "source": [
    "2. Ecrire une fonction ```plus_un``` qui prend en paramètre une liste d'entiers et qui retourne un copie de la liste où on a ajouter à tous les éléments. La liste passée en paramètre ne doit pas être modifiée. Par exemple, si on l'appel :\n",
    "\n",
    "```\n",
    "x = [1, 2, 3]\n",
    "y = plus_un(x)\n",
    "```\n",
    "\n",
    "après l'appel ```x``` doit représenter la liste ```[1, 2, 3]``` et ```y``` la liste ```[2, 3, 4]```."
   ]
  },
  {
   "cell_type": "code",
   "execution_count": 6,
   "metadata": {},
   "outputs": [
    {
     "name": "stdout",
     "output_type": "stream",
     "text": [
      "[1, 2, 3] [2, 3, 4]\n"
     ]
    }
   ],
   "source": [
    "def ajouter_un(n):\n",
    "    res =[]\n",
    "    inter=[]\n",
    "    for i in range (len(n)):\n",
    "        inter = [n[i]+1]\n",
    "        res = res + inter\n",
    "    return res\n",
    "\n",
    "x = [1, 2, 3]\n",
    "y = ajouter_un(x)\n",
    "print (x,y)"
   ]
  },
  {
   "cell_type": "markdown",
   "metadata": {},
   "source": [
    "## Exercice 3\n",
    "\n",
    "Ecrire une fonction qui effectue une rotation d'une liste passée en paramètre : chaque élément est décalé d'une case vers la droite et le dernier élément de la table occupe la première place. Il faut que la fonction modifie la liste passée en paramètre et ne crée pas une copie de la liste. Ecrire un appel de cette fonction.\n",
    "\n",
    "Par exemple, si avant la rotation, on a la liste :\n",
    "\n",
    "| indice | 0 | 1 | 2 | 3 | 4 | \n",
    "|:- |:- |:- |:- |:- |:- |\n",
    "| valeur | 23 | 28 | 6 | 49 | 50 |\n",
    "\n",
    "après l'appel, on aura :\n",
    "\n",
    "| indice | 0 | 1 | 2 | 3 | 4 | \n",
    "|:- |:- |:- |:- |:- |:- |\n",
    "| valeur | 50 | 23 | 28 | 6 | 49 |"
   ]
  },
  {
   "cell_type": "code",
   "execution_count": 30,
   "metadata": {},
   "outputs": [
    {
     "name": "stdout",
     "output_type": "stream",
     "text": [
      "Chaine de base : [1, 2, 3, 4, 5, 6]\n",
      "[6, 1, 2, 3, 4, 5]\n"
     ]
    }
   ],
   "source": [
    "def rotation(n):\n",
    "    val = len(n)\n",
    "    #print (\"valeur de val :\", val)\n",
    "    res = []\n",
    "    inter = []\n",
    "    for i in range(val):\n",
    "        inter = [n[i]]\n",
    "        if i == val-1:\n",
    "            res = inter + res\n",
    "        else:\n",
    "            #print (\"valeur de inter :\", inter)\n",
    "            res = res + inter\n",
    "            #print (\"valeur de res :\", res)\n",
    "    return res\n",
    "\n",
    "x = [1,2,3,4,5,6]\n",
    "print (\"Chaine de base :\",x)\n",
    "print (rotation(x))"
   ]
  },
  {
   "cell_type": "markdown",
   "metadata": {},
   "source": [
    "## Exercice 4\n",
    "\n",
    "Ecrire une fonction qui prend une liste en paramètre et qui inverse l'ordre des éléments. Il faut que la fonction modifie la liste passée en paramètre et ne crée pas une copie de la liste. Ecrire un appel à la fonction."
   ]
  },
  {
   "cell_type": "code",
   "execution_count": 34,
   "metadata": {},
   "outputs": [
    {
     "name": "stdout",
     "output_type": "stream",
     "text": [
      "chaine de base : [1, 2, 3, 4, 5, 6]\n",
      "[6, 5, 4, 3, 2, 1]\n"
     ]
    }
   ],
   "source": [
    "def inverse (n):\n",
    "    val = len(n)\n",
    "    #print(\"valeur de val :\", val)\n",
    "    res = []\n",
    "    for i in range(val):\n",
    "        res = [n[i]] + res\n",
    "    return res\n",
    "\n",
    "x = [1,2,3,4,5,6]\n",
    "print (\"chaine de base :\",x)\n",
    "print(inverse(x))"
   ]
  },
  {
   "cell_type": "markdown",
   "metadata": {},
   "source": [
    "## Exercice 5\n",
    "\n",
    "1. Ecrire un programme qui affiche le nombre de tirages de la somme de de deux dés à 6 faces sur 10000 tirages. Le résultat devrait ressembler à :\n",
    "\n",
    "```\n",
    "somme = 2 : 290 tirages\n",
    "somme = 3 : 593 tirages\n",
    "somme = 4 : 827 tirages\n",
    "somme = 5 : 1137 tirages\n",
    "somme = 6 : 1411 tirages\n",
    "somme = 7 : 1648 tirages\n",
    "somme = 8 : 1343 tirages\n",
    "somme = 9 : 1115 tirages\n",
    "somme = 10 : 794 tirages\n",
    "somme = 11 : 579 tirages\n",
    "somme = 12 : 263 tirages\n",
    "```"
   ]
  },
  {
   "cell_type": "code",
   "execution_count": 36,
   "metadata": {},
   "outputs": [
    {
     "name": "stdout",
     "output_type": "stream",
     "text": [
      "5 1\n",
      "6\n",
      "None\n"
     ]
    }
   ],
   "source": [
    "import random\n",
    "\n",
    "def somme(x,y):\n",
    "    while(10000):\n",
    "        d1 = random.randint(1, 6)\n",
    "        d2 = random.randint(1, 6)\n",
    "        som = x + y\n",
    "        if som == 2:\n",
    "            s2 = s2 + 1\n",
    "\n",
    "x = 1\n",
    "x = 2\n",
    "\n",
    "somme(d1,d2))"
   ]
  },
  {
   "cell_type": "markdown",
   "metadata": {},
   "source": [
    "2. Modifier le programme précédent pour afficher l'histrogramme graphiquement avec des étoiles. On utilisera l'échelle \"une étoile = 100 tirages\". Le résultat devrait ressembler à :\n",
    "\n",
    "```\n",
    "**\n",
    "*****\n",
    "*********\n",
    "***********\n",
    "**************\n",
    "*****************\n",
    "************\n",
    "**********\n",
    "********\n",
    "*****\n",
    "**\n",
    "```"
   ]
  },
  {
   "cell_type": "code",
   "execution_count": null,
   "metadata": {},
   "outputs": [],
   "source": []
  },
  {
   "cell_type": "markdown",
   "metadata": {},
   "source": [
    "3. Modifiez le programme précédent pour que l'échelle soit automatiquement ajustée de manière à ce que la plus longue barre de l'histogramme ait 75 étoiles."
   ]
  },
  {
   "cell_type": "code",
   "execution_count": null,
   "metadata": {},
   "outputs": [],
   "source": []
  }
 ],
 "metadata": {
  "interpreter": {
   "hash": "767d51c1340bd893661ea55ea3124f6de3c7a262a8b4abca0554b478b1e2ff90"
  },
  "kernelspec": {
   "display_name": "Python 3.9.7 64-bit ('base': conda)",
   "name": "python3"
  },
  "language_info": {
   "codemirror_mode": {
    "name": "ipython",
    "version": 3
   },
   "file_extension": ".py",
   "mimetype": "text/x-python",
   "name": "python",
   "nbconvert_exporter": "python",
   "pygments_lexer": "ipython3",
   "version": "3.9.7"
  },
  "orig_nbformat": 4
 },
 "nbformat": 4,
 "nbformat_minor": 2
}
