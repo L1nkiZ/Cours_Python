{
 "cells": [
  {
   "cell_type": "markdown",
   "metadata": {},
   "source": [
    "# Instruction / boucle ```for```\n",
    "\n",
    "## Principe\n",
    "\n",
    "* La boucle ```for``` permet de traduire l'idée de répéter un bloc d'instructions **un nombre déterminé de fois**.\n",
    "* Le nombre de fois est définie par le nombre d'éléments dans une **séquence**.\n",
    "* Une séquence est une suite de valeurs dont l'ordre d'apparition a une importance.\n",
    "* Syntaxe :\n",
    "```\n",
    "for <variable> in <sequence>:\n",
    "    <bloc d'instructions>\n",
    "```\n",
    "* Interprétation : \"Pour chaque valeur de la séquence faire ...\"\n",
    "* La variable prend successivement les valeurs dans la séquence\n",
    "* **Attention** à l'indentation du bloc d'instructions\n",
    "* On peut facilement construire des séquences d'entiers avec la fonction **```range```**.\n",
    "\n",
    "## Fonction ```range```\n",
    "\n",
    "### Version avec un argument\n",
    "\n",
    "* ```range(n)``` : séquence d'entiers de 0 à ```n-1``` de 1 en 1\n",
    "* Si $n \\leq 0$, la séquence est vide.\n",
    "* ```n``` doit être une valeur entière (littéral, variable, expression)\n",
    "* Utilisations typiques avec ```for``` : \"faire / répéter $n$ fois\" ou \"faire pour la variable allant de $0$ à $n-1$\""
   ]
  },
  {
   "cell_type": "code",
   "execution_count": 1,
   "metadata": {},
   "outputs": [
    {
     "name": "stdout",
     "output_type": "stream",
     "text": [
      "Itération 0\n",
      "Itération 1\n",
      "Itération 2\n",
      "Itération 3\n"
     ]
    }
   ],
   "source": [
    "for i in range(4):\n",
    "    print(\"Itération\", i)"
   ]
  },
  {
   "cell_type": "code",
   "execution_count": 2,
   "metadata": {},
   "outputs": [
    {
     "name": "stdout",
     "output_type": "stream",
     "text": [
      "Itération 0\n",
      "Itération 1\n",
      "Itération 2\n",
      "Itération 3\n",
      "Itération 4\n"
     ]
    }
   ],
   "source": [
    "for i in range(5):\n",
    "    print(\"Itération\", i)"
   ]
  },
  {
   "cell_type": "code",
   "execution_count": 3,
   "metadata": {},
   "outputs": [
    {
     "name": "stdout",
     "output_type": "stream",
     "text": [
      "Avant la boucle\n",
      "Après la boucle\n"
     ]
    }
   ],
   "source": [
    "print(\"Avant la boucle\")\n",
    "for i in range(-2):\n",
    "    print(\"Itération\", i)\n",
    "print(\"Après la boucle\")"
   ]
  },
  {
   "cell_type": "markdown",
   "metadata": {},
   "source": [
    "### Version avec deux arguments\n",
    "\n",
    "* ```range(a, b)``` : séquence d'entiers de ```a``` à ```b - 1``` de 1 en 1\n",
    "* Si $a \\geq b$, la séquence est vide\n",
    "* ```a``` et / ou ```b``` peuvent être négatif\n",
    "* Utilisation avec ```for``` : \"faire / répéter pour toute valeur de $a$ à $b$ exclu\""
   ]
  },
  {
   "cell_type": "code",
   "execution_count": 4,
   "metadata": {},
   "outputs": [
    {
     "name": "stdout",
     "output_type": "stream",
     "text": [
      "Itération 3\n",
      "Itération 4\n",
      "Itération 5\n",
      "Itération 6\n"
     ]
    }
   ],
   "source": [
    "for i in range(3, 7):\n",
    "    print(\"Itération\", i)"
   ]
  },
  {
   "cell_type": "code",
   "execution_count": 5,
   "metadata": {},
   "outputs": [
    {
     "name": "stdout",
     "output_type": "stream",
     "text": [
      "Itération -1\n",
      "Itération 0\n",
      "Itération 1\n",
      "Itération 2\n",
      "Itération 3\n",
      "Itération 4\n"
     ]
    }
   ],
   "source": [
    "for i in range(-1, 5):\n",
    "    print(\"Itération\", i)"
   ]
  },
  {
   "cell_type": "code",
   "execution_count": 6,
   "metadata": {},
   "outputs": [
    {
     "name": "stdout",
     "output_type": "stream",
     "text": [
      "Itération -5\n",
      "Itération -4\n",
      "Itération -3\n"
     ]
    }
   ],
   "source": [
    "for i in range(-5, -2):\n",
    "    print(\"Itération\", i)"
   ]
  },
  {
   "cell_type": "code",
   "execution_count": 7,
   "metadata": {},
   "outputs": [],
   "source": [
    "for i in range(-3, -3):\n",
    "    print(\"Itération\", i)"
   ]
  },
  {
   "cell_type": "code",
   "execution_count": 8,
   "metadata": {},
   "outputs": [],
   "source": [
    "for i in range(10, 0):\n",
    "    print(\"Itération\", i)"
   ]
  },
  {
   "cell_type": "markdown",
   "metadata": {},
   "source": [
    "**Remarque :** ```range(n)``` est équivalent à ```range(0, n)```\n",
    "\n",
    "### Version avec trois arguments\n",
    "\n",
    "* ```range(a, b, k)``` : séquence bornée par ```a``` et ```b``` avec un pas de ```k```$\\neq 0$\n",
    "* Si ```k```> 0, on génère une séquence entre ```a``` et ```b - 1``` "
   ]
  },
  {
   "cell_type": "code",
   "execution_count": 9,
   "metadata": {},
   "outputs": [
    {
     "name": "stdout",
     "output_type": "stream",
     "text": [
      "Itération 0\n",
      "Itération 2\n",
      "Itération 4\n",
      "Itération 6\n",
      "Itération 8\n"
     ]
    }
   ],
   "source": [
    "for i in range(0, 10, 2):\n",
    "    print(\"Itération\", i)"
   ]
  },
  {
   "cell_type": "markdown",
   "metadata": {},
   "source": [
    "* Si ```k``` > 0 et ```a``` $\\geq$ ```b```, la séquence générée est vide."
   ]
  },
  {
   "cell_type": "code",
   "execution_count": 10,
   "metadata": {},
   "outputs": [],
   "source": [
    "for i in range(10, 0, 2):\n",
    "    print(\"Itération\", i)"
   ]
  },
  {
   "cell_type": "markdown",
   "metadata": {},
   "source": [
    "* Si ```k``` < 0, la séquence générée est décroissante de ```a``` à ```b+1```."
   ]
  },
  {
   "cell_type": "code",
   "execution_count": 11,
   "metadata": {},
   "outputs": [
    {
     "name": "stdout",
     "output_type": "stream",
     "text": [
      "Itération -10\n",
      "Itération -13\n",
      "Itération -16\n",
      "Itération -19\n"
     ]
    }
   ],
   "source": [
    "for i in range(-10, -20, -3):\n",
    "    print(\"Itération\", i)"
   ]
  },
  {
   "cell_type": "markdown",
   "metadata": {},
   "source": [
    "* Si ```k``` < 0 et ```a``` $\\leq$ ```b```, la séquence générée est vide."
   ]
  },
  {
   "cell_type": "code",
   "execution_count": 12,
   "metadata": {},
   "outputs": [],
   "source": [
    "for i in range(-20, -10, -3):\n",
    "    print(\"Itération\", i)"
   ]
  },
  {
   "cell_type": "markdown",
   "metadata": {},
   "source": [
    "**Remarques :**\n",
    "\n",
    "* ```range(n)``` est équivalent à ```range(0, n, 1)```\n",
    "* ```range(a, b)``` est équivalent à ```range(a, b, 1)``` \n",
    "\n",
    "## Exemple : factoriel\n",
    "\n",
    "$n! = n\\times (n-1) \\times (n-2) \\times \\dots \\times 1$"
   ]
  },
  {
   "cell_type": "code",
   "execution_count": 13,
   "metadata": {},
   "outputs": [],
   "source": [
    "def factoriel(n):\n",
    "    res = 1 # réponse pour n = 0 ou n = 1\n",
    "\n",
    "    for k in range(2, n+1): # Il faut aller jusque n inclus\n",
    "        res = k*res\n",
    "\n",
    "    return res"
   ]
  },
  {
   "cell_type": "markdown",
   "metadata": {},
   "source": [
    "## Exercices\n",
    "\n",
    "### Exercice 1 : comptage\n",
    "\n",
    "Écrire un programme qui demande un entier $n$ à l'utilisateur. Ensuite le programme génère $n$ entiers aléatoires entre -10 et 10. On souhaite afficher à la fin le nombre d'entiers positifs et le nombre d'entiers négatifs générés."
   ]
  },
  {
   "cell_type": "code",
   "execution_count": 14,
   "metadata": {},
   "outputs": [
    {
     "ename": "ValueError",
     "evalue": "invalid literal for int() with base 10: ''",
     "output_type": "error",
     "traceback": [
      "\u001b[0;31m---------------------------------------------------------------------------\u001b[0m",
      "\u001b[0;31mValueError\u001b[0m                                Traceback (most recent call last)",
      "\u001b[0;32m<ipython-input-14-9267b845ef03>\u001b[0m in \u001b[0;36m<module>\u001b[0;34m\u001b[0m\n\u001b[1;32m     13\u001b[0m     \u001b[0mprint\u001b[0m\u001b[0;34m(\u001b[0m\u001b[0;34m\"Le nombre totale de possitifs est de :\"\u001b[0m\u001b[0;34m,\u001b[0m\u001b[0mcomp_posi\u001b[0m\u001b[0;34m)\u001b[0m\u001b[0;34m\u001b[0m\u001b[0;34m\u001b[0m\u001b[0m\n\u001b[1;32m     14\u001b[0m \u001b[0;34m\u001b[0m\u001b[0m\n\u001b[0;32m---> 15\u001b[0;31m \u001b[0mn\u001b[0m \u001b[0;34m=\u001b[0m \u001b[0mint\u001b[0m\u001b[0;34m(\u001b[0m\u001b[0minput\u001b[0m\u001b[0;34m(\u001b[0m\u001b[0;34m\"Donner la valeur d'un entier :\"\u001b[0m\u001b[0;34m)\u001b[0m\u001b[0;34m)\u001b[0m\u001b[0;34m\u001b[0m\u001b[0;34m\u001b[0m\u001b[0m\n\u001b[0m\u001b[1;32m     16\u001b[0m \u001b[0mcalcule\u001b[0m\u001b[0;34m(\u001b[0m\u001b[0mn\u001b[0m\u001b[0;34m)\u001b[0m\u001b[0;34m\u001b[0m\u001b[0;34m\u001b[0m\u001b[0m\n",
      "\u001b[0;31mValueError\u001b[0m: invalid literal for int() with base 10: ''"
     ]
    }
   ],
   "source": [
    "import random\n",
    "\n",
    "def calcule (x):\n",
    "    comp_posi = 0\n",
    "    comp_néga = 0\n",
    "    for i in range(x):\n",
    "        t = print(\"Le nombre aléatoire entre -10 et 10 :\", random.randint(-10, 10))\n",
    "    if t < 0 :\n",
    "        comp_néga = comp_néga + 1\n",
    "    elif t > 0:\n",
    "        comp_posi = comp_posi + 1\n",
    "    print(\"Le nombre totale de négatifs est de :\",comp_néga)\n",
    "    print(\"Le nombre totale de possitifs est de :\",comp_posi)\n",
    "\n",
    "n = int(input(\"Donner la valeur d'un entier :\"))\n",
    "calcule(n)\n"
   ]
  },
  {
   "cell_type": "markdown",
   "metadata": {},
   "source": [
    "### Exercice 2 : accumulation systématique\n",
    "\n",
    "Écrire un programme qui demande un entier $n$ à l'utilisateur. Ensuite le programme génère $n$ entiers aléatoires entre -10 et 10. On souhaite afficher à la fin la somme des entiers générés."
   ]
  },
  {
   "cell_type": "code",
   "execution_count": null,
   "metadata": {},
   "outputs": [
    {
     "name": "stdout",
     "output_type": "stream",
     "text": [
      "La somme des entiers générés non nul sont : -18\n"
     ]
    }
   ],
   "source": [
    "import random\n",
    "\n",
    "def prod (x):\n",
    "    res = 0\n",
    "    for i in range(x):\n",
    "        x = random.randint(-10, 10)\n",
    "        print(\"pour vérifier :\",r)\n",
    "        res = res + x\n",
    "    print (\"La somme des entiers générés sont :\", res)\n",
    "\n",
    "n = int(input(\"Donner la valeur d'un entier :\"))\n",
    "prod(n)\n"
   ]
  },
  {
   "cell_type": "markdown",
   "metadata": {},
   "source": [
    "### Exercice 3 : accumulation sélective\n",
    "\n",
    "Écrire un programme qui demande un entier $n$ à l'utilisateur. Ensuite le programme génère $n$ entiers aléatoires entre -10 et 10. On souhaite afficher à la fin le produit des entiers positifs non nuls."
   ]
  },
  {
   "cell_type": "code",
   "execution_count": null,
   "metadata": {},
   "outputs": [
    {
     "name": "stdout",
     "output_type": "stream",
     "text": [
      "Le produit des entiers générés non nul sont : 72\n"
     ]
    }
   ],
   "source": [
    "import random\n",
    "\n",
    "def prod (x):\n",
    "    res = 1\n",
    "    for i in range(x):\n",
    "        r = random.randint(-10, 10)\n",
    "        print(\"pour vérifier :\",r)\n",
    "        if r > 0 :\n",
    "            res = res * r\n",
    "    print (\"Le produit des entiers générés non nul sont :\", res)\n",
    "\n",
    "n = int(input(\"Donner la valeur d'un entier :\"))\n",
    "prod(n)\n"
   ]
  },
  {
   "cell_type": "markdown",
   "metadata": {},
   "source": [
    "### Exercice 4 : recherche d'un maximum / minimum\n",
    "\n",
    "Écrire un programme qui demande un entier $n$ à l'utilisateur ainsi que deux entiers $a$ et $b$ tel que $a \\leq b$. Ensuite le programme génère $n$ entiers aléatoires entre $a$ et $b$. \n",
    "\n",
    "1. On souhaite afficher à la fin le plus grand entier généré."
   ]
  },
  {
   "cell_type": "code",
   "execution_count": null,
   "metadata": {},
   "outputs": [
    {
     "name": "stdout",
     "output_type": "stream",
     "text": [
      "pour vérifier : 2\n",
      "pour vérifier : 7\n",
      "pour vérifier : 9\n",
      "pour vérifier : 1\n",
      "pour vérifier : 6\n",
      "pour vérifier : 4\n",
      "pour vérifier : 3\n",
      "pour vérifier : 1\n",
      "pour vérifier : 9\n",
      "La valeur la plus grande de l'intervalle est : 9\n"
     ]
    }
   ],
   "source": [
    "def ran (x, y, z):\n",
    "    res = 0\n",
    "    for i in range(x):\n",
    "        r = random.randint(y, z)\n",
    "        print(\"pour vérifier :\",r)\n",
    "        if r > res:\n",
    "            res = r\n",
    "    print(\"La valeur la plus grande de l'intervalle est :\", res)\n",
    "\n",
    "n = int(input(\"Donner la valeur d'un entier :\"))\n",
    "a = int(input(\"Donner la valeur de poids faible de l'intervalle :\"))\n",
    "b = int(input(\"Donner la valeur de poids fort de l'intervalle :\"))\n",
    "\n",
    "ran(n, a, b)"
   ]
  },
  {
   "cell_type": "markdown",
   "metadata": {},
   "source": [
    "2. Comment modifier le programme pour afficher à la fin le plus petit entier généré ?"
   ]
  },
  {
   "cell_type": "code",
   "execution_count": null,
   "metadata": {},
   "outputs": [
    {
     "name": "stdout",
     "output_type": "stream",
     "text": [
      "pour vérifier : 55\n",
      "pour vérifier : 78\n",
      "pour vérifier : 67\n",
      "pour vérifier : 54\n",
      "pour vérifier : 30\n",
      "La valeur la plus petite de l'intervalle est : 30\n"
     ]
    }
   ],
   "source": [
    "def ran (x, y, z):\n",
    "    res = z + 1\n",
    "    for i in range(x):\n",
    "        r = random.randint(y, z)\n",
    "        print(\"pour vérifier :\",r)\n",
    "        if r < res:\n",
    "            res = r\n",
    "    print(\"La valeur la plus petite de l'intervalle est :\", res)\n",
    "\n",
    "n = int(input(\"Donner la valeur d'un entier :\"))\n",
    "a = int(input(\"Donner la valeur de poids faible de l'intervalle :\"))\n",
    "b = int(input(\"Donner la valeur de poids fort de l'intervalle :\"))\n",
    "\n",
    "ran(n, a, b)"
   ]
  },
  {
   "cell_type": "markdown",
   "metadata": {},
   "source": [
    "### Exercice 5 : boucles ```for``` imbriquées\n",
    "\n",
    "**Indication :** il est interdit d'utiliser l'opérateur de répétition ```*``` des chaînes de caractères\n",
    "\n",
    "**Indication :** il est possible d'utiliser la fonction ```print``` sans l'ajout automatique du retour à la ligne, par exemple : ```print(\"George\", end='')```\n",
    "\n",
    "**Indication :** ```print()``` permet de faire un retour à la ligne\n",
    "\n",
    "**Bonne pratique :** même lorsque l'on n'est pas obligé par ce que l'on veut coder, il est recommandé d'utiliser une autre variable de boucle à chaque boucle ```for``` imbriquée.\n",
    "\n",
    "**Exemple de deux boucles ```for``` imbriquées :**"
   ]
  },
  {
   "cell_type": "code",
   "execution_count": null,
   "metadata": {},
   "outputs": [
    {
     "name": "stdout",
     "output_type": "stream",
     "text": [
      "Itération 0 : 0 1 2 3 4 5 6 7 8 9 \n",
      "Itération 1 : 0 1 2 3 4 5 6 7 8 9 \n",
      "Itération 2 : 0 1 2 3 4 5 6 7 8 9 \n",
      "Itération 3 : 0 1 2 3 4 5 6 7 8 9 \n",
      "Itération 4 : 0 1 2 3 4 5 6 7 8 9 \n"
     ]
    }
   ],
   "source": [
    "for i in range(5):\n",
    "    print(\"Itération\", i, \": \", end='')\n",
    "    for j in range(10):\n",
    "        print(j, end='')\n",
    "        print(\" \", end='')\n",
    "    print()"
   ]
  },
  {
   "cell_type": "markdown",
   "metadata": {},
   "source": [
    "\n",
    "1. Ecrire une fonction ```affiche_carré(n)``` qui affiche un carré comme dans l'exemple ci-dessous pour ```n``` = 5 :\n",
    "\n",
    "OOOOO\n",
    "\n",
    "OOOOO\n",
    "\n",
    "OOOOO\n",
    "\n",
    "OOOOO\n",
    "\n",
    "OOOOO"
   ]
  },
  {
   "cell_type": "code",
   "execution_count": null,
   "metadata": {},
   "outputs": [
    {
     "name": "stdout",
     "output_type": "stream",
     "text": [
      "00000\n",
      "00000\n",
      "00000\n",
      "00000\n",
      "00000\n"
     ]
    }
   ],
   "source": [
    "def affiche_carré(n):\n",
    "    for i in range (n):\n",
    "        for i in range (n):\n",
    "            print(\"0\", end='')\n",
    "        print(\"\")\n",
    "\n",
    "affiche_carré(5)"
   ]
  },
  {
   "cell_type": "markdown",
   "metadata": {},
   "source": [
    "2. Ecrire une fonction ```affiche_diagonale(n)``` qui affiche un carré comme dans l'exemple ci-dessous pour ```n``` = 5 :\n",
    "\n",
    "XOOOO\n",
    "\n",
    "OXOOO\n",
    "\n",
    "OOXOO\n",
    "\n",
    "OOOXO\n",
    "\n",
    "OOOOX"
   ]
  },
  {
   "cell_type": "code",
   "execution_count": null,
   "metadata": {},
   "outputs": [
    {
     "name": "stdout",
     "output_type": "stream",
     "text": [
      "X0000\n",
      "0X000\n",
      "00X00\n",
      "000X0\n",
      "0000X\n"
     ]
    }
   ],
   "source": [
    "def affiche_diagonale(n):\n",
    "    t = -1\n",
    "    for i in range (n):\n",
    "        t = t + 1\n",
    "        for j in range (n):\n",
    "            if j == t:\n",
    "            #if j == i:\n",
    "                print(\"X\", end='')\n",
    "            else :\n",
    "                print(\"0\", end='')\n",
    "        print(\"\")\n",
    "affiche_diagonale(5)"
   ]
  },
  {
   "cell_type": "markdown",
   "metadata": {},
   "source": [
    "3. Ecrire une fonction ```affiche_triangle(n)``` qui affiche un triangle comme dans l'exemple ci-dessous pour ```n``` = 5 :\n",
    "\n",
    "O\n",
    "\n",
    "OO\n",
    "\n",
    "OOO\n",
    "\n",
    "OOOO\n",
    "\n",
    "OOOOO"
   ]
  },
  {
   "cell_type": "code",
   "execution_count": null,
   "metadata": {},
   "outputs": [
    {
     "name": "stdout",
     "output_type": "stream",
     "text": [
      "0\n",
      "00\n",
      "000\n",
      "0000\n",
      "00000\n"
     ]
    }
   ],
   "source": [
    "def affiche_triangle(n):\n",
    "    t = 0\n",
    "    for i in range (n):\n",
    "        t = t + 1\n",
    "        #for j in range (i):\n",
    "        for j in range (t):\n",
    "            print(\"0\", end='')\n",
    "        print(\"\")\n",
    "affiche_triangle(5)"
   ]
  },
  {
   "cell_type": "markdown",
   "metadata": {},
   "source": [
    "4. Ecrire une fonction ```somme_carré(n)``` qui affiche les entiers $i, j, k$ tel que $0 < j \\leq i < k \\leq n$ et $i^2 + j^2 = k^2$. Par exemple, ```somme_carré(27)``` affiche :\n",
    "   \n",
    "4, 3, 5\n",
    "\n",
    "8, 6, 10\n",
    "\n",
    "12, 5, 13\n",
    "\n",
    "12, 9, 15\n",
    "\n",
    "15, 8, 17\n",
    "\n",
    "16, 12, 20\n",
    "\n",
    "20, 15, 25\n",
    "\n",
    "24, 7, 25\n",
    "\n",
    "24, 10, 26"
   ]
  },
  {
   "cell_type": "code",
   "execution_count": null,
   "metadata": {},
   "outputs": [],
   "source": [
    "def somme_carré(n):\n",
    "    for i in range (1,n):\n",
    "        for j in range (j, n+1):\n",
    "            for k in range (i, n):\n",
    "\n",
    "\n",
    "\n",
    "somme_carré(27)"
   ]
  },
  {
   "cell_type": "markdown",
   "metadata": {},
   "source": [
    "# Instruction / boucle ```while```\n",
    "\n",
    "## Principe\n",
    "\n",
    "* La boucle ```while``` permet de traduire l'idée de répéter un bloc d'instructions **tant qu'une condition est vérifiée**.\n",
    "* Syntaxe :\n",
    "```\n",
    "while <condition>:\n",
    "    <bloc d'instructions>\n",
    "```\n",
    "* Interprétation : \"Tant que la condition est vérifiée faire ...\"\n",
    "* La condition est une expression booléenne\n",
    "* On ne connaît donc par a priori le nombre d'itérations\n",
    "* **Attention** à l'indentation du bloc d'instructions\n",
    "* **Attention :** il faut s'assurer que la condition devient faux à un moment ou la boucle ne s'arrêtera pas."
   ]
  },
  {
   "cell_type": "code",
   "execution_count": null,
   "metadata": {},
   "outputs": [
    {
     "name": "stdout",
     "output_type": "stream",
     "text": [
      "10\n",
      "9\n",
      "8\n",
      "7\n",
      "6\n",
      "5\n",
      "4\n",
      "3\n",
      "2\n",
      "1\n",
      "Boom !\n"
     ]
    }
   ],
   "source": [
    "def compte_à_rebours(n):\n",
    "    while n > 0:\n",
    "        print(n)\n",
    "        n = n - 1\n",
    "    print(\"Boom !\")\n",
    "\n",
    "compte_à_rebours(10)"
   ]
  },
  {
   "cell_type": "markdown",
   "metadata": {},
   "source": [
    "## Intérêt de ```while``` par rapport à ```for```\n",
    "\n",
    "La fonction ```compte_à_rebours``` peut s'écrire aussi avec une boucle ```for``` :"
   ]
  },
  {
   "cell_type": "code",
   "execution_count": null,
   "metadata": {},
   "outputs": [
    {
     "name": "stdout",
     "output_type": "stream",
     "text": [
      "10\n",
      "9\n",
      "8\n",
      "7\n",
      "6\n",
      "5\n",
      "4\n",
      "3\n",
      "2\n",
      "1\n",
      "Boom !\n"
     ]
    }
   ],
   "source": [
    "def compte_à_rebours_for(n):\n",
    "    for i in range(n, 0, -1):\n",
    "        print(i)\n",
    "    print(\"Boom !\")\n",
    "\n",
    "compte_à_rebours_for(10)"
   ]
  },
  {
   "cell_type": "markdown",
   "metadata": {},
   "source": [
    "Il est toujours possible de réécrire une boucle ```for``` en une boucle ```while``` :\n",
    "\n",
    "```\n",
    "for i in range(a, b, pas):\n",
    "    bloc()\n",
    "```\n",
    "\n",
    "devient\n",
    "\n",
    "```\n",
    "i = a\n",
    "while i < b:\n",
    "    bloc()\n",
    "    i = i + pas\n",
    "```\n",
    "\n",
    "Cependant dans ces cas, il faut mieux utiliser une boucle ```for``` pour améliorer la lisibilité du corps.\n",
    "\n",
    "Si on ne connaît pas a priori le nombre d'itérations à faire, on est obligé d'utiliser une boucle ```while```. Considérons la suite de Syracuse définie pour $m > 0$ de la manière suivante :\n",
    "\n",
    "$$\n",
    "\\begin{cases}\n",
    "u_0 = m \\\\\n",
    "u_{n+1} = \\frac{u_n}{2} & \\text{si } u_n \\text{ est pair} \\\\\n",
    "u_{n+1} = 3u_n + 1 & \\text{si } u_n \\text{ est impair}\n",
    "\\end{cases}\n",
    "$$\n",
    "\n",
    "Par exemple pour $m = 9$ : \n",
    "\n",
    "9, 28, 14, 7, 22, 11, 34, 17, 52, 26, 13, 40, 20, 10, 5, 16, 8, 4, 2, 1, 4, 2, 1, 4, 2, 1 ... (cycle 4, 2, 1)\n",
    "\n",
    "**Conjecture de Collatz :** quelque soit la valeur de $m$ initiale, la suite atteint toujours la valeur 1 et cycle sur les valeurs 4, 2, 1.\n",
    "\n",
    "On souhaite écrire une fonction qui retourne le rang (le nombre d'itérations) qu'il faut pour atteindre 1 pour un $m$ donné.\n",
    "\n",
    "On ne peut pas utiliser une boucle ```for``` car on ne connaît pas le nombre d'itérations (sinon on aurait répondu à la conjecture)."
   ]
  },
  {
   "cell_type": "code",
   "execution_count": null,
   "metadata": {},
   "outputs": [],
   "source": [
    "def syracuse_suivant(t):\n",
    "    if t%2 == 0:\n",
    "        return t // 2\n",
    "    else:\n",
    "        return 3*t + 1\n",
    "\n",
    "def rang_du_terme_1(m):\n",
    "    terme = m\n",
    "    rang = 0 # résultat à déterminer\n",
    "\n",
    "    while terme != 1:\n",
    "        terme = syracuse_suivant(terme)\n",
    "        rang = rang + 1\n",
    "\n",
    "    return rang"
   ]
  },
  {
   "cell_type": "markdown",
   "metadata": {},
   "source": [
    "## Exercice \n",
    "\n",
    "### Exercice 1\n",
    "\n",
    "Ecrivez un programme qui demande à l'utilisateur d'entrer un nombre entre 0 et 20. Si l'utilisateur entre un nombre qui n'est pas entre 0 et 20, il faut lui redemander d'entrer un entier. "
   ]
  },
  {
   "cell_type": "code",
   "execution_count": null,
   "metadata": {},
   "outputs": [
    {
     "name": "stdout",
     "output_type": "stream",
     "text": [
      "Veuillez redonné une valeur qui est comprise entre 0 et 20\n",
      "Enfin, félicitations\n"
     ]
    }
   ],
   "source": [
    "x = int(input(\"Entrez un entier :\"))\n",
    "if x > 0 and x < 20:\n",
    "    print (\"Félicitations\")\n",
    "else:\n",
    "    while (x < 0 or x > 20):\n",
    "        print(\"Veuillez redonné une valeur qui est comprise entre 0 et 20\")\n",
    "        x = int(input(\"Entrez un entier :\"))\n",
    "    print (\"Enfin, félicitations\")\n"
   ]
  },
  {
   "cell_type": "markdown",
   "metadata": {},
   "source": [
    "### Exercice 2\n",
    "\n",
    "Ecrire un programme qui lit des entiers jusqu'à ce que l'utilisateur entre 0. Il affiche ensuite la somme des nombres négatifs, la somme des nombres positifs, la moyenne des nombres positifs, la moyenne des nombres négatifs, le plus grand entier saisi et le plus petit entier saisi. On ne prendra pas en compte le 0 qui interrompt la saisie. Dans le cas des moyennes, on se protégera de la division par 0.  "
   ]
  },
  {
   "cell_type": "code",
   "execution_count": null,
   "metadata": {},
   "outputs": [
    {
     "name": "stdout",
     "output_type": "stream",
     "text": [
      "La somme des nombres négatifs est : 0\n",
      "La somme des nombres possitifs est : 31\n",
      "La moyenne des nombres possitifs est : 5.166666666666667\n",
      "La valeur la plus faible est : 5\n",
      "La valeur la plus forte est : 6\n"
     ]
    }
   ],
   "source": [
    "n_nega = 0\n",
    "compteur_nega = 0\n",
    "n_posi = 0\n",
    "compteur_posi = 0\n",
    "b_max = 0\n",
    "b_min = 0\n",
    "v_max = 0 \n",
    "v_min = 0\n",
    "\n",
    "c = int(input(\"Entrez un chiffre :\"))\n",
    "b_max = c \n",
    "b_min = c \n",
    "\n",
    "while (c != 0):\n",
    "    if c < 0:\n",
    "        n_nega = n_nega + c\n",
    "        compteur_nega = compteur_nega + 1\n",
    "    if c > 0: \n",
    "        n_posi = n_posi + c\n",
    "        compteur_posi = compteur_posi + 1\n",
    "    if c >= b_max :\n",
    "        v_max = c\n",
    "    if c <= b_min :\n",
    "        v_min = c\n",
    "    c = int(input(\"Entrez un chiffre :\"))\n",
    "\n",
    "print(\"La somme des nombres négatifs est :\", n_nega)\n",
    "print(\"La somme des nombres possitifs est :\", n_posi)\n",
    "if compteur_posi != 0:\n",
    "    print(\"La moyenne des nombres possitifs est :\", n_posi / compteur_posi)\n",
    "if compteur_nega != 0:\n",
    "    print(\"La moyenne des nombres négatifs est :\", n_nega / compteur_nega)\n",
    "print(\"La valeur la plus faible est :\", v_min)\n",
    "print(\"La valeur la plus forte est :\", v_max)\n",
    "    \n",
    "    \n"
   ]
  },
  {
   "cell_type": "markdown",
   "metadata": {},
   "source": [
    "### Exercice 3\n",
    "\n",
    "Dans cet exercice et le suivant, on considère que des entiers positifs en base 10. Vous pouvez utilisez les fonctions suivantes pour récupérer à partie d'un entier $n \\geq 0$ le chiffre le plus à gauche et l'entier obtenu en supprimant le chiffre le plus à gauche."
   ]
  },
  {
   "cell_type": "code",
   "execution_count": null,
   "metadata": {},
   "outputs": [
    {
     "name": "stdout",
     "output_type": "stream",
     "text": [
      "chiffre_droite(523) = 3\n",
      "pop_gauche(523) = 52\n",
      "chiffre_droite(5) = 5\n",
      "pop_gauche(5) = 0\n",
      "chiffre_droite(0) = 0\n",
      "pop_gauche(0) = 0\n"
     ]
    }
   ],
   "source": [
    "def chiffre_droite(n):\n",
    "    return n % 10\n",
    "\n",
    "def pop_gauche(n):\n",
    "    return n // 10\n",
    "\n",
    "print(\"chiffre_droite(523) =\", chiffre_droite(523))\n",
    "print(\"pop_gauche(523) =\", pop_gauche(523))\n",
    "print(\"chiffre_droite(5) =\", chiffre_droite(5))\n",
    "print(\"pop_gauche(5) =\", pop_gauche(5))\n",
    "print(\"chiffre_droite(0) =\", chiffre_droite(0))\n",
    "print(\"pop_gauche(0) =\", pop_gauche(0))"
   ]
  },
  {
   "cell_type": "markdown",
   "metadata": {},
   "source": [
    "Ecrivez une fonction ```somme(n)```qui retourne l'entier obtenu en sommant les chiffres de ```n```. Par exemple, ```somme(523)``` retourne 10."
   ]
  },
  {
   "cell_type": "code",
   "execution_count": null,
   "metadata": {},
   "outputs": [
    {
     "name": "stdout",
     "output_type": "stream",
     "text": [
      "La somme est de 10\n"
     ]
    }
   ],
   "source": [
    "def somme (n): \n",
    "    val = 0 \n",
    "    while (n != 0):\n",
    "        val = val + chiffre_droite(n)\n",
    "        n = pop_gauche(n)\n",
    "    print(\"La somme est de\",val)\n",
    "\n",
    "\n",
    "somme(523)"
   ]
  },
  {
   "cell_type": "markdown",
   "metadata": {},
   "source": [
    "### Exercice 4\n",
    "\n",
    "Ecrivez une fonction ```miroir(n)``` (on suppose que ```n``` ne comporte pas de chiffre 0) qui retourne un entier correspondant à l'écriture inversée de ```n```. Par exemple, ```miroir(432)``` retourne 234."
   ]
  },
  {
   "cell_type": "code",
   "execution_count": null,
   "metadata": {},
   "outputs": [
    {
     "data": {
      "text/plain": [
       "234"
      ]
     },
     "execution_count": 7,
     "metadata": {},
     "output_type": "execute_result"
    }
   ],
   "source": [
    "def miroir(n):\n",
    "    res = 0\n",
    "    val = 0\n",
    "    while (n != 0):\n",
    "        val = chiffre_droite(n)\n",
    "        res = val +10 * res\n",
    "        n = pop_gauche(n)\n",
    "    return res\n",
    "miroir(432)\n"
   ]
  },
  {
   "cell_type": "markdown",
   "metadata": {},
   "source": [
    "### Exercice 5\n",
    "\n",
    "Il s’agit de programmer un jeu qui :\n",
    "\n",
    "* fait choisir à l’ordinateur un nombre mystère compris entre 1 et 100 en utilisant un générateur pseudo-aléatoire ;\n",
    "* demande à un utilisateur d'entrer un nombre ;\n",
    "* compare la réponse de l’utilisateur avec le nombre mystère :\n",
    "* si la réponse est égale au nombre mystère, affiche \"gagné\" ;\n",
    "* si la réponse est strictement inférieure au nombre mystère, affiche \"plus\" ; \n",
    "* si la réponse est strictement supérieure au nombre mystère, affiche \"moins\" ;\n",
    "* recommence jusqu’à ce que l’utilisateur ait trouvé le nombre mystère ou ait fait 7 tentatives;\n",
    "* affiche le score qui est 7 moins le nombre d’essais pour trouver le nombre mystère. \n",
    "* Si l’utilisateur n’a pas trouvé le nombre mystère, il faut l’afficher.\n",
    "\n",
    "1. Ecrire une fonction qui permet de jouer au jeu tel que décrit ci-dessus."
   ]
  },
  {
   "cell_type": "code",
   "execution_count": null,
   "metadata": {},
   "outputs": [
    {
     "name": "stdout",
     "output_type": "stream",
     "text": [
      "Plus !\n",
      "Plus !\n",
      "Plus !\n",
      "Plus !\n",
      "Plus !\n",
      "Plus !\n",
      "Plus !\n",
      "Les 7 tentative on échouer, le vrai chiffre était 75\n"
     ]
    }
   ],
   "source": [
    "import random \n",
    "\n",
    "def juste_prix (x):\n",
    "    test = 7\n",
    "    pseudo = random.randint(0, 100)\n",
    "    \n",
    "    while (pseudo != x):\n",
    "        if test == 0:\n",
    "            print(\"Les 7 tentative on échouer, le vrai chiffre était\",pseudo)\n",
    "            break\n",
    "        elif x < pseudo:\n",
    "            print(\"Plus !\")\n",
    "            test = test - 1\n",
    "        elif x > pseudo:\n",
    "            print (\"Moins !\")\n",
    "            test = test - 1\n",
    "        x = int(input(\"Entrez un autre nombre :\"))\n",
    "        if x == pseudo:\n",
    "            print (\"Gagné !!, il vous restez encore\",test,\"tentatives\")\n",
    "            break\n",
    "\n",
    "x = int(input(\"Entrez un nombre :\"))\n",
    "juste_prix(x)\n",
    "\n",
    "\n",
    "\n",
    "    "
   ]
  },
  {
   "cell_type": "markdown",
   "metadata": {},
   "source": [
    "2. Modifiez votre fonction pour qu'elle soit paramétrée par le nombre maximum d'essais et les bornes du nombres mystères."
   ]
  },
  {
   "cell_type": "code",
   "execution_count": null,
   "metadata": {},
   "outputs": [
    {
     "name": "stdout",
     "output_type": "stream",
     "text": [
      "Plus !\n",
      "Plus !\n",
      "Plus !\n",
      "Plus !\n",
      "Plus !\n",
      "Les 5 tentative on échouer, le vrai chiffre était 91\n"
     ]
    }
   ],
   "source": [
    "import random \n",
    "\n",
    "def juste_prix (x, max, test):\n",
    "    pseudo = random.randint(0, max)\n",
    "    atest = test\n",
    "    while (pseudo != x):\n",
    "        if test == 0:\n",
    "            print(\"Les\",atest,\"tentative on échouer, le vrai chiffre était\",pseudo)\n",
    "            break\n",
    "        elif x < pseudo:\n",
    "            print(\"Plus !\")\n",
    "            test = test - 1\n",
    "        elif x > pseudo:\n",
    "            print (\"Moins !\")\n",
    "            test = test - 1\n",
    "        x = int(input(\"Entrez un autre nombre :\"))\n",
    "        if x == pseudo:\n",
    "            print (\"Gagné !!, il vous restez encore\",test,\"tentatives\")\n",
    "            break\n",
    "1\n",
    "max = int(input(\"Donnez la plage maximum pour le jeu :\"))\n",
    "test = int(input(\"Donnez la valeur maximal de test :\"))\n",
    "x = int(input(\"Entrez un nombre :\"))\n",
    "juste_prix(x, max, test)\n",
    "\n",
    "\n",
    "\n",
    "    "
   ]
  }
 ],
 "metadata": {
  "interpreter": {
   "hash": "767d51c1340bd893661ea55ea3124f6de3c7a262a8b4abca0554b478b1e2ff90"
  },
  "kernelspec": {
   "display_name": "Python 3.9.7 64-bit ('base': conda)",
   "name": "python3"
  },
  "language_info": {
   "codemirror_mode": {
    "name": "ipython",
    "version": 3
   },
   "file_extension": ".py",
   "mimetype": "text/x-python",
   "name": "python",
   "nbconvert_exporter": "python",
   "pygments_lexer": "ipython3",
   "version": "3.9.9"
  }
 },
 "nbformat": 4,
 "nbformat_minor": 4
}
