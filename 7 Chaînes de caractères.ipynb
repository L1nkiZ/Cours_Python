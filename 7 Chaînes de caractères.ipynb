{
 "cells": [
  {
   "cell_type": "markdown",
   "metadata": {},
   "source": [
    "# Une chaîne de caractères est une séquence\n",
    "\n",
    "**séquence =** collection ordonnée d'autres valeurs\n",
    "\n",
    "* collection : de 0 à plusieurs valeurs\n",
    "* ordonnée : l'ordre à une importance, par exemple ```\"abba\"``` et ```\"baba``` ne sont pas la même chose\n",
    "* valeur : des caractères $\\rightarrow$ en python, un caractère est une chaîne de caractères de longueur 1.\n",
    "\n",
    "Caractères :\n",
    "\n",
    "* alphabet latin (et d'autres), \n",
    "* lettres accentuées, \n",
    "* chiffres décimaux, \n",
    "* espace, \n",
    "* symboles de ponctuation, \n",
    "* signes arithmétiques, \n",
    "* ponctuations, \n",
    "* symboles de parenthésage\n",
    "* caractères spéciaux préfixés par ```\\``` :\n",
    "  * ```\\n``` : insertion d'un passage à la ligne\n",
    "  * ```\\\"``` : insertion de ```\"``` dans une chaîne délimitée par ```\"```\n",
    "  * ```\\'``` : insertion de ```'``` dans une chaîne délimitée par ```'```\n",
    "  * ```\\\\``` : insertion de ```\\```"
   ]
  },
  {
   "cell_type": "code",
   "execution_count": 1,
   "metadata": {},
   "outputs": [
    {
     "name": "stdout",
     "output_type": "stream",
     "text": [
      "abba\n",
      "baba\n",
      "George Timoléon\n",
      "Une ligne\n",
      "Une seconde ligne\n",
      "Une chaîne avec des \"guillemets\".\n",
      "Une chaîne avec des 'apostrophes'\n",
      "Une chaîne avec trois contre-barres \\\\\\\n",
      "\n"
     ]
    }
   ],
   "source": [
    "print(\"abba\")\n",
    "print(\"baba\")\n",
    "print(\"George Timoléon\")\n",
    "print(\"Une ligne\\nUne seconde ligne\")\n",
    "print(\"Une chaîne avec des \\\"guillemets\\\".\")\n",
    "print('Une chaîne avec des \\'apostrophes\\'')\n",
    "print(\"Une chaîne avec trois contre-barres \\\\\\\\\\\\\")\n",
    "print(\"\") # chaîne de caractères vide"
   ]
  },
  {
   "cell_type": "markdown",
   "metadata": {},
   "source": [
    "# Opérations\n",
    "\n",
    "## Concaténation : `+`\n",
    "\n",
    "L'opération construit une nouvelle chaîne de caractères constituée de l'opérande de gauche suivi de l'opérande de droite.\n",
    "\n",
    "**Attention :** les deux opérandes doivent être des chaînes de caractères"
   ]
  },
  {
   "cell_type": "code",
   "execution_count": 15,
   "metadata": {},
   "outputs": [
    {
     "data": {
      "text/plain": [
       "'HelloWorld'"
      ]
     },
     "execution_count": 15,
     "metadata": {},
     "output_type": "execute_result"
    }
   ],
   "source": [
    "'Hello' + 'World'"
   ]
  },
  {
   "cell_type": "code",
   "execution_count": 16,
   "metadata": {},
   "outputs": [
    {
     "data": {
      "text/plain": [
       "'Hello Word'"
      ]
     },
     "execution_count": 16,
     "metadata": {},
     "output_type": "execute_result"
    }
   ],
   "source": [
    "'Hello' + ' ' + 'Word'"
   ]
  },
  {
   "cell_type": "code",
   "execution_count": 17,
   "metadata": {},
   "outputs": [
    {
     "name": "stdout",
     "output_type": "stream",
     "text": [
      "z = Hello World\n"
     ]
    }
   ],
   "source": [
    "x = 'Hello'\n",
    "y = 'World'\n",
    "z = x + ' ' + y\n",
    "print(\"z = \" + z)"
   ]
  },
  {
   "cell_type": "markdown",
   "metadata": {},
   "source": [
    "## Répétition : `*`\n",
    " \n",
    "L'opération construit une nouvelle chaîne de caractères par concaténations multiples d'une même chaîne.\n",
    "\n",
    "Opération binaire : un opérande doit être une chaîne de caractères et l'autre un entier."
   ]
  },
  {
   "cell_type": "code",
   "execution_count": 2,
   "metadata": {},
   "outputs": [
    {
     "data": {
      "text/plain": [
       "'Hello world!Hello world!Hello world!'"
      ]
     },
     "execution_count": 2,
     "metadata": {},
     "output_type": "execute_result"
    }
   ],
   "source": [
    "\"Hello world!\" * 3"
   ]
  },
  {
   "cell_type": "code",
   "execution_count": 1,
   "metadata": {},
   "outputs": [
    {
     "name": "stdout",
     "output_type": "stream",
     "text": [
      "coucou\n"
     ]
    }
   ],
   "source": [
    "chaîne = \"cou\"\n",
    "entier = 1 \n",
    "print((2 * entier) * chaîne)"
   ]
  },
  {
   "cell_type": "markdown",
   "metadata": {},
   "source": [
    "\n",
    "# Indices\n",
    "\n",
    "Les éléments d'une séquence sont indicés. Le premier élément a l'indice 0, le second l'indice 1 ... Le dernier élément a donc un indice égal à la longueur de la séquence moins 1.\n",
    "\n",
    "**Remarque :** on considérera dans ce cours qu'un indice est nécessaire positif ou nul mais on peut avoir des indices négatif en Python.\n",
    "\n",
    "**Attention :** le premier élément a l'indice 0 et pas 1 !\n",
    "\n",
    "On peut accéder directement à un élément par son indice par une notation indexée utilisant ```[]``` :"
   ]
  },
  {
   "cell_type": "code",
   "execution_count": 20,
   "metadata": {},
   "outputs": [
    {
     "name": "stdout",
     "output_type": "stream",
     "text": [
      "fruit = banane\n",
      "fruit[0] = b\n",
      "fruit[1] = a\n",
      "fruit[2] = n\n",
      "fruit[3] = a\n",
      "fruit[4] = n\n",
      "fruit[5] = e\n"
     ]
    }
   ],
   "source": [
    "fruit = \"banane\"\n",
    "print(\"fruit =\", fruit)\n",
    "print(\"fruit[0] =\", fruit[0])\n",
    "print(\"fruit[1] =\", fruit[1])\n",
    "print(\"fruit[2] =\", fruit[2])\n",
    "print(\"fruit[3] =\", fruit[3])\n",
    "print(\"fruit[4] =\", fruit[4])\n",
    "print(\"fruit[5] =\", fruit[5])"
   ]
  },
  {
   "cell_type": "markdown",
   "metadata": {},
   "source": [
    "L'indice doit être une valeur entière mais on peut aussi utiliser des variables et des expressions arithmétiques qui retournent un entier :"
   ]
  },
  {
   "cell_type": "code",
   "execution_count": 21,
   "metadata": {},
   "outputs": [
    {
     "data": {
      "text/plain": [
       "'a'"
      ]
     },
     "execution_count": 21,
     "metadata": {},
     "output_type": "execute_result"
    }
   ],
   "source": [
    "i = 1\n",
    "fruit[i]"
   ]
  },
  {
   "cell_type": "code",
   "execution_count": 22,
   "metadata": {},
   "outputs": [
    {
     "data": {
      "text/plain": [
       "'n'"
      ]
     },
     "execution_count": 22,
     "metadata": {},
     "output_type": "execute_result"
    }
   ],
   "source": [
    "fruit[i+1]"
   ]
  },
  {
   "cell_type": "code",
   "execution_count": 23,
   "metadata": {},
   "outputs": [
    {
     "ename": "TypeError",
     "evalue": "string indices must be integers",
     "output_type": "error",
     "traceback": [
      "\u001b[0;31m---------------------------------------------------------------------------\u001b[0m",
      "\u001b[0;31mTypeError\u001b[0m                                 Traceback (most recent call last)",
      "\u001b[0;32m<ipython-input-23-bf9cc58e8398>\u001b[0m in \u001b[0;36m<module>\u001b[0;34m\u001b[0m\n\u001b[0;32m----> 1\u001b[0;31m \u001b[0mfruit\u001b[0m\u001b[0;34m[\u001b[0m\u001b[0;36m1.5\u001b[0m\u001b[0;34m]\u001b[0m\u001b[0;34m\u001b[0m\u001b[0;34m\u001b[0m\u001b[0m\n\u001b[0m",
      "\u001b[0;31mTypeError\u001b[0m: string indices must be integers"
     ]
    }
   ],
   "source": [
    "fruit[1.5]"
   ]
  },
  {
   "cell_type": "code",
   "execution_count": 24,
   "metadata": {},
   "outputs": [
    {
     "ename": "IndexError",
     "evalue": "string index out of range",
     "output_type": "error",
     "traceback": [
      "\u001b[0;31m---------------------------------------------------------------------------\u001b[0m",
      "\u001b[0;31mIndexError\u001b[0m                                Traceback (most recent call last)",
      "\u001b[0;32m<ipython-input-24-d0e74364f7f5>\u001b[0m in \u001b[0;36m<module>\u001b[0;34m\u001b[0m\n\u001b[0;32m----> 1\u001b[0;31m \u001b[0mfruit\u001b[0m\u001b[0;34m[\u001b[0m\u001b[0;36m9\u001b[0m\u001b[0;34m]\u001b[0m\u001b[0;34m\u001b[0m\u001b[0;34m\u001b[0m\u001b[0m\n\u001b[0m",
      "\u001b[0;31mIndexError\u001b[0m: string index out of range"
     ]
    }
   ],
   "source": [
    "fruit[9]"
   ]
  },
  {
   "cell_type": "markdown",
   "metadata": {},
   "source": [
    "Il faut que l'indice soit compris entre 0 et la longueur de la chaîne moins 1 :"
   ]
  },
  {
   "cell_type": "markdown",
   "metadata": {},
   "source": [
    "# Fonction ```len```\n",
    "\n",
    "La fonction définie dans le langage ```len``` retourne la longueur d'une chaîne de caractères\n",
    "\n",
    "**Remarque :** on verra par la suite qu'elle retourne la longueur d'une séquence."
   ]
  },
  {
   "cell_type": "code",
   "execution_count": 25,
   "metadata": {},
   "outputs": [
    {
     "data": {
      "text/plain": [
       "6"
      ]
     },
     "execution_count": 25,
     "metadata": {},
     "output_type": "execute_result"
    }
   ],
   "source": [
    "len(fruit)"
   ]
  },
  {
   "cell_type": "markdown",
   "metadata": {},
   "source": [
    "**Attention :** l'indice du dernier caractère n'est pas la longueur de la chaîne mais la longueur de la chaîne moins 1. Le code suivant lèvera une erreur :"
   ]
  },
  {
   "cell_type": "code",
   "execution_count": 26,
   "metadata": {},
   "outputs": [
    {
     "ename": "IndexError",
     "evalue": "string index out of range",
     "output_type": "error",
     "traceback": [
      "\u001b[0;31m---------------------------------------------------------------------------\u001b[0m",
      "\u001b[0;31mIndexError\u001b[0m                                Traceback (most recent call last)",
      "\u001b[0;32m<ipython-input-26-388bf9eed3ed>\u001b[0m in \u001b[0;36m<module>\u001b[0;34m\u001b[0m\n\u001b[1;32m      1\u001b[0m \u001b[0mlongueur\u001b[0m \u001b[0;34m=\u001b[0m \u001b[0mlen\u001b[0m\u001b[0;34m(\u001b[0m\u001b[0mfruit\u001b[0m\u001b[0;34m)\u001b[0m\u001b[0;34m\u001b[0m\u001b[0;34m\u001b[0m\u001b[0m\n\u001b[0;32m----> 2\u001b[0;31m \u001b[0mdernier\u001b[0m \u001b[0;34m=\u001b[0m \u001b[0mfruit\u001b[0m\u001b[0;34m[\u001b[0m\u001b[0mlongueur\u001b[0m\u001b[0;34m]\u001b[0m\u001b[0;34m\u001b[0m\u001b[0;34m\u001b[0m\u001b[0m\n\u001b[0m",
      "\u001b[0;31mIndexError\u001b[0m: string index out of range"
     ]
    }
   ],
   "source": [
    "longueur = len(fruit)\n",
    "dernier = fruit[longueur]"
   ]
  },
  {
   "cell_type": "markdown",
   "metadata": {},
   "source": [
    "En effet, ```longueur``` vaut 6 et le dernier indice dans ```fruit``` est 5. Pour obtenir l'indice du dernier caractère, il faut retirer 1 à la longueur :"
   ]
  },
  {
   "cell_type": "code",
   "execution_count": 27,
   "metadata": {},
   "outputs": [
    {
     "name": "stdout",
     "output_type": "stream",
     "text": [
      "dernier = e\n"
     ]
    }
   ],
   "source": [
    "dernier = fruit[longueur-1]\n",
    "print(\"dernier =\", dernier)"
   ]
  },
  {
   "cell_type": "markdown",
   "metadata": {},
   "source": [
    "# Parcourir une chaîne de caractères\n",
    "\n",
    "## Itération sur les indices"
   ]
  },
  {
   "cell_type": "code",
   "execution_count": 28,
   "metadata": {},
   "outputs": [
    {
     "name": "stdout",
     "output_type": "stream",
     "text": [
      "chaîne[0] = T\n",
      "chaîne[1] = i\n",
      "chaîne[2] = m\n",
      "chaîne[3] = o\n",
      "chaîne[4] = l\n",
      "chaîne[5] = é\n",
      "chaîne[6] = o\n",
      "chaîne[7] = n\n"
     ]
    }
   ],
   "source": [
    "chaîne = \"Timoléon\"\n",
    "\n",
    "for i in range(len(chaîne)):\n",
    "    print(\"chaîne[\" + str(i) + \"] = \" + chaîne[i])"
   ]
  },
  {
   "cell_type": "markdown",
   "metadata": {},
   "source": [
    "Il y a deux possiblités pour parcourir de la fin vers le début :"
   ]
  },
  {
   "cell_type": "code",
   "execution_count": 29,
   "metadata": {},
   "outputs": [
    {
     "name": "stdout",
     "output_type": "stream",
     "text": [
      "chaîne[7] = n\n",
      "chaîne[6] = o\n",
      "chaîne[5] = é\n",
      "chaîne[4] = l\n",
      "chaîne[3] = o\n",
      "chaîne[2] = m\n",
      "chaîne[1] = i\n",
      "chaîne[0] = T\n"
     ]
    }
   ],
   "source": [
    "for i in range(len(chaîne)):\n",
    "    print(\"chaîne[\" + str(len(chaîne) - 1 - i) + \"] = \" + chaîne[len(chaîne) - 1 - i])"
   ]
  },
  {
   "cell_type": "code",
   "execution_count": 30,
   "metadata": {},
   "outputs": [
    {
     "name": "stdout",
     "output_type": "stream",
     "text": [
      "chaîne[7] = n\n",
      "chaîne[6] = o\n",
      "chaîne[5] = é\n",
      "chaîne[4] = l\n",
      "chaîne[3] = o\n",
      "chaîne[2] = m\n",
      "chaîne[1] = i\n",
      "chaîne[0] = T\n"
     ]
    }
   ],
   "source": [
    "for i in range(len(chaîne) -1, -1, -1): \n",
    "    print(\"chaîne[\" + str(i) + \"] = \" + chaîne[i])"
   ]
  },
  {
   "cell_type": "markdown",
   "metadata": {},
   "source": [
    "**Remarque :** il est possible d'utiliser une boucle ```while```."
   ]
  },
  {
   "cell_type": "markdown",
   "metadata": {},
   "source": [
    "## Application directe d'une boucle ```for```\n",
    "\n",
    "Une chaîne de caractères étant une séquence, il est possible de l'utiliser comme séquence sur laquelle itérer avec une boucle ```for```."
   ]
  },
  {
   "cell_type": "code",
   "execution_count": 31,
   "metadata": {},
   "outputs": [
    {
     "name": "stdout",
     "output_type": "stream",
     "text": [
      "T\n",
      "i\n",
      "m\n",
      "o\n",
      "l\n",
      "é\n",
      "o\n",
      "n\n"
     ]
    }
   ],
   "source": [
    "for c in chaîne:\n",
    "    print(c)"
   ]
  },
  {
   "cell_type": "markdown",
   "metadata": {},
   "source": [
    "**Remarque :** comment choisir entre les deux versions ?\n",
    "* si on a besoin de connaître l'indice du caractères $\\rightarrow$ itérer sur les indices\n",
    "* si on a juste besoin de connaître la valeur du caractères courant $\\rightarrow$ itérer sur la chaîne de caractères\n",
    "\n",
    "**Remarque :** Si on doit itérer sur une \"très\" grande séquence, il vaut mieux itérer sur les indices.\n",
    "\n",
    "# Tranches\n",
    "\n",
    "Une **tranche** est un segment d'une chaîne de caractères défini par deux indices ```n``` et ```m```. \n",
    "\n",
    "```n``` et ```m``` doivent être une valeur entière : littéral, variable, expression arithmétique entière.\n",
    "\n",
    "Il s'agit de la sous-chaîne commençant à l'indice ```n``` et se terminant à l'indice ```m - 1```."
   ]
  },
  {
   "cell_type": "code",
   "execution_count": 32,
   "metadata": {},
   "outputs": [
    {
     "data": {
      "text/plain": [
       "'Monty'"
      ]
     },
     "execution_count": 32,
     "metadata": {},
     "output_type": "execute_result"
    }
   ],
   "source": [
    "chaîne = \"Monty Python\"\n",
    "chaîne[0:5]"
   ]
  },
  {
   "cell_type": "code",
   "execution_count": 33,
   "metadata": {},
   "outputs": [
    {
     "data": {
      "text/plain": [
       "' Python'"
      ]
     },
     "execution_count": 33,
     "metadata": {},
     "output_type": "execute_result"
    }
   ],
   "source": [
    "chaîne[5:12]"
   ]
  },
  {
   "cell_type": "markdown",
   "metadata": {},
   "source": [
    "Si ```n``` $\\geq$ ```m```, la tranche est la chaîne vide."
   ]
  },
  {
   "cell_type": "code",
   "execution_count": 34,
   "metadata": {},
   "outputs": [
    {
     "data": {
      "text/plain": [
       "''"
      ]
     },
     "execution_count": 34,
     "metadata": {},
     "output_type": "execute_result"
    }
   ],
   "source": [
    "chaîne[5:4]"
   ]
  },
  {
   "cell_type": "markdown",
   "metadata": {},
   "source": [
    "Si ```m``` est égal à la longueur de la chaîne, on peut l'omettre. Les trois instructions suivantes sont équivalentes : "
   ]
  },
  {
   "cell_type": "code",
   "execution_count": 35,
   "metadata": {},
   "outputs": [
    {
     "data": {
      "text/plain": [
       "'Python'"
      ]
     },
     "execution_count": 35,
     "metadata": {},
     "output_type": "execute_result"
    }
   ],
   "source": [
    "chaîne[6:12]"
   ]
  },
  {
   "cell_type": "code",
   "execution_count": 36,
   "metadata": {},
   "outputs": [
    {
     "data": {
      "text/plain": [
       "'Python'"
      ]
     },
     "execution_count": 36,
     "metadata": {},
     "output_type": "execute_result"
    }
   ],
   "source": [
    "chaîne[6:len(chaîne)]"
   ]
  },
  {
   "cell_type": "code",
   "execution_count": 37,
   "metadata": {},
   "outputs": [
    {
     "data": {
      "text/plain": [
       "'Python'"
      ]
     },
     "execution_count": 37,
     "metadata": {},
     "output_type": "execute_result"
    }
   ],
   "source": [
    "chaîne[6:]"
   ]
  },
  {
   "cell_type": "markdown",
   "metadata": {},
   "source": [
    "Si ```n``` est égal 0, on peut l'omettre. Les deux instructions suivants sont équivalents :"
   ]
  },
  {
   "cell_type": "code",
   "execution_count": 38,
   "metadata": {},
   "outputs": [
    {
     "data": {
      "text/plain": [
       "'Monty'"
      ]
     },
     "execution_count": 38,
     "metadata": {},
     "output_type": "execute_result"
    }
   ],
   "source": [
    "chaîne[0:5]"
   ]
  },
  {
   "cell_type": "code",
   "execution_count": 39,
   "metadata": {},
   "outputs": [
    {
     "data": {
      "text/plain": [
       "'Monty'"
      ]
     },
     "execution_count": 39,
     "metadata": {},
     "output_type": "execute_result"
    }
   ],
   "source": [
    "chaîne[:5]"
   ]
  },
  {
   "cell_type": "markdown",
   "metadata": {},
   "source": [
    "Par extension, l'instruction suivante retourne une copie de ```chaîne``` :"
   ]
  },
  {
   "cell_type": "code",
   "execution_count": 40,
   "metadata": {},
   "outputs": [
    {
     "data": {
      "text/plain": [
       "'Monty Python'"
      ]
     },
     "execution_count": 40,
     "metadata": {},
     "output_type": "execute_result"
    }
   ],
   "source": [
    "chaîne[:]"
   ]
  },
  {
   "cell_type": "markdown",
   "metadata": {},
   "source": [
    "et elle est équivalente à :"
   ]
  },
  {
   "cell_type": "code",
   "execution_count": 41,
   "metadata": {},
   "outputs": [
    {
     "data": {
      "text/plain": [
       "'Monty Python'"
      ]
     },
     "execution_count": 41,
     "metadata": {},
     "output_type": "execute_result"
    }
   ],
   "source": [
    "chaîne[0:len(chaîne)]"
   ]
  },
  {
   "cell_type": "markdown",
   "metadata": {},
   "source": [
    "\n",
    "# Non mutabilité\n",
    "\n",
    "Il n'est pas possible de modifier un caractère dans une chaîne de caractères.\n",
    "\n",
    "Les chaînes de caractères sont dites non **mutables** (non modifiables)."
   ]
  },
  {
   "cell_type": "code",
   "execution_count": 42,
   "metadata": {},
   "outputs": [
    {
     "ename": "TypeError",
     "evalue": "'str' object does not support item assignment",
     "output_type": "error",
     "traceback": [
      "\u001b[0;31m---------------------------------------------------------------------------\u001b[0m",
      "\u001b[0;31mTypeError\u001b[0m                                 Traceback (most recent call last)",
      "\u001b[0;32m<ipython-input-42-cd5a0c21bf62>\u001b[0m in \u001b[0;36m<module>\u001b[0;34m\u001b[0m\n\u001b[0;32m----> 1\u001b[0;31m \u001b[0mchaîne\u001b[0m\u001b[0;34m[\u001b[0m\u001b[0;36m2\u001b[0m\u001b[0;34m]\u001b[0m \u001b[0;34m=\u001b[0m \u001b[0;34m'J'\u001b[0m\u001b[0;34m\u001b[0m\u001b[0;34m\u001b[0m\u001b[0m\n\u001b[0m",
      "\u001b[0;31mTypeError\u001b[0m: 'str' object does not support item assignment"
     ]
    }
   ],
   "source": [
    "chaîne[2] = 'J'"
   ]
  },
  {
   "cell_type": "markdown",
   "metadata": {},
   "source": [
    "Pour modifier une chaîne de caractères, il faut en reconstruire une nouvelle en appliquant les modifications souhaitées.\n",
    "\n",
    "Remplacement du caractère à l'indice ```i``` par le caractère ```c``` :"
   ]
  },
  {
   "cell_type": "code",
   "execution_count": 43,
   "metadata": {},
   "outputs": [
    {
     "name": "stdout",
     "output_type": "stream",
     "text": [
      "Hello\n"
     ]
    }
   ],
   "source": [
    "def modification(chaîne, indice, caractère):\n",
    "    nouvelle_chaîne = \"\"\n",
    "\n",
    "    for i in range(len(chaîne)):\n",
    "        if i == indice:\n",
    "            nouvelle_chaîne = nouvelle_chaîne + caractère\n",
    "        else:\n",
    "            nouvelle_chaîne = nouvelle_chaîne + chaîne[i]\n",
    "\n",
    "    return nouvelle_chaîne\n",
    "\n",
    "print(modification(\"Hallo\", 1, \"e\"))"
   ]
  },
  {
   "cell_type": "markdown",
   "metadata": {},
   "source": [
    "Remplacer tous les caractères ```c1``` par le caractère ```c2``` :"
   ]
  },
  {
   "cell_type": "code",
   "execution_count": 44,
   "metadata": {},
   "outputs": [
    {
     "name": "stdout",
     "output_type": "stream",
     "text": [
      "valeur de la chaîne\n"
     ]
    }
   ],
   "source": [
    "def remplace(chaîne, c1, c2):\n",
    "    nouvelle_chaîne = \"\"\n",
    "\n",
    "    for c in chaîne:\n",
    "        if c == 1:\n",
    "            nouvelle_chaîne = nouvelle_chaîne + c2\n",
    "        else:\n",
    "            nouvelle_chaîne = nouvelle_chaîne + c\n",
    "\n",
    "    return nouvelle_chaîne\n",
    "\n",
    "print(remplace(\"valeur de la chaîne\", ' ', '_'))"
   ]
  },
  {
   "cell_type": "markdown",
   "metadata": {},
   "source": [
    "# Recherche\n",
    "\n",
    "## Présence d'un caractère dans la chaîne"
   ]
  },
  {
   "cell_type": "code",
   "execution_count": 45,
   "metadata": {},
   "outputs": [
    {
     "name": "stdout",
     "output_type": "stream",
     "text": [
      "A-t'on trouvé le caractère ? True\n"
     ]
    }
   ],
   "source": [
    "chaîne = \"Timoléon\"\n",
    "caractère = 'o'\n",
    "présent = False\n",
    "i = 0\n",
    "\n",
    "while not présent and i < len(chaîne):\n",
    "    if chaîne[i] == caractère:\n",
    "        présent = True\n",
    "    else:\n",
    "        i = i + 1\n",
    "\n",
    "print(\"A-t'on trouvé le caractère ?\", présent)"
   ]
  },
  {
   "cell_type": "markdown",
   "metadata": {},
   "source": [
    "**Remarque :** on arrête de chercher dès que l'on a trouvé le caractère. C'est possible de le faire avec une boucle ```for``` en définissant une fonction et en utilisant ```return``` pour arrêter la recherche dès que le caractère est trouvé :"
   ]
  },
  {
   "cell_type": "code",
   "execution_count": 46,
   "metadata": {},
   "outputs": [],
   "source": [
    "def présent(chaîne, caractère):\n",
    "    for c in chaîne:\n",
    "        if c == caractère:\n",
    "            return True\n",
    "    return False"
   ]
  },
  {
   "cell_type": "markdown",
   "metadata": {},
   "source": [
    "**Remarque :** En Python, l'opérateur ```in``` fait exactement la même chose que la fonction ```présent``` :"
   ]
  },
  {
   "cell_type": "code",
   "execution_count": 47,
   "metadata": {},
   "outputs": [
    {
     "name": "stdout",
     "output_type": "stream",
     "text": [
      "o\n",
      "e\n"
     ]
    }
   ],
   "source": [
    "def dans_les_deux(chaîne1, chaîne2):\n",
    "    for caractère in chaîne1:\n",
    "        if caractère in chaîne2:\n",
    "            print(caractère)\n",
    "\n",
    "dans_les_deux(\"pomme\", \"orange\")"
   ]
  },
  {
   "cell_type": "markdown",
   "metadata": {},
   "source": [
    "## Rechercher l'indice où un caractère apparaît"
   ]
  },
  {
   "cell_type": "code",
   "execution_count": 48,
   "metadata": {},
   "outputs": [],
   "source": [
    "def trouver(chaîne, caractère):\n",
    "    for i in range(len(chaîne)):\n",
    "        if chaîne[i] == caractère:\n",
    "            return i\n",
    "    return len(chaîne)"
   ]
  },
  {
   "cell_type": "markdown",
   "metadata": {},
   "source": [
    "**Remarque :** si on ne trouve pas le caractère, on retourne une valeur qui ne peut pas être une réponse.\n",
    "\n",
    "**Exercice :** Si le caractère est présent dans la chaîne, la fonction ci-dessus retourne l'indice de la première occurrence en partant du début. Ecrire une fonction qui retourne l'indice de la dernière occurrence du caractère dans la chaîne de caractères. Si le caractère n'apparaît pas, on retourne la longueur de la chaîne de caractère."
   ]
  },
  {
   "cell_type": "code",
   "execution_count": null,
   "metadata": {},
   "outputs": [],
   "source": []
  },
  {
   "cell_type": "markdown",
   "metadata": {},
   "source": [
    "**Exercice :** Ecrire une version de la fonction ```trouver``` avec trois paramètres : une chaîne de caractères, un caractère et un indice. La fonction retourne l'indice de la première apparation du caractère dans la chaîne de caractères en partant de l'indice donné en paramètre. Si le caractère n'apparaît pas, on retourne la longueur de la chaîne de caractères."
   ]
  },
  {
   "cell_type": "code",
   "execution_count": null,
   "metadata": {},
   "outputs": [],
   "source": []
  },
  {
   "cell_type": "markdown",
   "metadata": {},
   "source": [
    "**Remarque :** la méthode ```find``` des objets chaînes de caractères retourne le premier indice où un caractère apparaît :"
   ]
  },
  {
   "cell_type": "code",
   "execution_count": 49,
   "metadata": {},
   "outputs": [
    {
     "data": {
      "text/plain": [
       "1"
      ]
     },
     "execution_count": 49,
     "metadata": {},
     "output_type": "execute_result"
    }
   ],
   "source": [
    "mot = \"banane\"\n",
    "mot.find('a')"
   ]
  },
  {
   "cell_type": "markdown",
   "metadata": {},
   "source": [
    "Il existe une version avec un second paramètre qui indique à partir de quel index il faut chercher :"
   ]
  },
  {
   "cell_type": "code",
   "execution_count": 50,
   "metadata": {},
   "outputs": [
    {
     "data": {
      "text/plain": [
       "3"
      ]
     },
     "execution_count": 50,
     "metadata": {},
     "output_type": "execute_result"
    }
   ],
   "source": [
    "mot.find('a', 3)"
   ]
  },
  {
   "cell_type": "markdown",
   "metadata": {},
   "source": [
    "Finalement, il existe une version avec 3 arguments. Le troisième argument est le dernier indice où il faut rechercher. Cet indice est exclus de la recherche."
   ]
  },
  {
   "cell_type": "code",
   "execution_count": 51,
   "metadata": {},
   "outputs": [
    {
     "data": {
      "text/plain": [
       "-1"
      ]
     },
     "execution_count": 51,
     "metadata": {},
     "output_type": "execute_result"
    }
   ],
   "source": [
    "mot.find('e', 1, 5)"
   ]
  },
  {
   "cell_type": "markdown",
   "metadata": {},
   "source": [
    "**Remarque :** en fait, ```find``` est plus générique car la méthode ne se limite pas à rechercher des chaînes de longueur 1."
   ]
  },
  {
   "cell_type": "code",
   "execution_count": 52,
   "metadata": {},
   "outputs": [
    {
     "data": {
      "text/plain": [
       "2"
      ]
     },
     "execution_count": 52,
     "metadata": {},
     "output_type": "execute_result"
    }
   ],
   "source": [
    "mot.find(\"na\")"
   ]
  },
  {
   "cell_type": "markdown",
   "metadata": {},
   "source": [
    "# Compter le nombre d'occurrences d'un caractère"
   ]
  },
  {
   "cell_type": "code",
   "execution_count": 53,
   "metadata": {},
   "outputs": [
    {
     "data": {
      "text/plain": [
       "2"
      ]
     },
     "execution_count": 53,
     "metadata": {},
     "output_type": "execute_result"
    }
   ],
   "source": [
    "def nbre_occurrence(chaîne, caractère):\n",
    "    compteur = 0\n",
    "    \n",
    "    for c in chaîne:\n",
    "        if c == caractère:\n",
    "            compteur = compteur + 1\n",
    "\n",
    "    return compteur\n",
    "\n",
    "nbre_occurrence(\"banane\", 'a')"
   ]
  },
  {
   "cell_type": "markdown",
   "metadata": {},
   "source": [
    "**Exercice :** Ecrire une version de ```nbre_occurrence``` en utilisant la version de la fonction ```trouver``` avec 3 arguments."
   ]
  },
  {
   "cell_type": "code",
   "execution_count": null,
   "metadata": {},
   "outputs": [],
   "source": []
  },
  {
   "cell_type": "markdown",
   "metadata": {},
   "source": [
    "# Comparaison de chaînes caractères\n",
    "\n",
    "Les opérateurs de relation (```==```, ```!=```, ```<```, ```<=```, ```>```, ```>=```) sont définis sur les chaînes de caractères :"
   ]
  },
  {
   "cell_type": "code",
   "execution_count": 54,
   "metadata": {},
   "outputs": [
    {
     "name": "stdout",
     "output_type": "stream",
     "text": [
      "Votre mot est bien banane\n"
     ]
    }
   ],
   "source": [
    "mot = \"banane\"\n",
    "\n",
    "if mot == \"banane\":\n",
    "    print(\"Votre mot est bien banane\")\n",
    "elif mot < \"banane\":\n",
    "    print(mot, \"est avant banane\")\n",
    "elif mot > \"banane\":\n",
    "    print(mot, \"est après banane\")"
   ]
  },
  {
   "cell_type": "markdown",
   "metadata": {},
   "source": [
    "* Ordre lexicographique\n",
    "* L'ordre entre deux caractères est défini par leur code UNICODE\n",
    "* **Attention :** une majuscule est \"plus petit\" qu'une minuscule"
   ]
  },
  {
   "cell_type": "markdown",
   "metadata": {},
   "source": [
    "# Exercices\n",
    "\n",
    "## Exercice 1\n",
    "\n",
    "1. Ecrivez une fonction ```tirets``` qui prend retourne une chaîne de caractères construites en insérant un tiret ```'-'``` après chaque caractère d'une chaîne de caractères passée en paramètre.\n",
    "\n",
    "**Exemple :** si on donne la chaîne de caractères ```\"tirets dans la chaîne\"```, la fonction retourne ```\"t-i-r-e-t-s- -d-a-n-s- -l-a- -c-h-a-î-n-e-\"```"
   ]
  },
  {
   "cell_type": "code",
   "execution_count": 7,
   "metadata": {},
   "outputs": [
    {
     "name": "stdout",
     "output_type": "stream",
     "text": [
      "21 caractères\n",
      "t-i-r-e-t-s- -d-a-n-s- -l-a- -c-h-a-i-n-e-\n"
     ]
    }
   ],
   "source": [
    "def tirets (chaine):\n",
    "    val = len (chaine)\n",
    "    print (val,\"caractères\")\n",
    "    x = 0\n",
    "    res = \"\"\n",
    "    for i in range (val):\n",
    "        res = res + chaine[x] + \"-\"\n",
    "        x = x + 1\n",
    "    return res\n",
    "        \n",
    "\n",
    "    \n",
    "mot = '''tirets dans la chaine'''\n",
    "print (tirets(mot))"
   ]
  },
  {
   "cell_type": "markdown",
   "metadata": {},
   "source": [
    "2. Modifiez votre fonction pour ne pas ajouter un tiret après un espace.\n",
    "\n",
    "**Exemple :** si on donne la chaîne de caractères ```\"tirets dans la chaîne\"```, la fonction retourne ```\"t-i-r-e-t-s- d-a-n-s- l-a- c-h-a-î-n-e-\"```"
   ]
  },
  {
   "cell_type": "code",
   "execution_count": 23,
   "metadata": {},
   "outputs": [
    {
     "name": "stdout",
     "output_type": "stream",
     "text": [
      "21 caractères\n",
      "t-i-r-e-t-s- d-a-n-s- l-a- c-h-a-i-n-e-\n"
     ]
    }
   ],
   "source": [
    "def tirets (chaine):\n",
    "    val = len (chaine)\n",
    "    print (val,\"caractères\")\n",
    "    x = 0\n",
    "    res = \"\"\n",
    "    for i in range (val):\n",
    "        if chaine[x] == \" \":\n",
    "            res = res + chaine[x]\n",
    "            x = x + 1\n",
    "        else:\n",
    "            res = res + chaine[x] + \"-\"\n",
    "            x = x + 1\n",
    "    return res\n",
    "        \n",
    "\n",
    "    \n",
    "mot = '''tirets dans la chaine'''\n",
    "print(tirets(mot))"
   ]
  },
  {
   "cell_type": "markdown",
   "metadata": {},
   "source": [
    "3. Modifiez votre fonction pour ne pas ajouter un tiret à la fin de la chaîne.\n",
    "\n",
    "**Exemple :** si on donne la chaîne de caractères ```\"tirets dans la chaîne\"```, la fonction retourne ```\"t-i-r-e-t-s- d-a-n-s- l-a- c-h-a-î-n-e\"```"
   ]
  },
  {
   "cell_type": "code",
   "execution_count": 5,
   "metadata": {},
   "outputs": [
    {
     "name": "stdout",
     "output_type": "stream",
     "text": [
      "21 caractères\n",
      "t-i-r-e-t-s- d-a-n-s- l-a- c-h-a-i-n-e\n"
     ]
    }
   ],
   "source": [
    "def tirets (chaine):\n",
    "    val = len (chaine)\n",
    "    print (val,\"caractères\")\n",
    "    x = 0\n",
    "    res = \"\"\n",
    "    for i in range (val):\n",
    "        if chaine[x] == \" \":\n",
    "            res = res + chaine[x]\n",
    "            x = x + 1\n",
    "        else:\n",
    "            res = res + chaine[x] + \"-\"\n",
    "            x = x + 1\n",
    "    valfin = len (res)\n",
    "    res = res[0 : valfin-1]\n",
    "    return res\n",
    "        \n",
    "\n",
    "    \n",
    "mot = '''tirets dans la chaine'''\n",
    "print(tirets(mot))"
   ]
  },
  {
   "cell_type": "markdown",
   "metadata": {},
   "source": [
    "## Exercice 2\n",
    "\n",
    "Ecrivez une fonction ```palindrome``` (non récursive) qui retourne ```True``` si la chaîne de caractères passée en paramètre est un palindrome, ```False``` sinon."
   ]
  },
  {
   "cell_type": "code",
   "execution_count": 4,
   "metadata": {},
   "outputs": [
    {
     "name": "stdout",
     "output_type": "stream",
     "text": [
      "True\n"
     ]
    }
   ],
   "source": [
    "def palindrome (chaine):\n",
    "    val = len (chaine)\n",
    "    x = 0\n",
    "    juste = 0\n",
    "    for i in range (val):\n",
    "        if chaine[x] == chaine[val -1]:\n",
    "            x = x + 1\n",
    "            val = val - 1\n",
    "            juste = juste + 1 \n",
    "    if juste == len(chaine):\n",
    "        return True\n",
    "    else:\n",
    "        return False\n",
    "    \n",
    "\n",
    "mot = '''kayak'''\n",
    "print(palindrome(mot))"
   ]
  },
  {
   "cell_type": "markdown",
   "metadata": {},
   "source": [
    "## Exercice 3\n",
    "\n",
    "1. Ecrivez une fonction ```miroir``` qui retourne une chaîne contenant les caractères de la chaîne passée en paramètre dans l'ordre inverse.\n",
    "\n",
    "**Exemple :** si on donne la chaîne ```\"Timoléon\"```, la fonction retourne ```\"noélomiT\"```.\n"
   ]
  },
  {
   "cell_type": "code",
   "execution_count": 14,
   "metadata": {},
   "outputs": [
    {
     "data": {
      "text/plain": [
       "'noélomiT'"
      ]
     },
     "execution_count": 14,
     "metadata": {},
     "output_type": "execute_result"
    }
   ],
   "source": [
    "def miroir (chaine):\n",
    "    val = len (chaine)\n",
    "    x = val\n",
    "    res = \"\"\n",
    "    for i in range(val):\n",
    "        res = res + chaine[x-1]\n",
    "        x = x - 1 \n",
    "    return (res)\n",
    "\n",
    "mot = '''Timoléon'''\n",
    "print(miroir(mot))"
   ]
  },
  {
   "cell_type": "markdown",
   "metadata": {},
   "source": [
    "2. Ecrivez une version de la fonction ```palindrome``` qui utilise la fonction ```miroir```."
   ]
  },
  {
   "cell_type": "code",
   "execution_count": 46,
   "metadata": {},
   "outputs": [
    {
     "name": "stdout",
     "output_type": "stream",
     "text": [
      "Palindrome avec miroir de kayak : True\n",
      "Palindrome avec miroir de bonjour : False\n"
     ]
    }
   ],
   "source": [
    "def palindrome2 (chaine):\n",
    "    if chaine == miroir(chaine):\n",
    "        return True\n",
    "    else:\n",
    "        return False\n",
    "    #return chaine == miroir(chaine)    \n",
    "    \n",
    "\n",
    "mot = '''kayak'''\n",
    "print(\"Palindrome avec miroir de kayak :\",palindrome2(mot))\n",
    "\n",
    "mot = '''bonjour'''\n",
    "print(\"Palindrome avec miroir de bonjour :\",palindrome2(mot))"
   ]
  },
  {
   "cell_type": "markdown",
   "metadata": {},
   "source": [
    "## Exercice 4\n",
    "\n",
    "1. Ecrivez une fonction ```supprimer_position(chaîne, indice)``` qui retourne une chaîne correspondant à la chaîne passée en paramètre sans le caractère se trouve à l'indice ```indice```. Si ```indice``` est négatif ou plus grand ou égal à ```len(chaîne)```, la chaîne retournée est égale à ```chaîne```.\n",
    "\n",
    "**Exemples :**\n",
    "\n",
    "* ```supprimer_position(\"Timoléon\", 3)``` retourne ```\"Timléon\"```\n",
    "* ```supprimer_position(\"Timoléon\", 2)``` retourne ```\"Tioléon\"```\n",
    "* ```supprimer_position(\"Timoléon\", 10)``` retourne ```\"Timoléon\"```\n",
    "\n",
    "1. Ecrire une version sans utiliser les tranches."
   ]
  },
  {
   "cell_type": "code",
   "execution_count": 41,
   "metadata": {},
   "outputs": [
    {
     "name": "stdout",
     "output_type": "stream",
     "text": [
      "Timoléon indice 3 : Timléon\n",
      "Timoléon indice 2 : Tioléon\n",
      "Timoléon indice 10 : Timoléon\n"
     ]
    }
   ],
   "source": [
    "def supprimer_position(chaine, indice):\n",
    "    val = len (chaine)\n",
    "    res = \"\"\n",
    "    x = 0\n",
    "    for i in range(val):\n",
    "        if x == indice:\n",
    "            res = res + \"\"\n",
    "            x = x + 1 \n",
    "        else:\n",
    "            res = res + chaine[x]\n",
    "            x = x + 1\n",
    "    return res\n",
    "\n",
    "\n",
    "mot ='''Timoléon'''\n",
    "print(\"Timoléon indice 3 :\",supprimer_position(mot, 3))\n",
    "print(\"Timoléon indice 2 :\",supprimer_position(mot, 2))\n",
    "print(\"Timoléon indice 10 :\",supprimer_position(mot, 10))"
   ]
  },
  {
   "cell_type": "markdown",
   "metadata": {},
   "source": [
    "2. Ecrire une version en utilisant les tranches."
   ]
  },
  {
   "cell_type": "code",
   "execution_count": 1,
   "metadata": {},
   "outputs": [
    {
     "name": "stdout",
     "output_type": "stream",
     "text": [
      "Timoléon indice 3 : Timléon\n",
      "Timoléon indice 2 : Tioléon\n",
      "Timoléon indice 10 : Timoléon\n"
     ]
    }
   ],
   "source": [
    "def supprimer_position2(chaine, indice):\n",
    "    val = len (chaine)\n",
    "    res = \"\"\n",
    "    x = 0\n",
    "    for i in range(val):\n",
    "        if x == indice:\n",
    "            chaine[0:x]\n",
    "            x = x + 1 \n",
    "        else:\n",
    "            res = res + chaine[x]\n",
    "            x = x + 1\n",
    "    return res\n",
    "\n",
    "mot ='''Timoléon'''\n",
    "print(\"Timoléon indice 3 :\",supprimer_position2(mot, 3))\n",
    "print(\"Timoléon indice 2 :\",supprimer_position2(mot, 2))\n",
    "print(\"Timoléon indice 10 :\",supprimer_position2(mot, 10))"
   ]
  },
  {
   "cell_type": "markdown",
   "metadata": {},
   "source": [
    "3. Ecrivez une fonction ```supprimer_caractère(chaîne, caractère)``` qui retourne une chaîne correspondant à la chaîne passée en paramètre où l'on a supprimé toutes les occurrences du caractère ```caractère```.\n",
    "\n",
    "**Exemples :**\n",
    "\n",
    "* ```supprimer_caractère(\"Timoléon\", 'o')``` retourne ```\"Timlén\"```\n",
    "* ```supprimer_caractère(\"Timoléon\", '&')``` retourne ```\"Timoléon\"```"
   ]
  },
  {
   "cell_type": "code",
   "execution_count": 9,
   "metadata": {},
   "outputs": [
    {
     "name": "stdout",
     "output_type": "stream",
     "text": [
      "8\n",
      "Timoléon caractère o : Timlén\n",
      "8\n",
      "Timoléon caractère & : Timoléon\n"
     ]
    }
   ],
   "source": [
    "def supprimer_caractère(chaine, caractère):\n",
    "    val = len (chaine)\n",
    "    res = \"\"\n",
    "    x = 0\n",
    "    for i in range (val):\n",
    "        if chaine[x] == caractère:\n",
    "            res = res + \"\"\n",
    "            x = x + 1\n",
    "        else:\n",
    "            res = res + chaine[x]\n",
    "            x = x + 1\n",
    "    return res\n",
    "\n",
    "mot ='''Timoléon'''\n",
    "print(\"Timoléon caractère o :\",supprimer_caractère(mot, 'o'))\n",
    "print(\"Timoléon caractère & :\",supprimer_caractère(mot, '&'))\n"
   ]
  },
  {
   "cell_type": "markdown",
   "metadata": {},
   "source": [
    "## Exercice 5\n",
    "\n",
    "Ecrivez une fonction ```insérer_caractère``` qui renvoie la chaine obtenue en insérant dans la chaîne reçue en paramètre, à l’indice passé en second paramètre, le caractère fourni en 3e paramètre. L’indice est un entier positif ou nul et s’il est en dehors de la chaîne, celle-ci devra être retournée sans être modifiée.\n",
    "\n",
    "**Exemples :**\n",
    "\n",
    "* ```insérer_caractère(\"Timléon\", 3, 'o')``` retourne ```\"Timoléon\"```\n",
    "* ```insérer_caractère(\"Timléon\", 20, 'I')``` retourne ```\"Timléon\"```\n",
    "\n",
    "1. Ecrire une version sans utiliser les tranches."
   ]
  },
  {
   "cell_type": "code",
   "execution_count": 28,
   "metadata": {},
   "outputs": [
    {
     "name": "stdout",
     "output_type": "stream",
     "text": [
      "Timléon, indice 3 caractère o : Timoléon\n",
      "Timléon, indice 20 caractère I : Timléon\n"
     ]
    }
   ],
   "source": [
    "def insérer_caractère(chaine, indice, caractère):\n",
    "    val = len(chaine)\n",
    "    res =\"\"\n",
    "    x = 0\n",
    "    for i in range(val):\n",
    "        if x == indice:\n",
    "            res = res + caractère + chaine[x]\n",
    "            x = x + 1\n",
    "        else: \n",
    "            res = res + chaine[x]\n",
    "            x = x + 1\n",
    "    return res        \n",
    "\n",
    "mot ='''Timléon'''\n",
    "print(\"Timléon, indice 3 caractère o :\",insérer_caractère(mot, 3, 'o'))\n",
    "print(\"Timléon, indice 20 caractère I :\",insérer_caractère(mot, 20, '&'))"
   ]
  },
  {
   "cell_type": "markdown",
   "metadata": {},
   "source": [
    "2. Ecrire une version en utilisant les tranches."
   ]
  },
  {
   "cell_type": "code",
   "execution_count": 6,
   "metadata": {},
   "outputs": [
    {
     "name": "stdout",
     "output_type": "stream",
     "text": [
      "Timléon, indice 3 caractère o : Timoléon\n",
      "Timléon, indice 20 caractère I : Timléon\n"
     ]
    }
   ],
   "source": [
    "def insérer_caractère2(chaine, indice, caractère):\n",
    "    val = len(chaine)\n",
    "    res =\"\"\n",
    "    x = 0\n",
    "    for i in range(val):\n",
    "        if x == indice:\n",
    "            res = chaine[0:x] + caractère + chaine[x]\n",
    "            x = x + 1\n",
    "        else: \n",
    "            res = res + chaine[x]\n",
    "            x = x + 1\n",
    "    return res        \n",
    "\n",
    "mot ='''Timléon'''\n",
    "print(\"Timléon, indice 3 caractère o :\",insérer_caractère2(mot, 3, 'o'))\n",
    "print(\"Timléon, indice 20 caractère I :\",insérer_caractère2(mot, 20, '&'))"
   ]
  }
 ],
 "metadata": {
  "interpreter": {
   "hash": "e7370f93d1d0cde622a1f8e1c04877d8463912d04d973331ad4851f04de6915a"
  },
  "kernelspec": {
   "display_name": "Python 3.9.7 64-bit",
   "name": "python3"
  },
  "language_info": {
   "codemirror_mode": {
    "name": "ipython",
    "version": 3
   },
   "file_extension": ".py",
   "mimetype": "text/x-python",
   "name": "python",
   "nbconvert_exporter": "python",
   "pygments_lexer": "ipython3",
   "version": "3.9.7"
  },
  "orig_nbformat": 4
 },
 "nbformat": 4,
 "nbformat_minor": 2
}
