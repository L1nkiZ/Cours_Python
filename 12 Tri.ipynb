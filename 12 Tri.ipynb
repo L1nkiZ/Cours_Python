{
 "cells": [
  {
   "cell_type": "markdown",
   "metadata": {},
   "source": [
    "# Remarques générales\n",
    "\n",
    "- En informatique, tri / trier a le sens de classement / classer \n",
    "  - classer par ordre alphabétique les livres d'une librairie ;\n",
    "  - classer les élèves selon leurs notes ;\n",
    "  - ...\n",
    "- Travailler sur des séquences triées permet d'avoir une organisation des données et de facilité des opérations\n",
    "  - Exemple : recherche dichotomique\n",
    "- Contre-partie : trier a un _coût_\n",
    "- Un tri se fait selon un critère : relation d'ordre entre les éléments\n",
    "- Il existe de nombreux algorithmes de tri :\n",
    "  - tri à bulles\n",
    "  - tri par sélection\n",
    "  - **tri par insertion**\n",
    "  - tri par tas\n",
    "  - **tri rapide**\n",
    "  - tri fusion\n",
    "  - ...\n",
    "\n",
    "# Données\n",
    "\n",
    "- Une séquences de données\n",
    "- Mutable\n",
    "- Accès direct aux éléments par indice\n",
    "- Homogène (les éléments de la structure sont tous du même type)\n",
    "- En Python : ```list```\n",
    "\n",
    "# Comparer deux valeurs\n",
    "\n",
    "- Les éléments doivent comparable deux à deux\n",
    "- Existence d'un prédicat (fonction qui retourne un booléen) ```ordre(x, y)``` qui retourne ```True``` si et seulement si ```x```_est plus petit que_ ```y```\n",
    "- Prédicat pour trier par ordre croissant en python les entiers, les réels, les chaînes de caractères :"
   ]
  },
  {
   "cell_type": "code",
   "execution_count": null,
   "metadata": {},
   "outputs": [],
   "source": [
    "def ordre(x, y):\n",
    "    return x <= y"
   ]
  },
  {
   "cell_type": "markdown",
   "metadata": {},
   "source": [
    "- Prédicat pour trier par ordre croissant en python les entiers, les réels, les chaînes de caractères :"
   ]
  },
  {
   "cell_type": "code",
   "execution_count": null,
   "metadata": {},
   "outputs": [],
   "source": [
    "def ordre(x, y):\n",
    "    return x >= y"
   ]
  },
  {
   "cell_type": "markdown",
   "metadata": {},
   "source": [
    "*Remarque :* dans le reste du cours, on utilisera ```<=``` (tri par ordre croissant)\n",
    "\n",
    "# Tri par insertion\n",
    "\n",
    "## Insertion dans une séquence triée\n",
    "\n",
    "### Données\n",
    "\n",
    "- ```l``` : une liste homogène d'élément ordonnables\n",
    "- e : un élément à ajouter à la liste\n",
    "\n",
    "### Hypothèse\n",
    "\n",
    "La liste ```l``` est triée\n",
    "\n",
    "### Effet de bord\n",
    "\n",
    "La liste ```l``` contient l'élément ```x``` et elle est triée\n",
    "\n",
    "### Principe\n",
    "\n",
    "- On ajoute ```x``` à la fin de la liste\n",
    "- On fait \"remonter\" ```x``` : on recherche le plus grand indice ```k``` tel que ```l[k] <= x```\n",
    "- En même temps que l'on recherche ```k``` on décale les éléments d'indice plus grand ou égal à ```k``` vers la \"droite\" de 1 pour laisser de la place à ```x```\n",
    "- Si ```x < l[0]```, il faut faire attention à ne pas \"sortir\" de la liste "
   ]
  },
  {
   "cell_type": "code",
   "execution_count": null,
   "metadata": {},
   "outputs": [],
   "source": [
    "def insertion(l, x):\n",
    "    l.append(x)                     # On ajoute x\n",
    "    k = len(l) - 1                  # Au début, x est à l'indice len(l) - 1\n",
    "    while k > 0 and x < l[k-1]:     # Tant que l'on n'a pas atteint la fin de la liste et que l'élément précédent est plus grand que x\n",
    "        l[k], l[k-1] = l[k-1], l[k] # On fait \"remonter\" x\n",
    "        k = k - 1                   # On va insérer à l'indice k à moins que l'on continue à \"remonter\" le tableau"
   ]
  },
  {
   "cell_type": "markdown",
   "metadata": {},
   "source": [
    "## Algorithme du tri par insertion\n",
    "\n",
    "### Donnée\n",
    "\n",
    "```l``` : une liste, homogène, d'éléments ordonnables\n",
    "\n",
    "### Sortie\n",
    "\n",
    "une liste triée contenant les éléments de ```l``` (```l``` n'est pas modifiée)\n",
    "\n",
    "### Principe\n",
    "\n",
    "- Algorithme itératif\n",
    "- A l'itération ```i```, la liste ```lres``` contient les ```i``` premiers éléments de ```l``` et ```lres``` est triée\n",
    "- On insert ```l[i]``` dans ```lres```"
   ]
  },
  {
   "cell_type": "code",
   "execution_count": null,
   "metadata": {},
   "outputs": [],
   "source": [
    "def tri_par_insertion(l):\n",
    "    lres = []\n",
    "    for i in range(len(l)):\n",
    "        insertion(lres, l[i])\n",
    "    return lres\n",
    "\n",
    "l = list(\"TIMOLEON\")\n",
    "lres = tri_par_insertion(l)\n",
    "print(lres)    "
   ]
  },
  {
   "cell_type": "markdown",
   "metadata": {},
   "source": [
    "# Tri par insertion en place\n",
    "\n",
    "La version ci-dessus du tri par insertion crée une nouvelle liste. Il est possible de trier la liste ```l``` passée en paramètre sans crée une nouvelle liste. On appelle cela trier *en place*. \n",
    "\n",
    "## Modification de la fonction d'insertion\n",
    "\n",
    "### Données\n",
    "\n",
    "- ```l``` : la liste à trier\n",
    "- i : un indice ```< len(l)``` correspondant au prochain élément à insérer\n",
    "\n",
    "### Hypothèse\n",
    "\n",
    "La sous-liste ```l[0:i]``` est triée\n",
    "\n",
    "### Effet de bord\n",
    "\n",
    "La sous-liste ```l[0:i+1]``` est triée\n",
    "\n",
    "### Principe\n",
    "\n",
    "Le principe est identique à précédemment mais on n'a pas besoin d'insérer l'élément au début.\n",
    "\n",
    "*Remarque :* le code ci-dessous contient une petite variante pour faire moins d'affectation"
   ]
  },
  {
   "cell_type": "code",
   "execution_count": 1,
   "metadata": {},
   "outputs": [],
   "source": [
    "def insertion(l, i):\n",
    "    aux = l[i]\n",
    "    k = i\n",
    "    while k > 0 and aux < l[k-1]:\n",
    "        l[k] = l[k-1]\n",
    "        k = k - 1\n",
    "    l[k] = aux"
   ]
  },
  {
   "cell_type": "markdown",
   "metadata": {},
   "source": [
    "### Coût\n",
    "\n",
    "- Meilleur des cas : 1 comparaison (```l[i] >= l[i-1]```)\n",
    "- Pire des cas : i comparaisons (```l[i] < l[0]```)\n",
    "\n",
    "## Modification du tri par insertion"
   ]
  },
  {
   "cell_type": "code",
   "execution_count": 2,
   "metadata": {},
   "outputs": [
    {
     "name": "stdout",
     "output_type": "stream",
     "text": [
      "['E', 'I', 'L', 'M', 'N', 'O', 'O', 'T']\n"
     ]
    }
   ],
   "source": [
    "def tri_par_insertion(l):\n",
    "    # On peut passer l'itération 0\n",
    "    for i in range(1, len(l)):\n",
    "        insertion(l, i)\n",
    "        \n",
    "l = list(\"TIMOLEON\")\n",
    "tri_par_insertion(l)\n",
    "print(l)"
   ]
  },
  {
   "cell_type": "markdown",
   "metadata": {},
   "source": [
    "### Coût\n",
    "\n",
    "$n =$ longueur de la liste\n",
    "\n",
    "- Meilleur des cas (liste déjà triée) : $n - 1$ comparaisons\n",
    "- Pire des cas (liste triée dans l'ordre inverse) : environ $\\frac{n^2}{2}$ comparaison\n",
    "- En moyenne : $\\frac{n^2}{4}$ comparaison\n",
    "  \n",
    "*Remarque :* plus la liste est proche d'être triée initialement plus l'algorithme est efficace\n",
    "\n",
    "# Tri rapide (quicksort)\n",
    "\n",
    "## Principe\n",
    "\n",
    "Principe récursif de type _diviser pour régner_\n",
    "\n",
    "*Cas d'arrêt :* si la liste contient 0 ou 1 élément, elle est triée.\n",
    "\n",
    "*Cas général :*\n",
    "\n",
    "1. Choisir un élément de la liste que l'on désigne par le terme de *pivot*\n",
    "2. Créer une liste $l_1$ des éléments plus petit ou égaux que le pivot (sans l'inclure)\n",
    "3. créer une liste $l_2$ des éléments strictement plus grand que le pivot\n",
    "4. Trier $l_1$ via un appel récursif\n",
    "5. Trier $l_2$ via un appel récursif\n",
    "6. Reconstruire une liste de la manière suivante :\n",
    "   1. la liste triée des éléments plus petit ou égaux que que le pivot\n",
    "   2. le pivot\n",
    "   3. la liste triée des éléments strictement plus grand que le pivot\n",
    "   \n",
    "La liste obtenue est triée.\n",
    "\n",
    "## Exemple\n",
    "\n",
    "$l = [32, 7, 89, 78, 87, 90, 54, 1, 46, 91]$\n",
    "\n",
    "1. Pivot : 32\n",
    "2. $l_1 = [7, 1]$\n",
    "3. $l_2 = [89, 78, 87, 90, 64, 46, 91]$\n",
    "4. $l_1 = [1, 7]$\n",
    "5. $l_2 = [46, 64, 78, 87, 89, 90, 91]$\n",
    "6. $[1, 7, 42, 46, 64, 76, 87, 89, 90, 91]$\n",
    "\n",
    "## Algorithme de partition"
   ]
  },
  {
   "cell_type": "code",
   "execution_count": null,
   "metadata": {},
   "outputs": [],
   "source": [
    "def partition(l, indice_pivot):\n",
    "    l1, l2 = [], []\n",
    "    pivot = l[indice_pivot]\n",
    "    \n",
    "    for i in range(len(l)):\n",
    "        if i != indice_pivot and l[i] <= pivot:\n",
    "            l1.append(l[i])\n",
    "        elif l[i] > pivot:\n",
    "            l2.append(l[i])\n",
    "    \n",
    "    return l1, l2"
   ]
  },
  {
   "cell_type": "markdown",
   "metadata": {},
   "source": [
    "Coût : $n$ comparaisons avec $n$ la taille de la liste\n",
    "\n",
    "## Algorithme de tri rapide"
   ]
  },
  {
   "cell_type": "code",
   "execution_count": null,
   "metadata": {},
   "outputs": [],
   "source": [
    "def tri_rapide(l):\n",
    "    if len(l) <= 1:\n",
    "        return l.copy()\n",
    "    else:\n",
    "        indice_pivot = choix_pivot(l)\n",
    "        l1, l2 = partition(l, indice_pivot)\n",
    "        l1_triée = tri_rapide(l1)\n",
    "        l2_triée = tri_rapide(l2)\n",
    "        return l1_triée + [l[indice_pivot]] + l2_triée\n",
    "    \n",
    "l = list(\"TIMOLEON\")\n",
    "ltriée = tri_rapide(l)\n",
    "print(ltriée)"
   ]
  },
  {
   "cell_type": "markdown",
   "metadata": {},
   "source": [
    "- L'algorithme ci-dessus demande de nombreuses constructions de listes\n",
    "- L'algorithme ci-dessus demande de nombreuses opérations de concaténation\n",
    "- L'algorithme ci-dessus demande de nombreuses constructions de singletons \n",
    "- Impact sur la performance pratique (la performance théorique ne change pas)\n",
    "- Il est possible d'implémenter le tri rapide pour qu'il soit effectué _en place_\n",
    "\n",
    "## Choix du pivot\n",
    "\n",
    "- La fonction ```choix_pivot``` retourne l'indice du pivot\n",
    "- Plusieurs approches sont possibles\n",
    "- Le choix du pivot influe fortement sur la performance de l'algorithme\n",
    "- Idéalement, il faudrait prendre la valeur médiane dans la liste pour que les sous-liste $l_1$ et $l_2$ soient de taille équivalente mais chercher cette valeur est coûteux\n",
    "- Exemple choix 1 : élément en début de liste"
   ]
  },
  {
   "cell_type": "code",
   "execution_count": null,
   "metadata": {},
   "outputs": [],
   "source": [
    "def choix_pivot(l):\n",
    "    return 0"
   ]
  },
  {
   "cell_type": "markdown",
   "metadata": {},
   "source": [
    "- Exemple choix 2 : élément au hasard"
   ]
  },
  {
   "cell_type": "code",
   "execution_count": null,
   "metadata": {},
   "outputs": [],
   "source": [
    "from random import randint\n",
    "\n",
    "def choix_pivot(l):\n",
    "    return randint(0, len(l)-1)"
   ]
  },
  {
   "cell_type": "markdown",
   "metadata": {},
   "source": [
    "- Exemple choix 2 : on choisit 3 valeurs (première, milieu et dernière) et on retourne la valeur médiane"
   ]
  },
  {
   "cell_type": "code",
   "execution_count": null,
   "metadata": {},
   "outputs": [],
   "source": [
    "def choix_pivot(l):\n",
    "\tind1, ind2, ind3 = 0, (0 + len(l)-1) // 2, len(l)-1\n",
    "\tif l[ind1] >= l[ind2] and l[ind1] <= l[ind3]:\n",
    "\t\treturn ind1\n",
    "\telif l[ind2] >= l[ind1] and l[ind2] <= l[ind3]:\n",
    "\t\treturn ind2\n",
    "\telse:\n",
    "\t\treturn ind3"
   ]
  },
  {
   "cell_type": "markdown",
   "metadata": {},
   "source": [
    "## Coût de l'algorithme de tri rapide\n",
    "\n",
    "- Pire des cas : environ $\\frac{n^2}{2}$\n",
    "- Meilleur des cas : environ $n\\log n$\n",
    "- En moyenne : environ $n\\log n$\n",
    "- Le tri rapide est en pratique plus efficace que le tri par insertion (qui reste plus efficace si la liste est déjà \"presque\" trié)\n",
    "\n",
    "# Exercices\n",
    "\n",
    "## Exercice 1\n",
    "\n",
    "Implémenter l'algorithme de tri par insertion pour trier en place un tableau d'entiers par ordre décroissant.\n",
    "\n",
    "*Indication :* Il est interdit de trier le tableau par ordre croissant puis de l'inverser."
   ]
  },
  {
   "cell_type": "code",
   "execution_count": 1,
   "metadata": {},
   "outputs": [
    {
     "name": "stdout",
     "output_type": "stream",
     "text": [
      "['Z', 'Y', 'T', 'R', 'E', 'A']\n"
     ]
    }
   ],
   "source": [
    "def insertion(l, i):\n",
    "    aux = l[i]\n",
    "    k = i\n",
    "    while k > 0 and aux > l[k-1]:\n",
    "        l[k] = l[k-1]\n",
    "        k = k - 1\n",
    "    l[k] = aux\n",
    "\n",
    "def tri_par_insertion(l):\n",
    "    # On peut passer l'itération 0\n",
    "    for i in range(1, len(l)):\n",
    "       insertion(l, i)\n",
    "        \n",
    "l = list(\"AZERTY\")\n",
    "tri_par_insertion(l)\n",
    "print(l)\n",
    "\n"
   ]
  },
  {
   "cell_type": "markdown",
   "metadata": {},
   "source": [
    "## Exercice 2\n",
    "\n",
    "Le but de cet exercice est d'impémenter en ordre croissant en place le tri rapide d'un tableau d'entiers.\n",
    "\n",
    "### Question 1\n",
    "\n",
    "Implémenter une fonction ```choix_pivot(liste, ind1, ind2)``` qui prend en paramètre une liste d'entiers et deux entiers. Cette fonction retourne l'indice du pivot par la tranche de la liste ```liste``` comprise entre l'indice ```ind1``` (inclus) et l'indice ```ind2``` (exclus). Vous implémenterez le choix de pivot consistant à choisir trois éléments du tableau et à retourner l'indice de l'élément médian.  "
   ]
  },
  {
   "cell_type": "code",
   "execution_count": 2,
   "metadata": {},
   "outputs": [
    {
     "name": "stdout",
     "output_type": "stream",
     "text": [
      "1\n"
     ]
    }
   ],
   "source": [
    "def choix_pivot (liste, ind1, ind2):\n",
    "    taille = (ind1 + ind2 -1 )//2\n",
    "    chiffre1 = liste[ind1]\n",
    "    chiffre2 = liste[ind2-1]\n",
    "    chiffre3 = liste[taille]\n",
    "    if (chiffre1 >= chiffre3) == (chiffre3 > chiffre2):\n",
    "        return taille\n",
    "    if (chiffre1 <= chiffre2) == (chiffre2 < chiffre3):\n",
    "        return [ind2-1]\n",
    "    return ind1\n",
    "\n",
    "\n",
    "l = [1, 5, 4, 5, 6, 7, 8, 9, 10]\n",
    "print(choix_pivot(l,0,9))"
   ]
  },
  {
   "cell_type": "markdown",
   "metadata": {},
   "source": [
    "Il est nécessaire d'implémenter un algorithme de partition qui répartit les éléments du tableau par rapport au pivot dans la tranche même de la liste définie par deux indices ```ìnd1``` (inclus) et ``ìnd2``` (exclus). Il ne faut pas faire de copie de la tranche mais travailler directement sur la liste. La spécification de la fonction est ```partition(liste, indice_pivot, ind1, ind2)``` avec\n",
    "\n",
    "- ```liste``` : la liste à trier\n",
    "- ```indice_pivot``` : l'indice initial du pivot\n",
    "- ```ind1``` : l'indice (inclus) de début de tranche\n",
    "- ```ind2``` : l'indice (exclus) de fin de tranche\n",
    "\n",
    " Le principe de l'algorithme est le suivant :\n",
    "\n",
    " 1. On échange l'élement à l'indice ```indice_pivot``` (le pivot) et l'élément à l'indice ```ind2 - 1``` (le dernier élément de la tranche).\n",
    " 2. On sauvegarde un indice ```i``` qui indique le grand indice contenant un élément assuré d'être plus petit que le pivot ; initialement ```i = ind1 - 1``` (personne n'est assuré d'être plus petit que le pivot).\n",
    " 3. On parcours les éléments de l'indice ```ind1``` à ```ind2-2``` (on ne teste pas ```ind2-1``` car c'est le pivot)\n",
    "    1. Si l'élément courant est plus petit ou égal on l'échange avec l'élément à l'indice ```i + 1```\n",
    "    2. Sinon on ne fait rien car  $j \\geq i + 1$ et $liste[j] >$ pivot donc l'élément est bien rangé dans la tranche\n",
    " 4. A la fin de la boucle, on a : i) ```liste[ind1:i+1] <= pivot```, ```liste[i+1:ind2-1] > pivot``` et ```liste[ind2-1] == pivot```. Il reste donc à placer correctement le pivot en l'échangeant avec l'élément se trouvant à l'indice ```i+1``` (c'est-à-dire le premier élément plus grand que le pivot).\n",
    " 5. On retourne l'indice où se trouve le pivot ; c'est-à-dire ```i+1```.\n",
    "\n",
    "\n",
    "### Question 2\n",
    "\n",
    "Implémentez la fonction ci-dessus. Si vous n'y arrivez pas, vous pouvez utiliser l'implémentation donnée après pour faire les questions suivantes."
   ]
  },
  {
   "cell_type": "markdown",
   "metadata": {},
   "source": [
    "Une implémentation possible :"
   ]
  },
  {
   "cell_type": "code",
   "execution_count": null,
   "metadata": {},
   "outputs": [],
   "source": [
    "def partition(liste, indice_pivot, ind1, ind2):\n",
    "    # Etape 1\n",
    "    liste[indice_pivot], liste[ind2-1] = liste[ind2-1], liste[indice_pivot]\n",
    "    pivot = liste[ind2-1]\n",
    "    \n",
    "    # Etape 2\n",
    "    i = ind1 - 1\n",
    "    \n",
    "    # Etape 3\n",
    "    for j in range(ind1, ind2-1):\n",
    "        if liste[j] <= pivot:\n",
    "            i += 1\n",
    "            liste[i], liste[j] = liste[j], liste[i]\n",
    "            \n",
    "    # Etapge 4\n",
    "    liste[i+1], liste[ind2-1] = liste[ind2-1], liste[i+1]\n",
    "    \n",
    "    # Etape 5\n",
    "    return i + 1"
   ]
  },
  {
   "cell_type": "markdown",
   "metadata": {},
   "source": [
    "On peut maintenant implémenter l'algorithme de tri rapide. Pour ne pas avoir à créer des tranches de la liste à trier, nous allons spécifier la fonction de la manière suivante ```tri_rapide(liste, ind1, ind2)```. La fonction trie en place la tranche de la liste ```liste``` qui commence à l'indice ```ind1``` (inclus) et se termine à l'indice ```ind2``` (exclus). Pour trier la liste complète, l'appel initial sera donc ```tri_rapide(l, 0, len(l))```. La restriction aux tranches souhaitées pour les appels récursifs se fait en fixant les indices correctement.\n",
    "\n",
    "### Question3\n",
    "\n",
    "Implémenter la fonction ```tri_rapide``` respectant la spécification ci-dessus."
   ]
  },
  {
   "cell_type": "code",
   "execution_count": null,
   "metadata": {},
   "outputs": [],
   "source": [
    "def choix_pivot (liste, ind1, ind2):\n",
    "    taille = (ind1 + ind2 -1 )//2\n",
    "    chiffre1 = liste[ind1]\n",
    "    chiffre2 = liste[ind2-1]\n",
    "    chiffre3 = liste[taille]\n",
    "    if (chiffre1 >= chiffre3) == (chiffre3 > chiffre2):\n",
    "        return taille\n",
    "    if (chiffre1 <= chiffre2) == (chiffre2 < chiffre3):\n",
    "        return [ind2-1]\n",
    "    return ind1\n",
    "\n",
    "\n",
    "l = [1, 5, 4, 5, 6, 7, 8, 9, 10]\n",
    "print(choix_pivot(l,0,9))"
   ]
  },
  {
   "cell_type": "code",
   "execution_count": null,
   "metadata": {},
   "outputs": [],
   "source": [
    "def tri_rapide(liste, ind1, ind2):\n"
   ]
  },
  {
   "cell_type": "markdown",
   "metadata": {},
   "source": [
    "### Question 4\n",
    "\n",
    "Modifier la fonction ```partition``` pour que l'algorithme trie les éléménts par ordre décroissant."
   ]
  },
  {
   "cell_type": "code",
   "execution_count": null,
   "metadata": {},
   "outputs": [],
   "source": []
  },
  {
   "cell_type": "markdown",
   "metadata": {},
   "source": [
    "## Exercice 3\n",
    "\n",
    "Supposons que l'on dispose des données suivantes : une liste nom ```nom``` comporte le nom des étudiants et une liste ```classement``` comportent leur classement respectif : le classement de ```nom[0]``` est  ```classement[0]```, le classement de ```nom[1]``` est ```classement[1]``` et ainsi de suite. On veut trouver les $k$ meilleurs éléves.\n",
    "\n",
    "*Indication :* On suppose que tous les noms sont uniques et que deux élèves n'ont pas pu avoir la même note.\n",
    "\n",
    "Vous pouvez utilisez le code ci-dessous pour générer une liste ```nom``` et une liste ```classement```."
   ]
  },
  {
   "cell_type": "code",
   "execution_count": null,
   "metadata": {},
   "outputs": [],
   "source": [
    "from random import randint\n",
    "\n",
    "def génération_nom_classement(n):\n",
    "    nom = [\"Etudiant \" + str(i) for i in range(1, n+1)]\n",
    "    classement = [i for i in range(1, n+1)]\n",
    "    for i in range(n-1, -1, -1):\n",
    "        j = randint(0, i)\n",
    "        classement[i], classement[j] = classement[j], classement[i]\n",
    "    return nom, classement\n",
    "\n",
    "nom, classement = génération_nom_classement(24)\n",
    "print(nom)\n",
    "print(classement)"
   ]
  },
  {
   "cell_type": "markdown",
   "metadata": {},
   "source": [
    "\n",
    "### Question 1\n",
    "\n",
    "Ecrivez une version ```meilleurs_v1(nom, classement, k)``` qui retourne une liste comportant les noms des $k$ meilleurs élèves en utilisant une stratégie de recherche séquentielle. Vous n'avez pas le droit de trier ni la liste ```nom``` ni la liste ```classement``` passées en paramètre. Vous avez par contre le droit d'en faire des copies et les modifier si vous le souhaitez."
   ]
  },
  {
   "cell_type": "code",
   "execution_count": null,
   "metadata": {},
   "outputs": [],
   "source": []
  },
  {
   "cell_type": "markdown",
   "metadata": {},
   "source": [
    "## Question 2\n",
    "\n",
    "Ecrivre une version ```meilleurs_v2(nom, classement, k)``` qui retourne une liste comportant les noms des $k$ meilleurs élèves. Vous utiliserez ici un algorithme de tri et vous ne pourrez pas faire de recherche dans les listes."
   ]
  },
  {
   "cell_type": "code",
   "execution_count": null,
   "metadata": {},
   "outputs": [],
   "source": []
  },
  {
   "cell_type": "markdown",
   "metadata": {},
   "source": [
    "## Exercice 4\n",
    "\n"
   ]
  },
  {
   "cell_type": "markdown",
   "metadata": {},
   "source": [
    "Dans la plupart des librairies modernes (par exemple la STL en C++), l'algorithme de tri implémenté est un algorithme hybride. Un tel algorithme repose sur un tri rapide. Cependant quand un critère est atteint (taille du tableau, profondeur de l'arbre de récurrence ...), on bascule sur un second algorithme de tri. Un exemple d'algorithme hybride est [introsort](https://en.wikipedia.org/wiki/Introsort). \n",
    "\n",
    "Implémentez un algorithme hybride basé sur le tri rapide mais qui utilise un tri par insertion quand la taille du tableau à trier est plus petit ou égal à 9 (ce nombre étant un choix arbitraire)."
   ]
  },
  {
   "cell_type": "code",
   "execution_count": null,
   "metadata": {},
   "outputs": [],
   "source": []
  },
  {
   "cell_type": "markdown",
   "metadata": {},
   "source": [
    "## Exercice 5\n",
    "\n",
    "Modifiez vos algorithmes de tri par insertion et de tri rapide pour qu'ils retournent le nombre de comparaisons effectuées entre deux éléments de la liste à trier. Pour les deux algorithmes, vous utiiliserez une implémentation en place. L'algorithme le plus \"rapide\" sera celui qui fait le moins de comparaisons.\n",
    "\n",
    "Utilisez le code ci-dessous pour comparer les performances de vos algorithmes pour plusieurs tailles de listes. Pour chaque taille, il s'agit d'une moyenne sur plussieurs listes. Quelle algorithme recommenderiez-vous ? (serez-vous capable de faire mieux que [Barack Obama](https://www.youtube.com/watch?v=koMpGeZpu4Q) ?)"
   ]
  },
  {
   "cell_type": "code",
   "execution_count": null,
   "metadata": {},
   "outputs": [],
   "source": [
    "from random import randint\n",
    "import matplotlib.pyplot as plt\n",
    "\n",
    "def tri_insertion(liste):\n",
    "    return 0\n",
    "\n",
    "def tri_rapide(liste, ind1, ind2):\n",
    "    return 0\n",
    "\n",
    "def évaluation(max_n):\n",
    "    res_tri_insertion = []\n",
    "    res_tri_rapide = []\n",
    "    \n",
    "    n = 10\n",
    "    while n <= max_n:\n",
    "        somme_tri_insertion = 0\n",
    "        somme_tri_rapide = 0\n",
    "        for k in range(10):\n",
    "            l = [randint(1, 10*n) for _ in range(n)]\n",
    "            somme_tri_insertion += tri_insertion(l)\n",
    "            somme_tri_rapide += tri_rapide(l, 0, len(l))\n",
    "        res_tri_insertion.append(somme_tri_insertion / 10)\n",
    "        res_tri_rapide.append(somme_tri_rapide / 10)\n",
    "        n *= 10\n",
    "    \n",
    "    return res_tri_insertion, res_tri_rapide\n",
    "\n",
    "def comparaison(max_n):\n",
    "    res_tri_insertion, res_tri_rapide = évaluation(max_n)\n",
    "    abscisse = []\n",
    "    n = 10\n",
    "    while n <= max_n:\n",
    "        abscisse.append(n)\n",
    "        n *= 10\n",
    "    \n",
    "    plt.xlabel(\"Taille de la liste\")\n",
    "    plt.ylabel(\"Nbre de comparaisons\")\n",
    "    plt.plot(abscisse, res_tri_insertion, label=\"Tri par insertion\")\n",
    "    plt.plot(abscisse, res_tri_rapide, label=\"Tri rapide\")\n",
    "    plt.show()\n",
    "    \n",
    "comparaison(100000)"
   ]
  }
 ],
 "metadata": {
  "interpreter": {
   "hash": "c81fe28bf7dc0f631969d84fa725496b76a5eccaf9a5efd69c5894ddf0a6fdb4"
  },
  "kernelspec": {
   "display_name": "Python 3.9.7 64-bit ('coursAP': conda)",
   "language": "python",
   "name": "python3"
  },
  "language_info": {
   "codemirror_mode": {
    "name": "ipython",
    "version": 3
   },
   "file_extension": ".py",
   "mimetype": "text/x-python",
   "name": "python",
   "nbconvert_exporter": "python",
   "pygments_lexer": "ipython3",
   "version": "3.9.9"
  },
  "orig_nbformat": 4
 },
 "nbformat": 4,
 "nbformat_minor": 2
}
