{
 "cells": [
  {
   "cell_type": "markdown",
   "metadata": {},
   "source": [
    "# Une introduction à la récursivité\n",
    "\n",
    "## Définition\n",
    "\n",
    "Une fonction peut s'appeler elle-même (c'est-à-dire qu'il y a un appel à la fonction dans le corps de la fonction). On parle alors de **récursivité** et la fonction est dite **récursive**.\n",
    "\n",
    "## Exemples"
   ]
  },
  {
   "cell_type": "code",
   "execution_count": 1,
   "metadata": {},
   "outputs": [
    {
     "name": "stdout",
     "output_type": "stream",
     "text": [
      "3\n",
      "2\n",
      "1\n",
      "Boom !\n"
     ]
    }
   ],
   "source": [
    "def compte_a_rebours(n):\n",
    "    if n <= 0:\n",
    "        print(\"Boom !\")\n",
    "    else:\n",
    "        print(n)\n",
    "        compte_a_rebours(n-1)\n",
    "\n",
    "compte_a_rebours(3)"
   ]
  },
  {
   "cell_type": "markdown",
   "metadata": {},
   "source": [
    "Il est possible de visualiser le comportement de la fonction via un **arbre d'appel**. Ici l'arbre d'appel est assez simple :\n",
    "\n",
    "cab(3) $\\rightarrow$ cab(2) $\\rightarrow$ cab(1) $\\rightarrow$ cab(0) \n",
    "\n",
    "On peut utiliser notamment la récursivité pour répéter une action un nombre donné de fois (même si dans les cas simples on utilisera plutôt une boucle ```for```). La fonction ci-dessous affiche ```n``` fois la chaîne de caractères ```s``` :"
   ]
  },
  {
   "cell_type": "code",
   "execution_count": 2,
   "metadata": {},
   "outputs": [
    {
     "name": "stdout",
     "output_type": "stream",
     "text": [
      "Timoléon\n",
      "Timoléon\n",
      "Timoléon\n"
     ]
    }
   ],
   "source": [
    "def print_n(s, n):\n",
    "    if n <= 0:\n",
    "        return\n",
    "    print(s)\n",
    "    print_n(s, n-1)\n",
    "\n",
    "print_n('Timoléon', 3)"
   ]
  },
  {
   "cell_type": "markdown",
   "metadata": {},
   "source": [
    "**Remarque :** l'instruction ```return``` met fin à l'exécution de la fonction.\n",
    "\n",
    "## Définition d'une fonction récursive\n",
    "\n",
    "- Il faut que la fonction ait (au moins) un **cas de base**. C'est-à-dire une branche d'exécution qui ne comprend pas d'appel récursif. Il y a donc forcément un ```if```. \n",
    "- Lors des appels récursifs, il faut veiller au fait que l'on converge vers un cas de base\n",
    "- Sinon on peut avoir une fonction qui ne s'arrête jamais :"
   ]
  },
  {
   "cell_type": "code",
   "execution_count": null,
   "metadata": {},
   "outputs": [],
   "source": [
    "def recursive():\n",
    "    recursive()\n",
    "\n",
    "recursive()"
   ]
  },
  {
   "cell_type": "markdown",
   "metadata": {},
   "source": [
    "## Exercices\n",
    "\n",
    "### Exercice 1\n",
    "\n",
    "Soit la fonction récursive :"
   ]
  },
  {
   "cell_type": "code",
   "execution_count": null,
   "metadata": {},
   "outputs": [],
   "source": [
    "def recursive(n, s):\n",
    "    if n == 0:\n",
    "        print(s)\n",
    "    else:\n",
    "        recursive(n-1, n+s)"
   ]
  },
  {
   "cell_type": "markdown",
   "metadata": {},
   "source": [
    "1. Donnez l'arbre d'appel pour l'appel de fonction suivant :"
   ]
  },
  {
   "cell_type": "code",
   "execution_count": null,
   "metadata": {},
   "outputs": [],
   "source": [
    "recursive(3, 0)"
   ]
  },
  {
   "cell_type": "markdown",
   "metadata": {},
   "source": [
    "2. Que calcule cette fonction ?\n",
    "3. Que se passe-t'il lors de l'appel suivant ?"
   ]
  },
  {
   "cell_type": "code",
   "execution_count": null,
   "metadata": {},
   "outputs": [],
   "source": [
    "recursive(-1, 0)"
   ]
  },
  {
   "cell_type": "markdown",
   "metadata": {},
   "source": [
    "### Exercice 2\n",
    "\n",
    "Essayez de deviner ce que fait la fonction ci-dessous. Le premier paramètre est une tortue, le second un réel et le troisième un entier. Exécuter pour vérifier si vous aviez raison.\n",
    "\n",
    "**Indication :** la méthode ```bk``` permet de faire faire marche arrière à la tortue."
   ]
  },
  {
   "cell_type": "code",
   "execution_count": null,
   "metadata": {},
   "outputs": [],
   "source": [
    "import turtle\n",
    "\n",
    "def draw(t, length, n):\n",
    "    if n == 0:\n",
    "        return\n",
    "    angle = 50\n",
    "    t.fd(length*n)\n",
    "    t.lt(angle)\n",
    "    draw(t, length, n-1)\n",
    "    t.rt(2*angle)\n",
    "    draw(t, length, n-1)\n",
    "    t.lt(angle)\n",
    "    t.bk(length*n)"
   ]
  },
  {
   "cell_type": "markdown",
   "metadata": {},
   "source": [
    "### Exercice 3\n",
    "\n",
    "La courbe de Koch est une fractale (que vous verrez si vous arrivez à faire l'exercice). Pour dessiner un flocon de longueur $x \\geq 3$, il faut :\n",
    "\n",
    "1. Dessiner une courbe de Koch de longueur $x/3$.\n",
    "2. Tourner à gauche de 60 degrés.\n",
    "3. Dessiner une courbe de Koch de longueur $x/3$.\n",
    "4. Tourner à droite de 120 degrés.\n",
    "5. Dessiner une courbe de Koch de longueur $x/3$.\n",
    "6. Tourner à gauche de 60 degrés.\n",
    "7. Dessiner une courbe de Koch de longueur $x/3$.\n",
    "\n",
    "Si $x < 3$, on trace juste une ligne droite de longueur $x$.\n",
    "\n",
    "Ecrire une fonction ```koch```qui prend une tortue et une longueur en argument et qui fait tracer à la tortue une courbe de Koch de la longueur donnée."
   ]
  },
  {
   "cell_type": "code",
   "execution_count": null,
   "metadata": {},
   "outputs": [],
   "source": [
    "import turtle\n",
    "\n",
    "def koch(tortue, longueur):\n",
    "    if longueur < 3:\n",
    "        tortue.fd(longueur)\n",
    "\n",
    "    koch(tortue, longueur / 3)\n",
    "    tortue.lt(60)\n",
    "    koch(tortue, longueur / 3)\n",
    "    tortue.rt(120)\n",
    "    koch(tortue, longueur / 3)\n",
    "    tortue.lt(60)\n",
    "    koch(tortue, longueur / 3)"
   ]
  },
  {
   "cell_type": "markdown",
   "metadata": {},
   "source": [
    "# Retour à la récursivité\n",
    "\n",
    "Il est possible de faire de la récursivité avec des fonctions qui retournent une valeur. Il est possible d'utiliser la valeur retournée par l'appel récursif pour calculer le résultat retourner par la fonction. \n",
    "\n",
    "**Indication :** il faut supposer que l'appel récursif renvoie le bon résultat. Il faut aussi bien définir ce qui est renvoyé lors des cas de base.\n",
    "\n",
    "Exemple : $n!$ peut être défini de manière récursive :\n",
    "\n",
    "* $0! = 1$\n",
    "* $n! = n(n-1)!$\n",
    "\n",
    "Si on veut implémenter cette formule (qui est récursive), on peut procéder de la manière suivante.\n",
    "\n",
    "On commence par définir la spécification de la fonction :"
   ]
  },
  {
   "cell_type": "code",
   "execution_count": null,
   "metadata": {},
   "outputs": [],
   "source": [
    "def factoriel(n):\n",
    "    return 1 # Il faut au moins une instruction"
   ]
  },
  {
   "cell_type": "markdown",
   "metadata": {},
   "source": [
    "Ensuite, on peut ajouter le cas d'arrêt quand $n = 0$ :"
   ]
  },
  {
   "cell_type": "code",
   "execution_count": null,
   "metadata": {},
   "outputs": [],
   "source": [
    "def factoriel(n):\n",
    "    if n == 0:\n",
    "        return 1"
   ]
  },
  {
   "cell_type": "markdown",
   "metadata": {},
   "source": [
    "Ensuite on ajoute l'appel récursif :"
   ]
  },
  {
   "cell_type": "code",
   "execution_count": null,
   "metadata": {},
   "outputs": [],
   "source": [
    "def factoriel(n):\n",
    "    if n == 0:\n",
    "        return 1\n",
    "    else:\n",
    "        résultat_récursion = factoriel(n-1)"
   ]
  },
  {
   "cell_type": "markdown",
   "metadata": {},
   "source": [
    "On utilise le résultat de l'appel récursif pour calculer le résultat pour $n$ et on le retourne : "
   ]
  },
  {
   "cell_type": "code",
   "execution_count": null,
   "metadata": {},
   "outputs": [],
   "source": [
    "def factoriel(n):\n",
    "    if n == 0:\n",
    "        return 1\n",
    "    else:\n",
    "        résultat_récursion = factoriel(n-1)\n",
    "        résultat = n * résultat_récursion \n",
    "        return résultat"
   ]
  },
  {
   "cell_type": "markdown",
   "metadata": {},
   "source": [
    "On peut se passer des variables intermédiaires :"
   ]
  },
  {
   "cell_type": "code",
   "execution_count": null,
   "metadata": {},
   "outputs": [],
   "source": [
    "def factoriel(n):\n",
    "    if n == 0:\n",
    "        return 1\n",
    "    else:\n",
    "        return n * factoriel(n-1)"
   ]
  },
  {
   "cell_type": "markdown",
   "metadata": {},
   "source": [
    "Il est possible de faire un arbre d'appel comme pour ```compte_à_rebours```. La différence est que maintenant en plus de la phase de \"descente\", il y a une phase de remontée des résultats. Pour un programme simple comme factoriel, on peut aussi le visualiser par un affichage :"
   ]
  },
  {
   "cell_type": "code",
   "execution_count": null,
   "metadata": {},
   "outputs": [],
   "source": [
    "def factoriel(n):\n",
    "    espace = ' ' * (4 * n)\n",
    "    print(espace, \"factoriel(\"+ str(n) + \")\")\n",
    "    if n == 0:\n",
    "        print(espace, \"factoriel(0) retourne 1\")\n",
    "        return 1\n",
    "    else :\n",
    "        résultat_récursion = factoriel(n-1)\n",
    "        résultat = n * résultat_récursion\n",
    "        print(espace, \"factoriel(\"+str(n)+\") retourne\", résultat, \"=\", n, \"*\", résultat_récursion)\n",
    "        return résultat\n",
    "\n",
    "print(\"\\nfactoriel(4) =\", factoriel(4))"
   ]
  },
  {
   "cell_type": "markdown",
   "metadata": {},
   "source": [
    "# Exercices \n",
    "\n",
    "## Exercice 1\n",
    "\n",
    "La suite de Fibonacci est définie de la manière suivante (il y a deux cas d'arrêt et un double appel récursif) :\n",
    "\n",
    "* fibonacci(0) = 0\n",
    "* fibonacci(1) = 1\n",
    "* fibonacci($n$) = fibonacci($n-1$) + fibonacci($n-2$) pour $n \\geq 2$\n",
    "\n",
    "Implémentez une fonction ```fibonacci(n)``` qui calcule la valeur de la suite pour $n$.\n",
    "\n",
    "**Indication :** ne testez pas votre fonction pour des valeurs trop grandes."
   ]
  },
  {
   "cell_type": "code",
   "execution_count": 9,
   "metadata": {},
   "outputs": [
    {
     "name": "stdout",
     "output_type": "stream",
     "text": [
      "la suite de fibonacci est de : 3\n"
     ]
    }
   ],
   "source": [
    "def fibonacci(n):\n",
    "    res = 0\n",
    "    if n == 0:\n",
    "        return 0\n",
    "        #res =0\n",
    "    elif n == 1:\n",
    "        return 1\n",
    "        #res = 1\n",
    "    elif n >= 2:\n",
    "        res = fibonacci(n - 1) + fibonacci (n - 2)\n",
    "    return res\n",
    "\n",
    "print(\"la suite de fibonacci est de :\",fibonacci(4))"
   ]
  },
  {
   "cell_type": "markdown",
   "metadata": {},
   "source": [
    "## Exercice 2\n",
    "\n",
    "La fonction d'Ackermann $A(m, n)$ est définie par la récurrence :\n",
    "\n",
    "$$\n",
    "A(m, n) = \\begin{cases}\n",
    "n + 1 & \\text{si } m = 0 \\\\\n",
    "A(m-1, 1) & \\text{si } m > 0 \\text{ et } n = 0 \\\\\n",
    "A(m-1, A(m, n-1)) & \\text{si } m > 0 \\text{ et } n > 0\n",
    "\\end{cases}\n",
    "$$\n",
    "\n",
    "Ecrivez une fonction ```ack(m, n)``` qui calcule la fonction d'Ackerman.\n",
    "\n",
    "**Indication pour vérifier :** ```ack(3, 4)``` doit retourner 125."
   ]
  },
  {
   "cell_type": "code",
   "execution_count": 12,
   "metadata": {},
   "outputs": [
    {
     "name": "stdout",
     "output_type": "stream",
     "text": [
      "La valeur de la fonction Ackermann est de:  125\n"
     ]
    }
   ],
   "source": [
    "def ack (m, n):\n",
    "    res = 0\n",
    "    if m == 0:\n",
    "        res = n + 1\n",
    "    elif m > 0 and n == 0:\n",
    "        res = ack (m - 1,1)\n",
    "    elif m > 0 and n > 0:\n",
    "        res = ack(m-1, ack(m, n-1))\n",
    "    return res\n",
    "\n",
    "print(\"La valeur de la fonction Ackermann est de: \", ack(3, 4)) \n",
    "    "
   ]
  },
  {
   "cell_type": "markdown",
   "metadata": {},
   "source": [
    "## Exercice 3\n",
    "\n",
    "Ecrivez une fonction récursive qui prend en paramètre deux entiers positifs et qui retourne la somme des deux entiers positifs. Les seules expressions que vous pouvez utiliser sur ajouter 1 à un entier, retirer 1 à un entier, comparer si un entier est égal à 0 (```==```).\n",
    "\n",
    "**Indication :** essayez de trouver d'abord le cas de base qui peut être aussi le cas pour lequel il est facile de répondre."
   ]
  },
  {
   "cell_type": "code",
   "execution_count": 25,
   "metadata": {},
   "outputs": [
    {
     "name": "stdout",
     "output_type": "stream",
     "text": [
      "La valeur de la somme est de : 5\n"
     ]
    }
   ],
   "source": [
    "def somme (x,y):\n",
    "    if y == 0:\n",
    "        return x\n",
    "    elif x == 0:\n",
    "        return y\n",
    "    else:\n",
    "        x = x - 1\n",
    "        y = y + 1\n",
    "        return somme(x,y)\n",
    "        \n",
    "\n",
    "print(\"La valeur de la somme est de :\",somme(2,3))"
   ]
  },
  {
   "cell_type": "markdown",
   "metadata": {},
   "source": [
    "## Exercice 4\n",
    "\n",
    "Un palindrome est un mot qui s'écrit de la même façon de gauche à droite et de droite à gauche, par exemple : ICI, ELLE, RADAR.\n",
    "\n",
    "De manière récursive, un palindrome est un mot dont la première lettre est la même que la dernière et dont le sous-mot obtenu en retirant la première lettre et la dernière lettre est aussi un palindrome. Un mot vide est un palindrome.\n",
    "\n",
    "En python, on peut représenter un mot par une chaîne de caractères. Les fonctions ci-dessous permettent d'obtenir la première lettre du mot, la dernière lettre du mot et le sous-mot obtenu en retirant la première et la dernière lettre."
   ]
  },
  {
   "cell_type": "code",
   "execution_count": 26,
   "metadata": {},
   "outputs": [
    {
     "name": "stdout",
     "output_type": "stream",
     "text": [
      "première_lettre(\"Timoléon\") = T\n",
      "dernière_lettre(\"Timoléon\") = n\n",
      "sous_mot(\"Timoléon\") = imoléo\n",
      "sous_mot(\"ab\") = \n",
      "sous_mot(\"a\") = \n",
      "sous_mot(\"\") = \n"
     ]
    }
   ],
   "source": [
    "def première_lettre(mot):\n",
    "    return mot[0]\n",
    "\n",
    "def dernière_lettre(mot):\n",
    "    return mot[-1]\n",
    "\n",
    "def sous_mot(mot):\n",
    "    return mot[1:-1]\n",
    "\n",
    "print('première_lettre(\"Timoléon\") =', première_lettre(\"Timoléon\"))\n",
    "print('dernière_lettre(\"Timoléon\") =', dernière_lettre(\"Timoléon\"))\n",
    "print('sous_mot(\"Timoléon\") =', sous_mot(\"Timoléon\"))\n",
    "print('sous_mot(\"ab\") =', sous_mot(\"ab\"))\n",
    "print('sous_mot(\"a\") =', sous_mot(\"a\"))\n",
    "print('sous_mot(\"\") =', sous_mot(\"\"))\n"
   ]
  },
  {
   "cell_type": "markdown",
   "metadata": {},
   "source": [
    "Ecrivez une fonction ```palindrome(mot)``` qui retourne ```True``` si la chaîne de caractères ```mot```, ```False``` sinon."
   ]
  },
  {
   "cell_type": "code",
   "execution_count": 48,
   "metadata": {},
   "outputs": [
    {
     "name": "stdout",
     "output_type": "stream",
     "text": [
      "True\n"
     ]
    }
   ],
   "source": [
    "def palindrome(mot):\n",
    "    if première_lettre(mot) == dernière_lettre(mot):\n",
    "        mot = sous_mot(mot)\n",
    "        if mot == \"\":\n",
    "            return True\n",
    "        else:\n",
    "            return palindrome(mot)\n",
    "    else: \n",
    "        return False\n",
    "        \n",
    "    \n",
    "print(palindrome(\"elle\"))"
   ]
  },
  {
   "cell_type": "markdown",
   "metadata": {},
   "source": [
    "## Exercice 5\n",
    "\n",
    "L'algorithme d'Euclide permet de calculer le pgcd deux nombres entiers, c'est-à-dire le plus grand positif divisant ces deux nombres, par des divisions entières successives.\n",
    "\n",
    "Voici le déroulement de cet algorithme pour le calcul du pgcd de $a = 119$ et $b = 544$ :\n",
    "\n",
    "* Itération 1 : $119 = 544 \\times 0 + 119$\n",
    "* Itération 2 : $544 = 119 \\times 4 + 68$\n",
    "* Itération 3 : $119 = 68 \\times 1 + 51$\n",
    "* Itération 4 : $68 = 51 \\times 1 + 17$\n",
    "* Itération 5 : $51 = 17 \\times 3 + 0$\n",
    "\n",
    "Le pgcd de 119 et 544 est le dernier reste non nul, c'est-à-dire 17. On va supposer que $a$ et $b$ sont positifs ou nul et que l'un au moins des deux entiers n'est pas nul.\n",
    "\n",
    "1. Exprimez de manière récursive cet algorithme : il faut donc identifier le cas de base et l'appel récursif.\n",
    "2. Implémentez cet algorithme en Python. Le seul opérateur arithmétique que vous pouvez utiliser est le module ```%```."
   ]
  },
  {
   "cell_type": "code",
   "execution_count": 69,
   "metadata": {},
   "outputs": [
    {
     "name": "stdout",
     "output_type": "stream",
     "text": [
      "17\n"
     ]
    }
   ],
   "source": [
    "def pgcd(a,b):\n",
    "    if a == 0:\n",
    "        return b\n",
    "    else:   \n",
    "        return pgcd (b%a,a)\n",
    "\n",
    "print(pgcd(119, 544))    "
   ]
  }
 ],
 "metadata": {
  "interpreter": {
   "hash": "c81fe28bf7dc0f631969d84fa725496b76a5eccaf9a5efd69c5894ddf0a6fdb4"
  },
  "kernelspec": {
   "display_name": "Python 3 (ipykernel)",
   "language": "python",
   "name": "python3"
  },
  "language_info": {
   "codemirror_mode": {
    "name": "ipython",
    "version": 3
   },
   "file_extension": ".py",
   "mimetype": "text/x-python",
   "name": "python",
   "nbconvert_exporter": "python",
   "pygments_lexer": "ipython3",
   "version": "3.9.7"
  }
 },
 "nbformat": 4,
 "nbformat_minor": 4
}
