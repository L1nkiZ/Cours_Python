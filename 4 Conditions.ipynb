{
 "cells": [
  {
   "cell_type": "markdown",
   "metadata": {},
   "source": [
    "# Type : booléen\n",
    "\n",
    "Le type booléen correspond à deux valeurs :"
   ]
  },
  {
   "cell_type": "code",
   "execution_count": 1,
   "metadata": {},
   "outputs": [
    {
     "data": {
      "text/plain": [
       "False"
      ]
     },
     "execution_count": 1,
     "metadata": {},
     "output_type": "execute_result"
    }
   ],
   "source": [
    "True\n",
    "False"
   ]
  },
  {
   "cell_type": "markdown",
   "metadata": {},
   "source": [
    "Ces littéraux peuvent être utilisés comme n'importe quelle valeur. On peut par exemple les affecter à des variables. L'instruction ci-dessous crée une variable ```x``` de type booléen et lui affecte la valeur ```True```."
   ]
  },
  {
   "cell_type": "code",
   "execution_count": 2,
   "metadata": {},
   "outputs": [],
   "source": [
    "x = True"
   ]
  },
  {
   "cell_type": "markdown",
   "metadata": {},
   "source": [
    "**Remarque :** Les valeurs commencent par une majuscule :"
   ]
  },
  {
   "cell_type": "code",
   "execution_count": 3,
   "metadata": {},
   "outputs": [
    {
     "ename": "NameError",
     "evalue": "name 'true' is not defined",
     "output_type": "error",
     "traceback": [
      "\u001b[0;31m---------------------------------------------------------------------------\u001b[0m",
      "\u001b[0;31mNameError\u001b[0m                                 Traceback (most recent call last)",
      "\u001b[0;32m<ipython-input-3-6178c7f6bca6>\u001b[0m in \u001b[0;36m<module>\u001b[0;34m\u001b[0m\n\u001b[1;32m      1\u001b[0m \u001b[0;32mTrue\u001b[0m \u001b[0;31m# La valeur True\u001b[0m\u001b[0;34m\u001b[0m\u001b[0;34m\u001b[0m\u001b[0m\n\u001b[0;32m----> 2\u001b[0;31m \u001b[0mtrue\u001b[0m \u001b[0;31m# Un identifiant\u001b[0m\u001b[0;34m\u001b[0m\u001b[0;34m\u001b[0m\u001b[0m\n\u001b[0m",
      "\u001b[0;31mNameError\u001b[0m: name 'true' is not defined"
     ]
    }
   ],
   "source": [
    "True # La valeur True\n",
    "true # Un identifiant"
   ]
  },
  {
   "cell_type": "markdown",
   "metadata": {},
   "source": [
    "# Expressions booléennes\n",
    "\n",
    "## Définition\n",
    "\n",
    "Une **expression booléenne** est une expression qui retourne soit ```True``` soit ```False```.\n",
    "\n",
    "On peut construire une expression booléenne à l'aide d'**opérateurs de comparaison** et d'**opérateurs logiques**.\n",
    "\n",
    "## Opérateurs de comparaison\n",
    "\n",
    "| Symbole mathématique | Opérateur Python |\n",
    "|:- |:- |  \n",
    "|$=$ | ```==``` |\n",
    "|$\\neq$| ```!=``` |\n",
    "| $>$ | ```>``` |\n",
    "| $\\geq$ | ```>=``` |\n",
    "| $<$ | ```<``` |\n",
    "| $\\leq$ | ```<=``` |\n",
    "\n",
    "- Les opérandes peuvent être n'importe quelle expression valide\n",
    "- Les opérandes sont évalués avant la comparaison"
   ]
  },
  {
   "cell_type": "code",
   "execution_count": 4,
   "metadata": {},
   "outputs": [
    {
     "data": {
      "text/plain": [
       "True"
      ]
     },
     "execution_count": 4,
     "metadata": {},
     "output_type": "execute_result"
    }
   ],
   "source": [
    "5 == 5"
   ]
  },
  {
   "cell_type": "code",
   "execution_count": 5,
   "metadata": {},
   "outputs": [
    {
     "data": {
      "text/plain": [
       "True"
      ]
     },
     "execution_count": 5,
     "metadata": {},
     "output_type": "execute_result"
    }
   ],
   "source": [
    "5 == 5.0"
   ]
  },
  {
   "cell_type": "code",
   "execution_count": 6,
   "metadata": {},
   "outputs": [
    {
     "data": {
      "text/plain": [
       "True"
      ]
     },
     "execution_count": 6,
     "metadata": {},
     "output_type": "execute_result"
    }
   ],
   "source": [
    "5 <= 5.16"
   ]
  },
  {
   "cell_type": "code",
   "execution_count": 7,
   "metadata": {},
   "outputs": [
    {
     "data": {
      "text/plain": [
       "True"
      ]
     },
     "execution_count": 7,
     "metadata": {},
     "output_type": "execute_result"
    }
   ],
   "source": [
    "x = 1\n",
    "y = 2\n",
    "z = 3\n",
    "\n",
    "2 * x + 1 <= 3 * (y  + z)"
   ]
  },
  {
   "cell_type": "code",
   "execution_count": 8,
   "metadata": {},
   "outputs": [
    {
     "ename": "TypeError",
     "evalue": "'<=' not supported between instances of 'int' and 'str'",
     "output_type": "error",
     "traceback": [
      "\u001b[0;31m---------------------------------------------------------------------------\u001b[0m",
      "\u001b[0;31mTypeError\u001b[0m                                 Traceback (most recent call last)",
      "\u001b[0;32m<ipython-input-8-d662ea29e786>\u001b[0m in \u001b[0;36m<module>\u001b[0;34m\u001b[0m\n\u001b[0;32m----> 1\u001b[0;31m \u001b[0;36m5\u001b[0m \u001b[0;34m<=\u001b[0m \u001b[0;34m\"George\"\u001b[0m\u001b[0;34m\u001b[0m\u001b[0;34m\u001b[0m\u001b[0m\n\u001b[0m",
      "\u001b[0;31mTypeError\u001b[0m: '<=' not supported between instances of 'int' and 'str'"
     ]
    }
   ],
   "source": [
    "5 <= \"George\""
   ]
  },
  {
   "cell_type": "markdown",
   "metadata": {},
   "source": [
    "**Attention :** il ne faut pas confondre l'opérateur d'affectation ```=``` et l'opérateur d'égalité ```==```\n",
    "\n",
    "**Attention :** ```=<``` et ```=>``` ne sont pas valides."
   ]
  },
  {
   "cell_type": "markdown",
   "metadata": {},
   "source": [
    "## Opérateurs logiques\n",
    "\n",
    "Il est possible d'étendre les expressions booléennes par des opérateurs logiques : ```and```, ```or``` et ```not```.\n",
    "\n",
    "Par exemple, pour tester si la valeur d'une variable ```x``` est comprise entre 1 et 10, on peut écrire :"
   ]
  },
  {
   "cell_type": "code",
   "execution_count": 9,
   "metadata": {},
   "outputs": [
    {
     "data": {
      "text/plain": [
       "True"
      ]
     },
     "execution_count": 9,
     "metadata": {},
     "output_type": "execute_result"
    }
   ],
   "source": [
    "x >= 1 and x <= 10"
   ]
  },
  {
   "cell_type": "markdown",
   "metadata": {},
   "source": [
    "Les opérandes des opérateurs logiques sont des booléens (littéraux ou expressions booléennes). Ci-dessous, les valeurs retournées par les opérateurs selon la valeur des opérandes.\n",
    "\n",
    "| ```A``` | ```B``` | ```A or B``` | \n",
    "|:- |:- |:- |\n",
    "| ```False``` | ```False``` | ```False``` |\n",
    "| ```False``` | ```True``` | ```True``` |\n",
    "| ```True``` | ```False``` | ```True``` |\n",
    "| ```True``` | ```True``` | ```True``` |"
   ]
  },
  {
   "cell_type": "code",
   "execution_count": 2,
   "metadata": {},
   "outputs": [
    {
     "name": "stdout",
     "output_type": "stream",
     "text": [
      "Première expression : True\n",
      "Seconde expression : False\n",
      "a est-il divisible par 2 ou 3 ? False\n"
     ]
    }
   ],
   "source": [
    "a = 5\n",
    "b = 10\n",
    "c = 15\n",
    "print(\"Première expression :\", a < b or b > c)\n",
    "print(\"Seconde expression :\", a > b or b > c)\n",
    "print(\"a est-il divisible par 2 ou 3 ?\", a%2 == 0 or a%3 == 0)"
   ]
  },
  {
   "cell_type": "markdown",
   "metadata": {},
   "source": [
    "| ```A``` | ```B``` | ```A and B``` | \n",
    "|:- |:- |:- |\n",
    "| ```False``` | ```False``` | ```False``` |\n",
    "| ```False``` | ```True``` | ```False``` |\n",
    "| ```True``` | ```False``` | ```False``` |\n",
    "| ```True``` | ```True``` | ```True``` |"
   ]
  },
  {
   "cell_type": "code",
   "execution_count": 11,
   "metadata": {},
   "outputs": [
    {
     "name": "stdout",
     "output_type": "stream",
     "text": [
      "Première expression : False\n",
      "Deuxième expression : True\n",
      "a est-il divisible par 2 et 3? False\n"
     ]
    }
   ],
   "source": [
    "print(\"Première expression :\", a < b and b > c)\n",
    "print(\"Deuxième expression :\", b > a and b < c)\n",
    "print(\"a est-il divisible par 2 et 3?\", a%2 == 0 and a%3 == 0)"
   ]
  },
  {
   "cell_type": "markdown",
   "metadata": {},
   "source": [
    "**Remarque :** Les opérandes des opérateurs ```or``` et ```and``` sont évalués de la gauche vers la droite avec un mécanisme de **court-circuit** qui arrête l'évaluation dès que l'on est sûr de valeur finale :\n",
    "- ```A or B``` : si ```A == True``` alors l'expression retourne forcément ```True``` et ```B``` n'est pas évalué\n",
    "- ```A and B``` : si ```A == False``` alors l'expression retourne forcément ```False``` et ```B``` n'est pas évalué\n",
    "\n",
    "Considérons l'expression booléenne :"
   ]
  },
  {
   "cell_type": "code",
   "execution_count": 12,
   "metadata": {},
   "outputs": [
    {
     "data": {
      "text/plain": [
       "False"
      ]
     },
     "execution_count": 12,
     "metadata": {},
     "output_type": "execute_result"
    }
   ],
   "source": [
    "1. / a > .5"
   ]
  },
  {
   "cell_type": "markdown",
   "metadata": {},
   "source": [
    "Si ```a == 0```, il y a un problème :"
   ]
  },
  {
   "cell_type": "code",
   "execution_count": 3,
   "metadata": {},
   "outputs": [
    {
     "ename": "ZeroDivisionError",
     "evalue": "float division by zero",
     "output_type": "error",
     "traceback": [
      "\u001b[0;31m---------------------------------------------------------------------------\u001b[0m",
      "\u001b[0;31mZeroDivisionError\u001b[0m                         Traceback (most recent call last)",
      "\u001b[0;32m<ipython-input-3-46fdd15fbd8d>\u001b[0m in \u001b[0;36m<module>\u001b[0;34m\u001b[0m\n\u001b[1;32m      1\u001b[0m \u001b[0ma\u001b[0m \u001b[0;34m=\u001b[0m \u001b[0;36m0\u001b[0m\u001b[0;34m\u001b[0m\u001b[0;34m\u001b[0m\u001b[0m\n\u001b[0;32m----> 2\u001b[0;31m \u001b[0;36m1.\u001b[0m \u001b[0;34m/\u001b[0m \u001b[0ma\u001b[0m \u001b[0;34m>\u001b[0m \u001b[0;36m.5\u001b[0m\u001b[0;34m\u001b[0m\u001b[0;34m\u001b[0m\u001b[0m\n\u001b[0m",
      "\u001b[0;31mZeroDivisionError\u001b[0m: float division by zero"
     ]
    }
   ],
   "source": [
    "a = 0\n",
    "1. / a > .5"
   ]
  },
  {
   "cell_type": "markdown",
   "metadata": {},
   "source": [
    "Il ne faut donc faire le test que si ```a != 0```. Si ```a == 0```, on peut retourner ```False```:"
   ]
  },
  {
   "cell_type": "code",
   "execution_count": 14,
   "metadata": {},
   "outputs": [
    {
     "data": {
      "text/plain": [
       "False"
      ]
     },
     "execution_count": 14,
     "metadata": {},
     "output_type": "execute_result"
    }
   ],
   "source": [
    "a != 0 and 1. / a > .5"
   ]
  },
  {
   "cell_type": "markdown",
   "metadata": {},
   "source": [
    "L'ordre des opérandes de ```and``` a une importance ici :"
   ]
  },
  {
   "cell_type": "code",
   "execution_count": 15,
   "metadata": {},
   "outputs": [
    {
     "ename": "ZeroDivisionError",
     "evalue": "float division by zero",
     "output_type": "error",
     "traceback": [
      "\u001b[0;31m---------------------------------------------------------------------------\u001b[0m",
      "\u001b[0;31mZeroDivisionError\u001b[0m                         Traceback (most recent call last)",
      "\u001b[0;32m<ipython-input-15-c06b982b0fb0>\u001b[0m in \u001b[0;36m<module>\u001b[0;34m\u001b[0m\n\u001b[0;32m----> 1\u001b[0;31m \u001b[0;36m1.\u001b[0m \u001b[0;34m/\u001b[0m \u001b[0ma\u001b[0m \u001b[0;34m>\u001b[0m \u001b[0;36m.5\u001b[0m \u001b[0;32mand\u001b[0m \u001b[0ma\u001b[0m \u001b[0;34m!=\u001b[0m \u001b[0;36m0\u001b[0m\u001b[0;34m\u001b[0m\u001b[0;34m\u001b[0m\u001b[0m\n\u001b[0m",
      "\u001b[0;31mZeroDivisionError\u001b[0m: float division by zero"
     ]
    }
   ],
   "source": [
    "1. / a > .5 and a != 0"
   ]
  },
  {
   "cell_type": "markdown",
   "metadata": {},
   "source": [
    "| ```A``` | ```not A``` |\n",
    "|:- |:- |\n",
    "|```False``` | ```True``` |\n",
    "|```True``` | ```False```|"
   ]
  },
  {
   "cell_type": "code",
   "execution_count": 16,
   "metadata": {},
   "outputs": [
    {
     "data": {
      "text/plain": [
       "False"
      ]
     },
     "execution_count": 16,
     "metadata": {},
     "output_type": "execute_result"
    }
   ],
   "source": [
    "not True"
   ]
  },
  {
   "cell_type": "code",
   "execution_count": 17,
   "metadata": {},
   "outputs": [
    {
     "data": {
      "text/plain": [
       "True"
      ]
     },
     "execution_count": 17,
     "metadata": {},
     "output_type": "execute_result"
    }
   ],
   "source": [
    "(not 1 == 2) == (1 != 2)"
   ]
  },
  {
   "cell_type": "code",
   "execution_count": 18,
   "metadata": {},
   "outputs": [
    {
     "name": "stdout",
     "output_type": "stream",
     "text": [
      "Ou exclusif : True\n"
     ]
    }
   ],
   "source": [
    "a = True\n",
    "b = False\n",
    "print(\"Ou exclusif :\", (a or b) and not (a and b))"
   ]
  },
  {
   "cell_type": "markdown",
   "metadata": {},
   "source": [
    "**Remarques :**\n",
    "- ```not (A or B) == (not A) and (not B)```\n",
    "- ```not (A and B) == (not A) or (not B)```\n",
    "\n",
    "## Exercices\n",
    "\n",
    "### Exercice 1\n",
    "\n",
    "Soit ```x```, ```y``` et ```z```, trois variables entières. Ecrivez une expression booléenne qui retourne ```True``` si et seulement si\n",
    "\n",
    "1. les valeurs de ```x```, ```y``` et ```z``` sont égales"
   ]
  },
  {
   "cell_type": "code",
   "execution_count": 1,
   "metadata": {},
   "outputs": [
    {
     "data": {
      "text/plain": [
       "True"
      ]
     },
     "execution_count": 1,
     "metadata": {},
     "output_type": "execute_result"
    }
   ],
   "source": [
    "x = 10\n",
    "y = 10\n",
    "z = 10\n",
    "\n",
    "# x == y == z\n",
    "x == y and y == z"
   ]
  },
  {
   "cell_type": "markdown",
   "metadata": {},
   "source": [
    "2. la valeur de ```y``` est comprise entre les deux autres (on ne fait aucune hypothèse sur l'ordre entre ```x``` et ```z```)"
   ]
  },
  {
   "cell_type": "code",
   "execution_count": 2,
   "metadata": {},
   "outputs": [
    {
     "data": {
      "text/plain": [
       "True"
      ]
     },
     "execution_count": 2,
     "metadata": {},
     "output_type": "execute_result"
    }
   ],
   "source": [
    "x = 1\n",
    "y = 5\n",
    "z = 10\n",
    "\n",
    "# x < y < z\n",
    "x < y and y < z"
   ]
  },
  {
   "cell_type": "markdown",
   "metadata": {},
   "source": [
    "3. ```x``` est pair"
   ]
  },
  {
   "cell_type": "code",
   "execution_count": 28,
   "metadata": {},
   "outputs": [],
   "source": [
    "x = 10\n",
    "\n",
    "a = x%2 == 0\n"
   ]
  },
  {
   "cell_type": "markdown",
   "metadata": {},
   "source": [
    "### Exercice 2\n",
    "\n",
    "Pour chacun des intervals $I_n$ ci-dessous écrire une expression booléenne qui retourne ```True``` si et seulement si la variable ```x``` appartient à l'ensemble.\n",
    "\n",
    "1. $I_1 = [-1; 3]$"
   ]
  },
  {
   "cell_type": "code",
   "execution_count": 9,
   "metadata": {},
   "outputs": [
    {
     "data": {
      "text/plain": [
       "True"
      ]
     },
     "execution_count": 9,
     "metadata": {},
     "output_type": "execute_result"
    }
   ],
   "source": [
    "x = 2\n",
    "\n",
    "-1 <= x and x <= 3"
   ]
  },
  {
   "cell_type": "markdown",
   "metadata": {},
   "source": [
    "2. $I_2 = \\ ]-1; 3]$"
   ]
  },
  {
   "cell_type": "code",
   "execution_count": 11,
   "metadata": {},
   "outputs": [
    {
     "data": {
      "text/plain": [
       "False"
      ]
     },
     "execution_count": 11,
     "metadata": {},
     "output_type": "execute_result"
    }
   ],
   "source": [
    "x = 3\n",
    "\n",
    "-1 < x and x < 3"
   ]
  },
  {
   "cell_type": "markdown",
   "metadata": {},
   "source": [
    "3. $I_3 = \\ ]-1; 3] \\cup [8; 10]$"
   ]
  },
  {
   "cell_type": "code",
   "execution_count": null,
   "metadata": {},
   "outputs": [],
   "source": [
    "x = 3\n",
    "\n",
    "-1 < x <= 3 or 8 <= x <= 10"
   ]
  },
  {
   "cell_type": "markdown",
   "metadata": {},
   "source": [
    "4. $I_4 = \\ ]-1; 3] \\cup [8; +\\infty[$"
   ]
  },
  {
   "cell_type": "code",
   "execution_count": 12,
   "metadata": {},
   "outputs": [
    {
     "data": {
      "text/plain": [
       "True"
      ]
     },
     "execution_count": 12,
     "metadata": {},
     "output_type": "execute_result"
    }
   ],
   "source": [
    "import math\n",
    "\n",
    "x = 3\n",
    "\n",
    "-1 < x <= 3 or 8 <= x < math.inf"
   ]
  },
  {
   "cell_type": "markdown",
   "metadata": {},
   "source": [
    "### Exercice 3\n",
    "\n",
    "Ecrire une expression booléenne qui vérifie si deux variables entières ```x``` et ```y``` sont de même signe."
   ]
  },
  {
   "cell_type": "code",
   "execution_count": 23,
   "metadata": {},
   "outputs": [
    {
     "data": {
      "text/plain": [
       "True"
      ]
     },
     "execution_count": 23,
     "metadata": {},
     "output_type": "execute_result"
    }
   ],
   "source": [
    "a = -1\n",
    "b = -5\n",
    "\n",
    "a < 0  and b < 0 or a > 0 and b > 0\n",
    "\n",
    "#----\n",
    "\n",
    "# a*b > 0"
   ]
  },
  {
   "cell_type": "markdown",
   "metadata": {},
   "source": [
    "### Exercice 4\n",
    "\n",
    "Ecrire une expression booléenne qui retourne ```True``` si et seulement si les valeurs numériques stockées dans trois variables ```a```, ```b``` et ```c``` sont telles que $a < b < c$."
   ]
  },
  {
   "cell_type": "code",
   "execution_count": 24,
   "metadata": {},
   "outputs": [
    {
     "data": {
      "text/plain": [
       "True"
      ]
     },
     "execution_count": 24,
     "metadata": {},
     "output_type": "execute_result"
    }
   ],
   "source": [
    "a = 1\n",
    "b = 5\n",
    "c =10\n",
    "\n",
    "# a < b < c \n",
    "a < b and b < c"
   ]
  },
  {
   "cell_type": "markdown",
   "metadata": {},
   "source": [
    "# Instruction conditionnelle\n",
    "\n",
    "## Instruction ```if```\n",
    "\n",
    "L'instruction ```if``` permet de conditioner l'exécution d'une partie du code selon la valeur d'une expression booléenne.\n",
    "\n",
    "Par exemple, ci-dessous si ```x``` est vraie alors le message sera affiché sinon on ne fera rien."
   ]
  },
  {
   "cell_type": "code",
   "execution_count": null,
   "metadata": {},
   "outputs": [],
   "source": [
    "if x > 0:\n",
    "    print('x est positif')"
   ]
  },
  {
   "cell_type": "markdown",
   "metadata": {},
   "source": [
    "* ```if``` est un mot-clef\n",
    "* il est suivi de la condition à vérifier $=$ une expression booléenne\n",
    "* la condition est suivie de ```:```\n",
    "* le bloc d'instructions à exécutée si la condition est vraie ; le bloc est défini par l'indentation\n",
    "* le bloc d'instructions doit contenir au moins une instruction et il n'y a pas de limite supérieure"
   ]
  },
  {
   "cell_type": "markdown",
   "metadata": {},
   "source": [
    "## Instruction conditionnelle avec alternative\n",
    "\n",
    "Il est possible d'ajouter à l'instruction ```if``` un bloc d'instructions à exécuter si la condition est fausse. Le second bloc est introduit par le mot-clef ```else``` (même niveau d'indentation que le ```if``` correspondant) suivi du caractère ```:```. "
   ]
  },
  {
   "cell_type": "code",
   "execution_count": null,
   "metadata": {},
   "outputs": [],
   "source": [
    "if x%2 == 0:\n",
    "    print(x, \"est pair\")\n",
    "else:\n",
    "    print(x, \"est impair\")"
   ]
  },
  {
   "cell_type": "markdown",
   "metadata": {},
   "source": [
    "**Remarque :** la condition étant nécessairement vraie ou fausse, une des deux **branches d'exécution** est nécessairement exécutée."
   ]
  },
  {
   "cell_type": "markdown",
   "metadata": {},
   "source": [
    "## Instructions conditionnelles chaînées\n",
    "\n",
    "S'il y a plus de deux choix possibles, il est possible de définir plusieurs branches en utilisant la syntaxe suivante :"
   ]
  },
  {
   "cell_type": "code",
   "execution_count": null,
   "metadata": {},
   "outputs": [],
   "source": [
    "if x < y:\n",
    "    print(\"x est strictement plus petit que y\")\n",
    "elif x > y:\n",
    "    print(\"x est strictement plus grand que x\")\n",
    "else:\n",
    "    print(\"x et y sont égaux\")"
   ]
  },
  {
   "cell_type": "markdown",
   "metadata": {},
   "source": [
    "* ```elif``` = abbréviation de ```else if```\n",
    "* Une seule branche sera exécutée : la première en partant du haut dont la condition est vraie\n",
    "* Il peut y avoir un nombre quelconque d'instruction ```elif```\n",
    "* L'instruction ```else``` est facultative et se situe à la fin (elle n'est considérée que si toutes les conditions précédentes sont fausses)"
   ]
  },
  {
   "cell_type": "code",
   "execution_count": null,
   "metadata": {},
   "outputs": [],
   "source": [
    "if choix == 'A':\n",
    "    print(\"un prénom commençant par 'A' : Arthur\")\n",
    "elif choix == 'B':\n",
    "    print(\"un prénom commençant par 'B' : Bob\")\n",
    "elif choix == 'G':\n",
    "    print(\"un prénom commençant par 'G' : Gudule\")"
   ]
  },
  {
   "cell_type": "markdown",
   "metadata": {},
   "source": [
    "## Instructions conditionnelles imbriquées\n",
    "\n",
    "Le bloc d'instruction dans une branche peut contenir lui-même des instructions conditionnelles.\n",
    "\n",
    "Le code comparant ```x``` et ```y``` ci-dessus peut être réécrit de manière équivalente :"
   ]
  },
  {
   "cell_type": "code",
   "execution_count": null,
   "metadata": {},
   "outputs": [],
   "source": [
    "if x == y:\n",
    "    print(\"x et y sont égaux\")\n",
    "else:\n",
    "    if x < y:\n",
    "        print(\"x est strictement plus petit que y\")\n",
    "    else:\n",
    "        print(\"x est strictement plus grande que y\")"
   ]
  },
  {
   "cell_type": "markdown",
   "metadata": {},
   "source": [
    "Pour des raisons de lisibilité, lorsque cela est possible, il est recommandé d'éviter d'imbriquer les instructions ```if``` soit en utilisant si possible les instructions conditionnelles chaînées soit si possible en utilisant des opérateurs logiques dans les conditions. Par exemple, le code "
   ]
  },
  {
   "cell_type": "code",
   "execution_count": null,
   "metadata": {},
   "outputs": [],
   "source": [
    "if 0 < x:\n",
    "    if x < 10:\n",
    "        print(\"x est un nombre avec un seul chiffre positif\")"
   ]
  },
  {
   "cell_type": "markdown",
   "metadata": {},
   "source": [
    "peut se réécrire"
   ]
  },
  {
   "cell_type": "code",
   "execution_count": null,
   "metadata": {},
   "outputs": [],
   "source": [
    "if 0 < x and x < 10:\n",
    "    print(\"x est un nombre avec un seul chiffre positif\")"
   ]
  },
  {
   "cell_type": "markdown",
   "metadata": {},
   "source": [
    "De même, si deux branches ont le même comportement, on peut les factoriser en liant leur condition par l'opérateur ```or```. Par exemple, plutôt qu'écrire :"
   ]
  },
  {
   "cell_type": "code",
   "execution_count": null,
   "metadata": {},
   "outputs": [],
   "source": [
    "if année%4 == 0 and année%100 != 0:\n",
    "    print(année, \"est bissextile\")\n",
    "elif année%400 == 0:\n",
    "    print(année, \"est bissextile\")\n",
    "else:\n",
    "    print(année, \"n'est pas bissextile\")"
   ]
  },
  {
   "cell_type": "markdown",
   "metadata": {},
   "source": [
    "on écrira :"
   ]
  },
  {
   "cell_type": "code",
   "execution_count": null,
   "metadata": {},
   "outputs": [],
   "source": [
    "if année%4 == 0 and année%100 != 0 or année%400 == 0:\n",
    "    print(année, \"est bissextile\")\n",
    "else:\n",
    "    print(année, \"n'est pas bissextile\")"
   ]
  },
  {
   "cell_type": "markdown",
   "metadata": {},
   "source": [
    "## Exercices\n",
    "\n",
    "### Exercice 1\n",
    "\n",
    "Le théorème de Fermat indique qu'il n'y a pas d'entier positif $a$, $b$ et $c$ tel que $a^n + b^n = c^n$ pour tout $n \\geq 2$.\n",
    "\n",
    "**Rappel :** pour calculer $x^y$ en Python on peut utiliser l'opérateur ```**``` : ```x ** y```\n",
    "\n",
    "1. Ecrire une fonction ```check_fermat```qui prend quatre paramètres ```a```, ```b```, ```c``` et ```n```. Si $n \\geq 2$ et que $a^n + b^n = c^n$, la fonction doit afficher ```\"Fermat avait tort\"``` sinon la fonction doit afficher ```\"Cela ne marche pas\"```. "
   ]
  },
  {
   "cell_type": "code",
   "execution_count": 34,
   "metadata": {},
   "outputs": [
    {
     "name": "stdout",
     "output_type": "stream",
     "text": [
      "Cela ne marche pas\n"
     ]
    }
   ],
   "source": [
    "def check_ferma (a, b , c, n) : \n",
    "    if n >= 2 and a**n+b**n == c**n :\n",
    "        print (\"Fermat avait tort\")\n",
    "    else :\n",
    "        print (\"Cela ne marche pas\")\n",
    "\n",
    "    \n",
    "check_ferma (5 , 10 , 2 , 2)\n"
   ]
  },
  {
   "cell_type": "markdown",
   "metadata": {},
   "source": [
    "2. Ecrire un programme qui demande à un utilisateur de fournir quatre entiers $a$, $b$, $c$ et $n$ et qui utilise la fonction précédente pour vérifier si le théorême de Fermat est vérifié pour ces valeurs."
   ]
  },
  {
   "cell_type": "code",
   "execution_count": 36,
   "metadata": {},
   "outputs": [
    {
     "name": "stdout",
     "output_type": "stream",
     "text": [
      "Cela ne marche pas\n"
     ]
    }
   ],
   "source": [
    "a = int(input(\"Entrez la valeur de a : \"))\n",
    "b = int(input(\"Entrez la valeur de b : \"))\n",
    "c = int(input(\"Entrez la valeur de c : \"))\n",
    "d = int(input(\"Entrez la valeur de d : \"))\n",
    "\n",
    "check_ferma(a , b , c , d)"
   ]
  },
  {
   "cell_type": "markdown",
   "metadata": {},
   "source": [
    "### Exercice 2\n",
    "\n",
    "Si on a trois bâtons, on peut ou non les arranger de telle sorte qu'ils forment un triangle en fonction de leurs longueurs. Etant donné trois longueurs, on peut facilement tester si on peut former un triangle à l'aide du test suivant :\n",
    "\n",
    "Si une des trois longueurs est plus grande que la somme de deux autres, on ne peut pas former de triangle, sinon c'est possible. \n",
    "\n",
    "1. Ecrivez une fonction ```est_triangle``` qui prend trois longueurs en arguments et qui affiche ```\"Oui\"``` ou ```\"Non\"``` selon que l'on peut former ou non un triangle avec des bâtons de ces trois longueurs. "
   ]
  },
  {
   "cell_type": "code",
   "execution_count": 2,
   "metadata": {},
   "outputs": [
    {
     "name": "stdout",
     "output_type": "stream",
     "text": [
      "Oui\n"
     ]
    }
   ],
   "source": [
    "def est_triangle (l1 , l2 , l3  ): \n",
    "    if l1 > l2 + l3 or l2 > l1 + l3 or l3 > l1 + l3 : \n",
    "        print (\"Oui\")\n",
    "    else : \n",
    "        print (\"Non\")\n",
    "    \n",
    "est_triangle (5 , 10 , 3)"
   ]
  },
  {
   "cell_type": "markdown",
   "metadata": {},
   "source": [
    "2. Ecrire un programme qui demande à un utilisateur trois longueurs et qui affiche en utilisant la fonction définie ci-dessus s'il est possible de faire un triangle ou non."
   ]
  },
  {
   "cell_type": "code",
   "execution_count": 3,
   "metadata": {},
   "outputs": [
    {
     "name": "stdout",
     "output_type": "stream",
     "text": [
      "Oui\n"
     ]
    }
   ],
   "source": [
    "a = int(input(\"Entrez la première longueurs du triangle : \"))\n",
    "b = int(input(\"Entrez la deuxième longueurs du triangle : \"))\n",
    "c = int(input(\"Entrez la troisième longueurs du triangle : \"))\n",
    "\n",
    "est_triangle (a, b , c)\n"
   ]
  },
  {
   "cell_type": "markdown",
   "metadata": {},
   "source": [
    "### Exercice 3\n",
    "\n",
    "Écrire un programme qui lit un prix hors taxe et qui calcule et affiche le prix TTC correspondant (avec un taux de TVA de 19.6%). Il établit ensuite une remise dont le taux est le suivant :\n",
    "\n",
    "- 0% pour un montant TTC inférieur à 1000 euros,\n",
    "- 1% pour un montant TTC supérieur ou égal à 1000 euros et inférieur à 2000 euros, \n",
    "- 2% pour un montant TTC supérieur ou égal à 2000 euros et inférieur à 5000 euros, \n",
    "- 5% pour un montant TT supérieur ou égal à 5000 euros.\n",
    "\n",
    "On affichera la remise obtenue et le nouveau montant TTC."
   ]
  },
  {
   "cell_type": "code",
   "execution_count": 27,
   "metadata": {},
   "outputs": [
    {
     "name": "stdout",
     "output_type": "stream",
     "text": [
      "Le taux est de 1% et la valeur est de : 1873.0\n"
     ]
    }
   ],
   "source": [
    "def calcul(val) :\n",
    "    if val < 1000 :\n",
    "        v1 = val + val / 19.6\n",
    "        v1 = v1 - val * 0\n",
    "        print(\"Le taux est de 0% et la valeur est de :\", v1)\n",
    "    if val >= 1000 and val < 2000 :\n",
    "        v2 = val + val // 19.6\n",
    "        v2 = v2 -  val * 0.01\n",
    "        print(\"Le taux est de 1% et la valeur est de :\", v2)\n",
    "    if val >=2000 and  val < 5000 :\n",
    "        v3 = val + val // 19.6\n",
    "        v3 = v3 - val * 0.02\n",
    "        print(\"Le taux est de 2% et la valeur est de :\", v3)\n",
    "    if val >= 5000 : \n",
    "        v4 = val + val // 19.6\n",
    "        v4 = v4 - val * 0.05\n",
    "        print(\"Le taux est de 5% et la valeur est de :\", v4)\n",
    "\n",
    "val = int(input(\"Donnez le montant :\"))\n",
    "calcul (val)\n",
    "\n"
   ]
  },
  {
   "cell_type": "markdown",
   "metadata": {},
   "source": [
    "### Exercice 4\n",
    "\n",
    "Soit la date du jour connu sous la forme de 3 entiers : Jour, Mois, Année. On souhaite déterminer la date du lendemain donnée dans le même format.\n",
    "\n",
    "1. Ecrire une fonction qui prend en argument 3 entiers représentant la date du jour et qui affiche la date du lendemain. On ne prendra pas en compte les années bissextiles.\n"
   ]
  },
  {
   "cell_type": "code",
   "execution_count": 42,
   "metadata": {},
   "outputs": [
    {
     "name": "stdout",
     "output_type": "stream",
     "text": [
      "Nous sommes 1 1 2000\n",
      "Nous sommes 2 1 2000\n"
     ]
    }
   ],
   "source": [
    "def date (j,m,a):\n",
    "    if j == 31 and m == 12:\n",
    "        j = 1\n",
    "        m = 1\n",
    "        a = a + 1\n",
    "        print(\"Nous sommes\",j,m,a)\n",
    "    if m == 1 or m == 3 or m == 5 or m == 8 or m == 10 or (m == 12 and j != 31):\n",
    "        if j == 31 :\n",
    "            j = 1\n",
    "            m = m +1\n",
    "            print(\"Nous sommes\",j,m,a)\n",
    "        else: \n",
    "            j = j+1\n",
    "            print(\"Nous sommes\",j,m,a)\n",
    "    if m == 4 or m == 6 or m == 9 or m == 11:\n",
    "        if j == 30 :\n",
    "            j = 1\n",
    "            m = m +1\n",
    "            print(\"Nous sommes\",j,m,a)\n",
    "        else: \n",
    "            j = j+1\n",
    "            print(\"Nous sommes\",j,m,a)\n",
    "    if m == 2:\n",
    "        if j == 28 :\n",
    "            j = 1\n",
    "            m = m +1\n",
    "            print(\"Nous sommes\",j,m,a)\n",
    "        else: \n",
    "            j = j+1\n",
    "            print(\"Nous sommes\",j,m,a)\n",
    "\n",
    "\n",
    "\n",
    "j = int(input(\"Entrez le jour d'aujourd'hui : \"))\n",
    "m = int(input(\"Entrez le mois actuelle : \"))\n",
    "a = int(input(\"On est en quelle année ?\"))\n",
    "\n",
    "date (j, m , a)"
   ]
  },
  {
   "cell_type": "markdown",
   "metadata": {},
   "source": [
    "2. Modifier votre fonction pour prendre en compte les années bissextiles."
   ]
  },
  {
   "cell_type": "code",
   "execution_count": null,
   "metadata": {},
   "outputs": [],
   "source": [
    "def date (j,m,a):\n",
    "    if j == 31 and m == 12:\n",
    "        j = 1\n",
    "        m = 1\n",
    "        a = a + 1\n",
    "        print(\"Nous sommes\",j,m,a)\n",
    "    if m == 1 or m == 3 or m == 5 or m == 8 or m == 10 or (m == 12 and j != 31):\n",
    "        if j == 31 :\n",
    "            j = 1\n",
    "            m = m +1\n",
    "            print(\"Nous sommes\",j,m,a)\n",
    "        else: \n",
    "            j = j+1\n",
    "            print(\"Nous sommes\",j,m,a)\n",
    "    if m == 4 or m == 6 or m == 9 or m == 11:\n",
    "        if j == 30 :\n",
    "            j = 1\n",
    "            m = m +1\n",
    "            print(\"Nous sommes\",j,m,a)\n",
    "        else: \n",
    "            j = j+1\n",
    "            print(\"Nous sommes\",j,m,a)\n",
    "    if m == 2:\n",
    "        if j == 28 or j == 29:\n",
    "            j = 1\n",
    "            m = m +1\n",
    "            print(\"Nous sommes\",j,m,a)\n",
    "        else: \n",
    "            j = j+1\n",
    "            print(\"Nous sommes\",j,m,a)\n",
    "\n",
    "\n",
    "\n",
    "j = int(input(\"Entrez le jour d'aujourd'hui : \"))\n",
    "m = int(input(\"Entrez le mois actuelle : \"))\n",
    "a = int(input(\"On est en quelle année ?\"))\n"
   ]
  },
  {
   "cell_type": "markdown",
   "metadata": {},
   "source": [
    "### Exercice 5\n",
    "\n",
    "On reprend l’exercice sur le rendu de monnaie. On suppose maintenant qu’il y a un nombre de pièces limité par valeur faciale de la pièce : 10, 5, 2 et 1.\n",
    "\n",
    "Ecrivez une fonction qui prend en paramètre la somme à rendre ainsi que quatre entiers donnant le nombre de pièces par valeur. La procédure doit afficher le nombre de pièces à rendre par valeur. S’il n’est pas possible de rendre la monnaie avec les pièces à disposition, la procédure doit afficher un message dans ce sens."
   ]
  },
  {
   "cell_type": "code",
   "execution_count": null,
   "metadata": {},
   "outputs": [],
   "source": []
  },
  {
   "cell_type": "markdown",
   "metadata": {},
   "source": [
    "# Une introduction à la récursivité\n",
    "\n",
    "## Définition\n",
    "\n",
    "Une fonction peut s'appeler elle-même (c'est-à-dire qu'il y a un appel à la fonction dans le corps de la fonction). On parle alors de **récursivité** et la fonction est dite **récursive**.\n",
    "\n",
    "## Exemples"
   ]
  },
  {
   "cell_type": "code",
   "execution_count": null,
   "metadata": {},
   "outputs": [],
   "source": [
    "def compte_a_rebours(n):\n",
    "    if n <= 0:\n",
    "        print(\"Boom !\")\n",
    "    else:\n",
    "        print(n)\n",
    "        compte_a_rebours(n-1)\n",
    "\n",
    "compte_a_rebours(3)"
   ]
  },
  {
   "cell_type": "markdown",
   "metadata": {},
   "source": [
    "Il est possible de visualiser le comportement de la fonction via un **arbre d'appel**. Ici l'arbre d'appel est assez simple :\n",
    "\n",
    "cab(3) $\\rightarrow$ cab(2) $\\rightarrow$ cab(1) $\\rightarrow$ cab(0) \n",
    "\n",
    "On peut utiliser notamment la récursivité pour répéter une action un nombre donné de fois (même si dans les cas simples on utilisera plutôt une boucle ```for```). La fonction ci-dessous affiche ```n``` fois la chaîne de caractères ```s``` :"
   ]
  },
  {
   "cell_type": "code",
   "execution_count": null,
   "metadata": {},
   "outputs": [],
   "source": [
    "def print_n(s, n):\n",
    "    if n <= 0:\n",
    "        return\n",
    "    print(s)\n",
    "    print_n(s, n-1)\n",
    "\n",
    "print_n('Timoléon', 3)"
   ]
  },
  {
   "cell_type": "markdown",
   "metadata": {},
   "source": [
    "**Remarque :** l'instruction ```return``` met fin à l'exécution de la fonction.\n",
    "\n",
    "## Définition d'une fonction récursive\n",
    "\n",
    "- Il faut que la fonction ait (au moins) un **cas de base**. C'est-à-dire une branche d'exécution qui ne comprend pas d'appel récursif. Il y a donc forcément un ```if```. \n",
    "- Lors des appels récursifs, il faut veiller au fait que l'on converge vers un cas de base\n",
    "- Sinon on peut avoir une fonction qui ne s'arrête jamais :"
   ]
  },
  {
   "cell_type": "code",
   "execution_count": null,
   "metadata": {},
   "outputs": [],
   "source": [
    "def recursive():\n",
    "    recursive()\n",
    "\n",
    "recursive()"
   ]
  },
  {
   "cell_type": "markdown",
   "metadata": {},
   "source": [
    "## Exercices\n",
    "\n",
    "### Exercice 1\n",
    "\n",
    "Soit la fonction récursive :"
   ]
  },
  {
   "cell_type": "code",
   "execution_count": null,
   "metadata": {},
   "outputs": [],
   "source": [
    "def recursive(n, s):\n",
    "    if n == 0:\n",
    "        print(s)\n",
    "    else:\n",
    "        recursive(n-1, n+s)"
   ]
  },
  {
   "cell_type": "markdown",
   "metadata": {},
   "source": [
    "1. Donnez l'arbre d'appel pour l'appel de fonction suivant :"
   ]
  },
  {
   "cell_type": "code",
   "execution_count": null,
   "metadata": {},
   "outputs": [],
   "source": [
    "recursive(3, 0)"
   ]
  },
  {
   "cell_type": "markdown",
   "metadata": {},
   "source": [
    "2. Que calcule cette fonction ?\n",
    "3. Que se passe-t'il lors de l'appel suivant ?"
   ]
  },
  {
   "cell_type": "code",
   "execution_count": null,
   "metadata": {},
   "outputs": [],
   "source": [
    "recursive(-1, 0)"
   ]
  },
  {
   "cell_type": "markdown",
   "metadata": {},
   "source": [
    "### Exercice 2\n",
    "\n",
    "Essayez de deviner ce que fait la fonction ci-dessous. Le premier paramètre est une tortue, le second un réel et le troisième un entier. Exécuter pour vérifier si vous aviez raison.\n",
    "\n",
    "**Indication :** la méthode ```bk``` permet de faire faire marche arrière à la tortue."
   ]
  },
  {
   "cell_type": "code",
   "execution_count": 44,
   "metadata": {},
   "outputs": [],
   "source": [
    "import turtle\n",
    "\n",
    "def draw(t, length, n):\n",
    "    if n == 0:\n",
    "        return\n",
    "    angle = 50\n",
    "    t.fd(length*n)\n",
    "    t.lt(angle)\n",
    "    draw(t, length, n-1)\n",
    "    t.rt(2*angle)\n",
    "    draw(t, length, n-1)\n",
    "    t.lt(angle)\n",
    "    t.bk(length*n)\n"
   ]
  },
  {
   "cell_type": "markdown",
   "metadata": {},
   "source": [
    "### Exercice 3\n",
    "\n",
    "La courbe de Koch est une fractale (que vous verrez si vous arrivez à faire l'exercice). Pour dessiner un flocon de longueur $x \\geq 3$, il faut :\n",
    "\n",
    "1. Dessiner une courbe de Koch de longueur $x/3$.\n",
    "2. Tourner à gauche de 60 degrés.\n",
    "3. Dessiner une courbe de Koch de longueur $x/3$.\n",
    "4. Tourner à droite de 120 degrés.\n",
    "5. Dessiner une courbe de Koch de longueur $x/3$.\n",
    "6. Tourner à gauche de 60 degrés.\n",
    "7. Dessiner une courbe de Koch de longueur $x/3$.\n",
    "\n",
    "Si $x < 3$, on trace juste une ligne droite de longueur $x$.\n",
    "\n",
    "Ecrire une fonction ```koch```qui prend une tortue et une longueur en argument et qui fait tracer à la tortue une courbe de Koch de la longueur donnée."
   ]
  },
  {
   "cell_type": "code",
   "execution_count": 56,
   "metadata": {},
   "outputs": [
    {
     "name": "stdout",
     "output_type": "stream",
     "text": [
      "<turtle.Turtle object at 0x7f9308e96940>\n",
      "<class 'turtle.Turtle'>\n"
     ]
    },
    {
     "ename": "AttributeError",
     "evalue": "'int' object has no attribute 'fd'",
     "output_type": "error",
     "traceback": [
      "\u001b[0;31m---------------------------------------------------------------------------\u001b[0m",
      "\u001b[0;31mAttributeError\u001b[0m                            Traceback (most recent call last)",
      "\u001b[0;32m<ipython-input-56-f2dfbb465220>\u001b[0m in \u001b[0;36m<module>\u001b[0;34m\u001b[0m\n\u001b[1;32m      3\u001b[0m \u001b[0mprint\u001b[0m\u001b[0;34m(\u001b[0m\u001b[0mbob\u001b[0m\u001b[0;34m)\u001b[0m\u001b[0;34m\u001b[0m\u001b[0;34m\u001b[0m\u001b[0m\n\u001b[1;32m      4\u001b[0m \u001b[0mprint\u001b[0m\u001b[0;34m(\u001b[0m\u001b[0mtype\u001b[0m\u001b[0;34m(\u001b[0m\u001b[0mbob\u001b[0m\u001b[0;34m)\u001b[0m\u001b[0;34m)\u001b[0m\u001b[0;34m\u001b[0m\u001b[0;34m\u001b[0m\u001b[0m\n\u001b[0;32m----> 5\u001b[0;31m \u001b[0mdraw\u001b[0m \u001b[0;34m(\u001b[0m\u001b[0;36m50\u001b[0m\u001b[0;34m,\u001b[0m\u001b[0;36m10\u001b[0m\u001b[0;34m,\u001b[0m\u001b[0;36m10\u001b[0m\u001b[0;34m)\u001b[0m\u001b[0;34m\u001b[0m\u001b[0;34m\u001b[0m\u001b[0m\n\u001b[0m",
      "\u001b[0;32m<ipython-input-52-62553a35994c>\u001b[0m in \u001b[0;36mdraw\u001b[0;34m(t, length, n)\u001b[0m\n\u001b[1;32m      4\u001b[0m         \u001b[0;32mreturn\u001b[0m\u001b[0;34m\u001b[0m\u001b[0;34m\u001b[0m\u001b[0m\n\u001b[1;32m      5\u001b[0m     \u001b[0mangle\u001b[0m \u001b[0;34m=\u001b[0m \u001b[0;36m50\u001b[0m\u001b[0;34m\u001b[0m\u001b[0;34m\u001b[0m\u001b[0m\n\u001b[0;32m----> 6\u001b[0;31m     \u001b[0mt\u001b[0m\u001b[0;34m.\u001b[0m\u001b[0mfd\u001b[0m\u001b[0;34m(\u001b[0m\u001b[0mlength\u001b[0m\u001b[0;34m*\u001b[0m\u001b[0mn\u001b[0m\u001b[0;34m)\u001b[0m\u001b[0;34m\u001b[0m\u001b[0;34m\u001b[0m\u001b[0m\n\u001b[0m\u001b[1;32m      7\u001b[0m     \u001b[0mt\u001b[0m\u001b[0;34m.\u001b[0m\u001b[0mlt\u001b[0m\u001b[0;34m(\u001b[0m\u001b[0mangle\u001b[0m\u001b[0;34m)\u001b[0m\u001b[0;34m\u001b[0m\u001b[0;34m\u001b[0m\u001b[0m\n\u001b[1;32m      8\u001b[0m     \u001b[0mdraw\u001b[0m\u001b[0;34m(\u001b[0m\u001b[0mt\u001b[0m\u001b[0;34m,\u001b[0m \u001b[0mlength\u001b[0m\u001b[0;34m,\u001b[0m \u001b[0mn\u001b[0m\u001b[0;34m-\u001b[0m\u001b[0;36m1\u001b[0m\u001b[0;34m)\u001b[0m\u001b[0;34m\u001b[0m\u001b[0;34m\u001b[0m\u001b[0m\n",
      "\u001b[0;31mAttributeError\u001b[0m: 'int' object has no attribute 'fd'"
     ]
    }
   ],
   "source": [
    "import turtle\n",
    "bob = turtle.Turtle()\n",
    "print(bob)\n",
    "print(type(bob))\n",
    "draw (50,10,10)\n"
   ]
  }
 ],
 "metadata": {
  "interpreter": {
   "hash": "e7370f93d1d0cde622a1f8e1c04877d8463912d04d973331ad4851f04de6915a"
  },
  "kernelspec": {
   "display_name": "Python 3.9.7 64-bit",
   "name": "python3"
  },
  "language_info": {
   "codemirror_mode": {
    "name": "ipython",
    "version": 3
   },
   "file_extension": ".py",
   "mimetype": "text/x-python",
   "name": "python",
   "nbconvert_exporter": "python",
   "pygments_lexer": "ipython3",
   "version": "3.9.7"
  },
  "orig_nbformat": 4
 },
 "nbformat": 4,
 "nbformat_minor": 2
}
