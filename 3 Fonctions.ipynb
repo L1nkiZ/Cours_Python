{
 "cells": [
  {
   "cell_type": "markdown",
   "source": [
    "# Définition\n",
    "\n",
    "**Fonction =** un nom associé à une séquence d'instructions effectuant un calcul.\n",
    "\n",
    "L'utilisation d'une fonction se fait par un **appel** à la fonction.\n",
    "\n",
    "Une fonction peut recevoir des **arguments** (valeurs) au moment de l'appel.\n",
    "\n",
    "Une fonction peut **retourner** une valeur.\n",
    "\n",
    "Exemples de fonctions déjà vues : ```print```, ```input```, ```int```, ```float```\n"
   ],
   "metadata": {}
  },
  {
   "cell_type": "markdown",
   "source": [
    "# Appel de fonction\n",
    "\n",
    "Syntaxe minimale : ```nom()```\n",
    "\n",
    "Exemple : afficher une ligne vide avec ```print```"
   ],
   "metadata": {}
  },
  {
   "cell_type": "code",
   "execution_count": null,
   "source": [
    "print()"
   ],
   "outputs": [],
   "metadata": {}
  },
  {
   "cell_type": "markdown",
   "source": [
    "# Arguments\n",
    "\n",
    "Il est possible de donner des **arguments** à une fonction lors de l'appel $\\approx$ valeurs que la fonction peut utiliser.\n",
    "\n",
    "Il peut y avoir des restrictions sur le nombre d'arguments et parfois sur le type des arguments.\n",
    "\n",
    "Par exemple :\n",
    "\n",
    "* ```input```: 0 ou 1 argument\n",
    "* ```print```: nombre quelconque d'arguments\n",
    "* ```int``` : l'argument ne peut pas être une chaîne de caractères"
   ],
   "metadata": {}
  },
  {
   "cell_type": "code",
   "execution_count": null,
   "source": [
    "input()                   # OK"
   ],
   "outputs": [],
   "metadata": {}
  },
  {
   "cell_type": "code",
   "execution_count": null,
   "source": [
    "input('Texte')            # OK"
   ],
   "outputs": [],
   "metadata": {}
  },
  {
   "cell_type": "code",
   "execution_count": null,
   "source": [
    "input('Texte1', 'Texte2') # Erreur"
   ],
   "outputs": [],
   "metadata": {}
  },
  {
   "cell_type": "markdown",
   "source": [
    "# Valeur de retour\n",
    "\n",
    "Une fontion peut ne rien retourner, par exemple ```print```.\n",
    "\n",
    "Une fonction peut aussi retourner un résultat. Par exemple, ```int``` convertit l'argument en entier si possible.\n",
    "\n",
    "Si une fonction retourne un résultat, ce dernier peut être utilisé comme une donnée : affectation à une variable, utilisation dans des expressions ..."
   ],
   "metadata": {}
  },
  {
   "cell_type": "code",
   "execution_count": null,
   "source": [
    "résultat = int('42')"
   ],
   "outputs": [],
   "metadata": {}
  },
  {
   "cell_type": "code",
   "execution_count": null,
   "source": [
    "résultat = int(3.14)"
   ],
   "outputs": [],
   "metadata": {}
  },
  {
   "cell_type": "code",
   "execution_count": null,
   "source": [
    "int('Hello') # Erreur"
   ],
   "outputs": [],
   "metadata": {}
  },
  {
   "cell_type": "markdown",
   "source": [
    "# Exemple d'un module de Python : ```math```\n",
    "\n",
    "**Module =** regroupement de fonctions portant sur un _thème_.\n",
    "\n",
    "Importation d'un module :"
   ],
   "metadata": {}
  },
  {
   "cell_type": "code",
   "execution_count": null,
   "source": [
    "import math"
   ],
   "outputs": [],
   "metadata": {}
  },
  {
   "cell_type": "markdown",
   "source": [
    "Utilisation des fonctions par **notation pointée** sur le nom du module :"
   ],
   "metadata": {}
  },
  {
   "cell_type": "code",
   "execution_count": null,
   "source": [
    "signal_puissance = 100\n",
    "bruit_puissance = 42\n",
    "decibels = 10 * math.log10(signal_puissance / bruit_puissance)"
   ],
   "outputs": [],
   "metadata": {}
  },
  {
   "cell_type": "code",
   "execution_count": null,
   "source": [
    "radians = 0.7\n",
    "hauteur = math.sin(radians)"
   ],
   "outputs": [],
   "metadata": {}
  },
  {
   "cell_type": "markdown",
   "source": [
    "Un module peut aussi contenir des valeurs prédéfinies."
   ],
   "metadata": {}
  },
  {
   "cell_type": "code",
   "execution_count": null,
   "source": [
    "print(\"Pi =\", math.pi)"
   ],
   "outputs": [],
   "metadata": {}
  },
  {
   "cell_type": "markdown",
   "source": [
    "# Composition\n",
    "\n",
    "## Argument d'une fonction\n",
    "\n",
    "Un argument d'une fonction peut être une expression quelconque :"
   ],
   "metadata": {}
  },
  {
   "cell_type": "code",
   "execution_count": null,
   "source": [
    "degrés = 42\n",
    "x = math.sin(degrés / 360.0 * 2 * math.pi)"
   ],
   "outputs": [],
   "metadata": {}
  },
  {
   "cell_type": "markdown",
   "source": [
    "## Utilisation d'une fonction avec valeur de retour\n",
    "\n",
    "Une fonction qui retourne une valeur peut être utilisée comme un litéral ou une variable.\n"
   ],
   "metadata": {}
  },
  {
   "cell_type": "code",
   "execution_count": null,
   "source": [
    "x = math.exp(math.log(x+1))\n",
    "résultat = 2 * math.sin(x)  + 10 "
   ],
   "outputs": [],
   "metadata": {}
  },
  {
   "cell_type": "markdown",
   "source": [
    "# Ajout de nouvelles fonctions\n",
    "\n",
    "Il est possible de définir de nouvelles fonctions.\n",
    "\n",
    "## **Définition** minimale d'une fonction\n",
    "\n",
    "* **nom :** l'identifiant permettant d'appeler la fonction\n",
    "* **corps :** la séquence d'instructions exécutée lors de l'appel à la fonction"
   ],
   "metadata": {}
  },
  {
   "cell_type": "code",
   "execution_count": null,
   "source": [
    "def affiche_parole():\n",
    "    print(\"I'm a lumberjack, and I'm okay.\")\n",
    "    print(\"I sleep all night and I work all day.\")"
   ],
   "outputs": [],
   "metadata": {}
  },
  {
   "cell_type": "markdown",
   "source": [
    "**Remarque :** cela entraîne la création d'un **objet fonction**"
   ],
   "metadata": {}
  },
  {
   "cell_type": "code",
   "execution_count": null,
   "source": [
    "print(affiche_parole)\n",
    "print(type(affiche_parole))"
   ],
   "outputs": [],
   "metadata": {}
  },
  {
   "cell_type": "markdown",
   "source": [
    "## **En-tête** de la fonction\n",
    "\n",
    "- ```def```: mot-clef indiquant la définition d'une nouvelle fonction\n",
    "- nom de la fonction (même rêgle que pour les identificateurs des variables)\n",
    "- parenthèses ouvrantes et fermantes\n",
    "- ```:```\n",
    "- retour la ligne\n",
    "  "
   ],
   "metadata": {}
  },
  {
   "cell_type": "markdown",
   "source": [
    "## **Corps** de la fonction\n",
    "\n",
    "Les instructions qui sont exécutées lors de l'appel de la fonction.\n",
    "\n",
    "En python, un bloc d'instructions est défini par l'indentation (touche tabulation dans la plupart des éditeurs)."
   ],
   "metadata": {}
  },
  {
   "cell_type": "code",
   "execution_count": null,
   "source": [
    "def exemple_bloc():\n",
    "    print(\"Première ligne\")  # Dans la fonction\n",
    "    print(\"Deuxième ligne\")  # Dans la fonction\n",
    "\n",
    "    print(\"Troisième ligne\") # Dans la fonction\n",
    "print(\"Quatrième ligne\") # Hors fonction"
   ],
   "outputs": [],
   "metadata": {}
  },
  {
   "cell_type": "markdown",
   "source": [
    "## Utilisation\n",
    "\n",
    "Appel : ```nom()```\n",
    "\n",
    "Une fonction peut être utilisée dans une autre fonction ou appelée directement."
   ],
   "metadata": {}
  },
  {
   "cell_type": "code",
   "execution_count": null,
   "source": [
    "def repetition_parole():\n",
    "    affiche_parole()\n",
    "    affiche_parole()\n",
    "\n",
    "repetition_parole()"
   ],
   "outputs": [],
   "metadata": {}
  },
  {
   "cell_type": "markdown",
   "source": [
    "# Flot d'exécution\n",
    "\n",
    "L'ordre dans lequel on définit les choses a une importance.\n",
    "\n",
    "Un programme est exécuté depuis la première ligne vers la dernière ligne.\n",
    "\n",
    "Conséquence : une variable doit être déclarée avant de pouvoir être utilisée."
   ],
   "metadata": {}
  },
  {
   "cell_type": "code",
   "execution_count": null,
   "source": [
    "print(une_variable) # Erreur car une_variable n'existe pas\n",
    "une_variable = 2    # Cette ligne devrait être avant la ligne précédente"
   ],
   "outputs": [],
   "metadata": {}
  },
  {
   "cell_type": "markdown",
   "source": [
    "Il en est de même pour les fonctions (avec quelques subtilités)."
   ],
   "metadata": {}
  },
  {
   "cell_type": "code",
   "execution_count": null,
   "source": [
    "répétition_parole_bis()\n",
    "\n",
    "def répétition_parole_bis():\n",
    "    affiche_parole_bis()\n",
    "    affiche_parole_bis()\n",
    "\n",
    "def affiche_parole_bis():\n",
    "    print(\"I'm a lumberjack, and I'm okay.\")\n",
    "    print(\"I sleep all night and I work all day.\")"
   ],
   "outputs": [],
   "metadata": {}
  },
  {
   "cell_type": "markdown",
   "source": [
    "**Remarque :** Python est un langage interprété, les erreurs sont détectées à l'exécution."
   ],
   "metadata": {}
  },
  {
   "cell_type": "markdown",
   "source": [
    "# Paramètres et arguments\n",
    "\n",
    "Il est possible de définir des fonctions qui demandent des **arguments**.\n",
    "\n",
    "Du point de vue la fonction, les arguments sont affectés à des variables appelées **paramètres**.\n",
    "\n",
    "Exemple d'une fonction avec un paramètre :"
   ],
   "metadata": {}
  },
  {
   "cell_type": "code",
   "execution_count": null,
   "source": [
    "def afficher_deux_fois(message):\n",
    "    print(message)\n",
    "    print(message)"
   ],
   "outputs": [],
   "metadata": {}
  },
  {
   "cell_type": "markdown",
   "source": [
    "Lors de l'appel, il est nécessaire de passer un argument à la fonction. \n",
    "\n",
    "Littéraux :"
   ],
   "metadata": {}
  },
  {
   "cell_type": "code",
   "execution_count": null,
   "source": [
    "afficher_deux_fois('Spam')\n",
    "afficher_deux_fois('42')\n",
    "afficher_deux_fois(math.pi)"
   ],
   "outputs": [],
   "metadata": {}
  },
  {
   "cell_type": "markdown",
   "source": [
    "Expressions :"
   ],
   "metadata": {}
  },
  {
   "cell_type": "code",
   "execution_count": null,
   "source": [
    "afficher_deux_fois('spam' * 4)\n",
    "afficher_deux_fois(math.cos(math.pi))"
   ],
   "outputs": [],
   "metadata": {}
  },
  {
   "cell_type": "markdown",
   "source": [
    "L'expression est évaluée avant le passage comme argument. Dans l'exemple ci-dessous, ce n'est pas la variable qui est passé mais la valeur qu'elle représente :"
   ],
   "metadata": {}
  },
  {
   "cell_type": "code",
   "execution_count": null,
   "source": [
    "michael = 'Eric, the half of a bee'\n",
    "afficher_deux_fois(michael)"
   ],
   "outputs": [],
   "metadata": {}
  },
  {
   "cell_type": "markdown",
   "source": [
    "On peut définir des fonctions avec plusieurs paramètres. Lors de l'appel, le nombre d'arguements passés à la fonction doit correspondre au nombre de paramètres."
   ],
   "metadata": {}
  },
  {
   "cell_type": "code",
   "execution_count": null,
   "source": [
    "def fonction_avec_deux_paramètres(param1, param2):\n",
    "    print(param1, param2)\n",
    "\n",
    "def fonction_avec_trois_paramètres(param1, param2, param3):\n",
    "    print(param1, param2, param3)"
   ],
   "outputs": [],
   "metadata": {}
  },
  {
   "cell_type": "markdown",
   "source": [
    "# Visibilité des variables et paramètres\n",
    "\n",
    "Une variable (par extension un paramètre) créée dans une fonction est **locale**. Elle ne peut être utilisé que dans la fonction.\n",
    "\n",
    "Une nouvelle variable est crée à chaque appel de la fonction et elle n'existe pas en dehors de la fonction."
   ],
   "metadata": {}
  },
  {
   "cell_type": "code",
   "execution_count": null,
   "source": [
    "def concatenation_et_affiche(partie1, partie2):\n",
    "    cat = partie1 + partie2\n",
    "    afficher_deux_fois(cat)\n",
    "\n",
    "concatenation_et_affiche('George ', 'Timoléon')\n",
    "concatenation_et_affiche('Bob ', 'Bobette')"
   ],
   "outputs": [],
   "metadata": {}
  },
  {
   "cell_type": "code",
   "execution_count": null,
   "source": [
    "print(cat) # Erreur"
   ],
   "outputs": [],
   "metadata": {}
  },
  {
   "cell_type": "code",
   "execution_count": null,
   "source": [
    "print(partie1) # Erreur "
   ],
   "outputs": [],
   "metadata": {}
  },
  {
   "cell_type": "markdown",
   "source": [
    "# Valeur de retour\n",
    "\n",
    "Une fonction peut ne pas retourner de valeur, par exemple ```print```, les fonctions définies ci-dessus. \n",
    "\n",
    "Ces fonctions affichent de l'information à l'écran, c'est ce que l'on appelle un **effet de bord**. \n",
    "\n",
    "Cependant, cette information ne peut pas être utilisée dans le programme."
   ],
   "metadata": {}
  },
  {
   "cell_type": "code",
   "execution_count": null,
   "source": [
    "def rien():\n",
    "    pass\n",
    "\n",
    "print(\"retour =\", rien())"
   ],
   "outputs": [],
   "metadata": {}
  },
  {
   "cell_type": "markdown",
   "source": [
    "Certaines fonctions retournent une information, par exemple ```sin```, ```cos```, ```sqrt``` du module ```math```. "
   ],
   "metadata": {}
  },
  {
   "cell_type": "code",
   "execution_count": null,
   "source": [
    "print(\"racine carrée de 5 =\", math.sqrt(5))"
   ],
   "outputs": [],
   "metadata": {}
  },
  {
   "cell_type": "markdown",
   "source": [
    "Il est possible de définir des fonctions qui retournent une valeur. Cela sera vu ultérieurement."
   ],
   "metadata": {}
  },
  {
   "cell_type": "markdown",
   "source": [
    "# Utilité des fonctions\n",
    "\n",
    "- **Organisation :** décomposer un programme complexe en plus petits éléments en donnant un nom à un groupe d'instructions permettant de rendre le code plus lisible et plus facile à débuguer.\n",
    "- **Réusilisabilité :** une fonction peut être réutilisée sans avoir à resaisir le code (faire des copier-coller n'est pas une solution).\n",
    "- **Test :** en évitant la redondance de code, les fonctions facilient le test du code et la recherche d'erreur.\n",
    "- **Extensibilité :** s'il faut modifier le comportement d'une fonction qui est utilisée à plusieurs endroits, il n'y a qu'un seul endroit à modifier.\n",
    "- **Abstraction :** pour utiliser une fonction, il suffit de connaître son nom, ses entrées, ses sorties et ses effets de bord. Il n'est pas nécessaire de connaître le code. \n"
   ],
   "metadata": {}
  },
  {
   "cell_type": "markdown",
   "source": [
    "# Exercices\n",
    "\n",
    "## Indication : module ```turtle```\n",
    "\n",
    "Ce module permet d'utiliser une \"tortue\" pour tracer des dessins à l'écran. Il faut d'abord importer le module :"
   ],
   "metadata": {}
  },
  {
   "cell_type": "code",
   "execution_count": 3,
   "source": [
    "import turtle"
   ],
   "outputs": [],
   "metadata": {}
  },
  {
   "cell_type": "markdown",
   "source": [
    "Il faut ensuite déclarer une variable de type ```Turtle``` à l'aide de la fonction ```Turtle()``` du module ```turtle```."
   ],
   "metadata": {}
  },
  {
   "cell_type": "code",
   "execution_count": 4,
   "source": [
    "bob = turtle.Turtle()\n",
    "print(bob)\n",
    "print(type(bob))"
   ],
   "outputs": [
    {
     "output_type": "stream",
     "name": "stdout",
     "text": [
      "<turtle.Turtle object at 0x7fe600a6f820>\n",
      "<class 'turtle.Turtle'>\n"
     ]
    }
   ],
   "metadata": {}
  },
  {
   "cell_type": "markdown",
   "source": [
    "```bob``` est une variable dont le type est un **objet**. Un objet peut être vu comme un type qui stocke de l'information et qui permet la manipuler via des **méthodes**. Une méthode s'appelle par une **notation pointée** sur l'objet. La méthode ```fd``` permet de faire avancer tortue d'un nombre de pixels egal à l'argument qui lui est passé :"
   ],
   "metadata": {}
  },
  {
   "cell_type": "code",
   "execution_count": null,
   "source": [
    "bob.fd(100)"
   ],
   "outputs": [],
   "metadata": {}
  },
  {
   "cell_type": "markdown",
   "source": [
    "La méthode ```lt``` permet de faire tourner la tortue vers la gauche. Elle a un argument qui est le degré de l'angle en degré formé par le virage :"
   ],
   "metadata": {}
  },
  {
   "cell_type": "code",
   "execution_count": null,
   "source": [
    "bob.lt(90)\n",
    "bob.fd(100)\n",
    "bob.lt(90)\n",
    "bob.fd(100)"
   ],
   "outputs": [],
   "metadata": {}
  },
  {
   "cell_type": "markdown",
   "source": [
    "Il est possible de remettre la tortue à la position initiale avec la méthode ```reset``` :"
   ],
   "metadata": {}
  },
  {
   "cell_type": "code",
   "execution_count": null,
   "source": [
    "bob.reset()\n"
   ],
   "outputs": [],
   "metadata": {}
  },
  {
   "cell_type": "markdown",
   "source": [
    "## Exercice 1\n",
    "\n",
    "En vous basant sur le code ci-dessus, écrivez un programme qui dessine un carré dont les côtés sont de longueur 100. A la fin du programme, il faut que la tortue soit revenue à sa position initiale et direction initiale."
   ],
   "metadata": {}
  },
  {
   "cell_type": "code",
   "execution_count": null,
   "source": [
    "bob.reset()\n",
    "bob.fd(100)\n",
    "bob.lt(90)\n",
    "bob.fd(100)\n",
    "bob.lt(90)\n",
    "bob.fd(100)\n",
    "bob.lt(90)\n",
    "bob.fd(100)\n",
    "bob.lt(90)"
   ],
   "outputs": [],
   "metadata": {}
  },
  {
   "cell_type": "markdown",
   "source": [
    "## Indication : répétition simple\n",
    "\n",
    "Lorsque l'on a un morceau de code qui se répète plusieurs fois, on peut utiliser l'instruction ```for``` pour le répéter de manière automatisé. Cette instruction est appelée une **boucle**. Par exemple, le code suivant :"
   ],
   "metadata": {}
  },
  {
   "cell_type": "code",
   "execution_count": null,
   "source": [
    "print(\"Hello\")\n",
    "print()\n",
    "\n",
    "print(\"Hello\")\n",
    "print()\n",
    "\n",
    "print(\"Hello\")\n",
    "print()\n",
    "\n",
    "print(\"Hello\")\n",
    "print()"
   ],
   "outputs": [],
   "metadata": {}
  },
  {
   "cell_type": "markdown",
   "source": [
    "peut se réécrire avec la boucle ```for```:"
   ],
   "metadata": {}
  },
  {
   "cell_type": "code",
   "execution_count": null,
   "source": [
    "for i in range(4):\n",
    "    print(\"Hello\")\n",
    "    print()"
   ],
   "outputs": [],
   "metadata": {}
  },
  {
   "cell_type": "markdown",
   "source": [
    "Le bloc d'instruction à répéter est identifié par l'indentation comme pour le corps de fonctions.\n",
    "\n",
    "L'argument de ```range``` peut être un entier, une variable de type entier ou une expresssion arithmétique dont le résultat est un entier. La variable ```i``` prend les valeurs entre 0 et cet argument moins un."
   ],
   "metadata": {}
  },
  {
   "cell_type": "code",
   "execution_count": 3,
   "source": [
    "n = int(input(\"Entrez un entier : \"))\n",
    "for i in range(2*n):\n",
    "    print(\"i =\", i)"
   ],
   "outputs": [
    {
     "output_type": "stream",
     "name": "stdout",
     "text": [
      "i = 0\n",
      "i = 1\n",
      "i = 2\n",
      "i = 3\n",
      "i = 4\n",
      "i = 5\n",
      "i = 6\n",
      "i = 7\n",
      "i = 8\n",
      "i = 9\n",
      "i = 10\n",
      "i = 11\n",
      "i = 12\n",
      "i = 13\n",
      "i = 14\n",
      "i = 15\n",
      "i = 16\n",
      "i = 17\n"
     ]
    }
   ],
   "metadata": {}
  },
  {
   "cell_type": "markdown",
   "source": [
    "## Exercie 2\n",
    "\n",
    "Réécrivez votre programme qui dessine un carré à l'aide d'une boucle ```for```."
   ],
   "metadata": {}
  },
  {
   "cell_type": "code",
   "execution_count": null,
   "source": [
    "bob.reset()\n",
    "for i in range(4):\n",
    "    bob.fd(100)\n",
    "    bob.lt(90)\n",
    "        "
   ],
   "outputs": [],
   "metadata": {}
  },
  {
   "cell_type": "markdown",
   "source": [
    "## Exercice 3\n",
    "\n",
    "Si on veut faire dessiner un carré de côté 100 à une tortue, le code sera toujours le même. On peut donc définir une fonction qui prend en argument une tortue et dessine un carré. Il s'agit du principe d'**encapsulation**. Ecrivez une telle fonction qui s'appelle ```carré_100``` qui prend en paramètre une tortue et lui fait dessiner un carré une côté 100. Utilisez votre fonction pour faire dessiner un carré à ```bob```."
   ],
   "metadata": {}
  },
  {
   "cell_type": "code",
   "execution_count": 20,
   "source": [
    "import turtle\n",
    "import math\n",
    "\n",
    "bob = turtle.Turtle()\n",
    "print(bob)\n",
    "print(type(bob))\n",
    "def carré_100(tortue): \n",
    "    for i in range(4):\n",
    "        tortue.fd(100)\n",
    "        tortue.lt(90)\n",
    "\n",
    "bob.reset()\n",
    "\n",
    "carré_100(bob)"
   ],
   "outputs": [
    {
     "output_type": "stream",
     "name": "stdout",
     "text": [
      "<turtle.Turtle object at 0x7fe5eb572d00>\n",
      "<class 'turtle.Turtle'>\n"
     ]
    }
   ],
   "metadata": {}
  },
  {
   "cell_type": "markdown",
   "source": [
    "## Exercice 4\n",
    "\n",
    "On peut remarquer que la longueur du carré ne modifie pas la structure de l'algorithme pour le dessiner. On peut donc utiliser la même séquence pour dessiner un carré quelque soit la longueur de son côté. On peut donc écrire une fonction ```carré``` qui en plus de prendre la tortue en paramètre prend aussi la longueur d'un côté du carré. Il s'agit du principe de **généralisation**. \n",
    "\n",
    "Définissez cette fonction ```carré``` et utilisez la pour faire tracer à ```bob``` un carré de taille 200."
   ],
   "metadata": {}
  },
  {
   "cell_type": "code",
   "execution_count": 21,
   "source": [
    "import turtle\n",
    "import math\n",
    "\n",
    "bob = turtle.Turtle()\n",
    "print(bob)\n",
    "print(type(bob))\n",
    "def carré(tortue,y): \n",
    "    for i in range(4):\n",
    "        tortue.fd(y)\n",
    "        tortue.lt(90)\n",
    "\n",
    "bob.reset()\n",
    "x = int(input(\"Donner la longueur du carré :\"))\n",
    "carré(bob,x)\n"
   ],
   "outputs": [
    {
     "output_type": "stream",
     "name": "stdout",
     "text": [
      "<turtle.Turtle object at 0x7fe5eb572cd0>\n",
      "<class 'turtle.Turtle'>\n"
     ]
    }
   ],
   "metadata": {}
  },
  {
   "cell_type": "markdown",
   "source": [
    "## Exercice 5\n",
    "\n",
    "La fonction précédente permet de tracer des carrés de longueur quelconque. Un carré est un polygone convexe régulier à 4 côtés. Il est possible d'utiliser la même séquence d'instructions pour tracer n'importe quel polygone convexe régulier ayant au moins 3 côtés. Pour cela, il suffit de fixer un angle de rotation égal à $360 / n$ où $n$ est le nombre de côtés. Pour le carré, on a bien $n = 4$ et $360 / 4 = 90$. On va généraliser la fonction ```carré``` en une fonction qui permet de tracer n'importe quel polygone convexe par une tortue à partir du nombre de côtés et la longueur d'un côté. On utilise ici aussi le principe de généralisation.\n",
    "\n",
    "Définissez une fonction ```polygone``` qui prend en paramètre une tortue, un entier représentant le nombre de côtés et un entier représentant la longueur d'un côté et qui fait tracer à la tortue le polygone correspondant."
   ],
   "metadata": {}
  },
  {
   "cell_type": "code",
   "execution_count": 16,
   "source": [
    "\n",
    "def polygone(tortue,x,y): \n",
    "    long = x\n",
    "    cot = y\n",
    "    cot = 360/cot\n",
    "    for i in range(y):\n",
    "        tortue.fd(long)\n",
    "        tortue.lt(cot)\n",
    "\n",
    "bob.reset()\n",
    "x = int(input(\"Donner la longueur du polygone :\"))\n",
    "y = int(input(\"Donner le nombre de coté du polygone :\"))\n",
    "polygone(bob,x,y)\n"
   ],
   "outputs": [],
   "metadata": {}
  },
  {
   "cell_type": "markdown",
   "source": [
    "## Exercice 6\n",
    "\n",
    "Maintenant que l'on a testé et développé la fonction ```polygone``` il est possible de l'utiliser pour faire des choses plus complexe. Par exemple, on peut dessiner un cercle approximatif comme un polygone convexe régulier en utilisant un nombre suffisant grand de côtés et en fixant correctement la longueur. L'algorithme ci-dessous permet de tracer un cercle de rayon $r$ :\n",
    "\n",
    "1. Calculer la circonférence du cercle $c = 2\\pi r$\n",
    "2. Calculer le nombre de côtés nécessaires $n = \\lfloor c / 3 \\rfloor + 1$\n",
    "3. Calculer la longueur d'un côté $l = c / n$\n",
    "4. Tracer le polygone correspondant en utilisant la fonction ```polygone```\n",
    "\n",
    "**Remarque :** il n'est pas nécessaire de connaître ici le détail de la fonction ```polygone```. Il suffit de connaître sa spéficiation. On parle aussi d'**interface**. Un interface est définie par :\n",
    "\n",
    "1. les paramètres de la fonction\n",
    "2. le comportement de la fonction\n",
    "3. ce qu'elle retourne\n",
    "\n",
    "Définissez une fonction ```cercle``` qui prend en paramètre une tortue et un rayon et qui fait tracer à la tortue un cercle approximatif du rayon donné en argument."
   ],
   "metadata": {}
  },
  {
   "cell_type": "code",
   "execution_count": 18,
   "source": [
    "import turtle\n",
    "import math\n",
    "\n",
    "bob = turtle.Turtle()\n",
    "print(bob)\n",
    "print(type(bob))\n",
    "def cercle(tortue,x):\n",
    "    r = x\n",
    "    c = 2*math.pi*r\n",
    "    n = int(c/3) + 1\n",
    "    l = c/n\n",
    "    polygone(l,n) \n",
    "\n",
    "bob.reset()\n",
    "x = int(input(\"Donner le rayon du cercle :\"))\n",
    "cercle(bob,x)\n",
    "turtle.mainloop()\n"
   ],
   "outputs": [
    {
     "output_type": "stream",
     "name": "stdout",
     "text": [
      "<turtle.Turtle object at 0x7fe5eb53fc10>\n",
      "<class 'turtle.Turtle'>\n"
     ]
    },
    {
     "output_type": "error",
     "ename": "TclError",
     "evalue": "invalid command name \".!canvas\"",
     "traceback": [
      "\u001b[0;31m---------------------------------------------------------------------------\u001b[0m",
      "\u001b[0;31mTclError\u001b[0m                                  Traceback (most recent call last)",
      "\u001b[0;32m<ipython-input-18-6488cdfbe7da>\u001b[0m in \u001b[0;36m<module>\u001b[0;34m\u001b[0m\n\u001b[1;32m     12\u001b[0m     \u001b[0mpolygone\u001b[0m\u001b[0;34m(\u001b[0m\u001b[0ml\u001b[0m\u001b[0;34m,\u001b[0m\u001b[0mn\u001b[0m\u001b[0;34m)\u001b[0m\u001b[0;34m\u001b[0m\u001b[0;34m\u001b[0m\u001b[0m\n\u001b[1;32m     13\u001b[0m \u001b[0;34m\u001b[0m\u001b[0m\n\u001b[0;32m---> 14\u001b[0;31m \u001b[0mbob\u001b[0m\u001b[0;34m.\u001b[0m\u001b[0mreset\u001b[0m\u001b[0;34m(\u001b[0m\u001b[0;34m)\u001b[0m\u001b[0;34m\u001b[0m\u001b[0;34m\u001b[0m\u001b[0m\n\u001b[0m\u001b[1;32m     15\u001b[0m \u001b[0mx\u001b[0m \u001b[0;34m=\u001b[0m \u001b[0mint\u001b[0m\u001b[0;34m(\u001b[0m\u001b[0minput\u001b[0m\u001b[0;34m(\u001b[0m\u001b[0;34m\"Donner le rayon du cercle :\"\u001b[0m\u001b[0;34m)\u001b[0m\u001b[0;34m)\u001b[0m\u001b[0;34m\u001b[0m\u001b[0;34m\u001b[0m\u001b[0m\n\u001b[1;32m     16\u001b[0m \u001b[0mcercle\u001b[0m\u001b[0;34m(\u001b[0m\u001b[0mbob\u001b[0m\u001b[0;34m,\u001b[0m\u001b[0mx\u001b[0m\u001b[0;34m)\u001b[0m\u001b[0;34m\u001b[0m\u001b[0;34m\u001b[0m\u001b[0m\n",
      "\u001b[0;32m/usr/lib64/python3.9/turtle.py\u001b[0m in \u001b[0;36mreset\u001b[0;34m(self)\u001b[0m\n\u001b[1;32m   2579\u001b[0m         \u001b[0mTNavigator\u001b[0m\u001b[0;34m.\u001b[0m\u001b[0mreset\u001b[0m\u001b[0;34m(\u001b[0m\u001b[0mself\u001b[0m\u001b[0;34m)\u001b[0m\u001b[0;34m\u001b[0m\u001b[0;34m\u001b[0m\u001b[0m\n\u001b[1;32m   2580\u001b[0m         \u001b[0mTPen\u001b[0m\u001b[0;34m.\u001b[0m\u001b[0m_reset\u001b[0m\u001b[0;34m(\u001b[0m\u001b[0mself\u001b[0m\u001b[0;34m)\u001b[0m\u001b[0;34m\u001b[0m\u001b[0;34m\u001b[0m\u001b[0m\n\u001b[0;32m-> 2581\u001b[0;31m         \u001b[0mself\u001b[0m\u001b[0;34m.\u001b[0m\u001b[0m_clear\u001b[0m\u001b[0;34m(\u001b[0m\u001b[0;34m)\u001b[0m\u001b[0;34m\u001b[0m\u001b[0;34m\u001b[0m\u001b[0m\n\u001b[0m\u001b[1;32m   2582\u001b[0m         \u001b[0mself\u001b[0m\u001b[0;34m.\u001b[0m\u001b[0m_drawturtle\u001b[0m\u001b[0;34m(\u001b[0m\u001b[0;34m)\u001b[0m\u001b[0;34m\u001b[0m\u001b[0;34m\u001b[0m\u001b[0m\n\u001b[1;32m   2583\u001b[0m         \u001b[0mself\u001b[0m\u001b[0;34m.\u001b[0m\u001b[0m_update\u001b[0m\u001b[0;34m(\u001b[0m\u001b[0;34m)\u001b[0m\u001b[0;34m\u001b[0m\u001b[0;34m\u001b[0m\u001b[0m\n",
      "\u001b[0;32m/usr/lib64/python3.9/turtle.py\u001b[0m in \u001b[0;36m_clear\u001b[0;34m(self)\u001b[0m\n\u001b[1;32m   2619\u001b[0m         \u001b[0mself\u001b[0m\u001b[0;34m.\u001b[0m\u001b[0m_fillitem\u001b[0m \u001b[0;34m=\u001b[0m \u001b[0mself\u001b[0m\u001b[0;34m.\u001b[0m\u001b[0m_fillpath\u001b[0m \u001b[0;34m=\u001b[0m \u001b[0;32mNone\u001b[0m\u001b[0;34m\u001b[0m\u001b[0;34m\u001b[0m\u001b[0m\n\u001b[1;32m   2620\u001b[0m         \u001b[0;32mfor\u001b[0m \u001b[0mitem\u001b[0m \u001b[0;32min\u001b[0m \u001b[0mself\u001b[0m\u001b[0;34m.\u001b[0m\u001b[0mitems\u001b[0m\u001b[0;34m:\u001b[0m\u001b[0;34m\u001b[0m\u001b[0;34m\u001b[0m\u001b[0m\n\u001b[0;32m-> 2621\u001b[0;31m             \u001b[0mself\u001b[0m\u001b[0;34m.\u001b[0m\u001b[0mscreen\u001b[0m\u001b[0;34m.\u001b[0m\u001b[0m_delete\u001b[0m\u001b[0;34m(\u001b[0m\u001b[0mitem\u001b[0m\u001b[0;34m)\u001b[0m\u001b[0;34m\u001b[0m\u001b[0;34m\u001b[0m\u001b[0m\n\u001b[0m\u001b[1;32m   2622\u001b[0m         \u001b[0mself\u001b[0m\u001b[0;34m.\u001b[0m\u001b[0mcurrentLineItem\u001b[0m \u001b[0;34m=\u001b[0m \u001b[0mself\u001b[0m\u001b[0;34m.\u001b[0m\u001b[0mscreen\u001b[0m\u001b[0;34m.\u001b[0m\u001b[0m_createline\u001b[0m\u001b[0;34m(\u001b[0m\u001b[0;34m)\u001b[0m\u001b[0;34m\u001b[0m\u001b[0;34m\u001b[0m\u001b[0m\n\u001b[1;32m   2623\u001b[0m         \u001b[0mself\u001b[0m\u001b[0;34m.\u001b[0m\u001b[0mcurrentLine\u001b[0m \u001b[0;34m=\u001b[0m \u001b[0;34m[\u001b[0m\u001b[0;34m]\u001b[0m\u001b[0;34m\u001b[0m\u001b[0;34m\u001b[0m\u001b[0m\n",
      "\u001b[0;32m/usr/lib64/python3.9/turtle.py\u001b[0m in \u001b[0;36m_delete\u001b[0;34m(self, item)\u001b[0m\n\u001b[1;32m    554\u001b[0m         \u001b[0mIf\u001b[0m \u001b[0mitem\u001b[0m \u001b[0;32mis\u001b[0m\u001b[0;34m\"all\"\u001b[0m \u001b[0mdelete\u001b[0m \u001b[0mall\u001b[0m \u001b[0mgraphics\u001b[0m \u001b[0mitems\u001b[0m\u001b[0;34m.\u001b[0m\u001b[0;34m\u001b[0m\u001b[0;34m\u001b[0m\u001b[0m\n\u001b[1;32m    555\u001b[0m         \"\"\"\n\u001b[0;32m--> 556\u001b[0;31m         \u001b[0mself\u001b[0m\u001b[0;34m.\u001b[0m\u001b[0mcv\u001b[0m\u001b[0;34m.\u001b[0m\u001b[0mdelete\u001b[0m\u001b[0;34m(\u001b[0m\u001b[0mitem\u001b[0m\u001b[0;34m)\u001b[0m\u001b[0;34m\u001b[0m\u001b[0;34m\u001b[0m\u001b[0m\n\u001b[0m\u001b[1;32m    557\u001b[0m \u001b[0;34m\u001b[0m\u001b[0m\n\u001b[1;32m    558\u001b[0m     \u001b[0;32mdef\u001b[0m \u001b[0m_update\u001b[0m\u001b[0;34m(\u001b[0m\u001b[0mself\u001b[0m\u001b[0;34m)\u001b[0m\u001b[0;34m:\u001b[0m\u001b[0;34m\u001b[0m\u001b[0;34m\u001b[0m\u001b[0m\n",
      "\u001b[0;32m<string>\u001b[0m in \u001b[0;36mdelete\u001b[0;34m(self, *args, **kw)\u001b[0m\n",
      "\u001b[0;32m/usr/lib64/python3.9/tkinter/__init__.py\u001b[0m in \u001b[0;36mdelete\u001b[0;34m(self, *args)\u001b[0m\n\u001b[1;32m   2821\u001b[0m     \u001b[0;32mdef\u001b[0m \u001b[0mdelete\u001b[0m\u001b[0;34m(\u001b[0m\u001b[0mself\u001b[0m\u001b[0;34m,\u001b[0m \u001b[0;34m*\u001b[0m\u001b[0margs\u001b[0m\u001b[0;34m)\u001b[0m\u001b[0;34m:\u001b[0m\u001b[0;34m\u001b[0m\u001b[0;34m\u001b[0m\u001b[0m\n\u001b[1;32m   2822\u001b[0m         \u001b[0;34m\"\"\"Delete items identified by all tag or ids contained in ARGS.\"\"\"\u001b[0m\u001b[0;34m\u001b[0m\u001b[0;34m\u001b[0m\u001b[0m\n\u001b[0;32m-> 2823\u001b[0;31m         \u001b[0mself\u001b[0m\u001b[0;34m.\u001b[0m\u001b[0mtk\u001b[0m\u001b[0;34m.\u001b[0m\u001b[0mcall\u001b[0m\u001b[0;34m(\u001b[0m\u001b[0;34m(\u001b[0m\u001b[0mself\u001b[0m\u001b[0;34m.\u001b[0m\u001b[0m_w\u001b[0m\u001b[0;34m,\u001b[0m \u001b[0;34m'delete'\u001b[0m\u001b[0;34m)\u001b[0m \u001b[0;34m+\u001b[0m \u001b[0margs\u001b[0m\u001b[0;34m)\u001b[0m\u001b[0;34m\u001b[0m\u001b[0;34m\u001b[0m\u001b[0m\n\u001b[0m\u001b[1;32m   2824\u001b[0m \u001b[0;34m\u001b[0m\u001b[0m\n\u001b[1;32m   2825\u001b[0m     \u001b[0;32mdef\u001b[0m \u001b[0mdtag\u001b[0m\u001b[0;34m(\u001b[0m\u001b[0mself\u001b[0m\u001b[0;34m,\u001b[0m \u001b[0;34m*\u001b[0m\u001b[0margs\u001b[0m\u001b[0;34m)\u001b[0m\u001b[0;34m:\u001b[0m\u001b[0;34m\u001b[0m\u001b[0;34m\u001b[0m\u001b[0m\n",
      "\u001b[0;31mTclError\u001b[0m: invalid command name \".!canvas\""
     ]
    }
   ],
   "metadata": {}
  },
  {
   "cell_type": "markdown",
   "source": [
    "## Exercice 6\n",
    "\n",
    "On souhaite maintenant dessiner des arcs de cercle. Il n'est pas possible de réutiliser ni ```polygone``` ni ```cercle```. Une fonction pour dessiner un arc de cercle est celle-ci :"
   ],
   "metadata": {}
  },
  {
   "cell_type": "code",
   "execution_count": 17,
   "source": [
    "def arc(tortue, r, angle):\n",
    "    longueur_arc = 2 * math.pi * r * angle / 360\n",
    "    n = int(longueur_arc / 3) + 1\n",
    "    longueur_pas = longueur_arc / n\n",
    "    angle_pas = angle / n\n",
    "\n",
    "    for i in range(n):\n",
    "        tortue.fd(longueur_pas)\n",
    "        tortue.lt(angle_pas)\n",
    "\n",
    "bob.reset()\n",
    "\n",
    "arc(bob, 100, 90)\n",
    "\n",
    "#---\n",
    "#def cercle (tortue, rayon):\n",
    "#    circonférence = 2 * math.pi * rayon\n",
    "#    nbre_cotés = int(circonférence / 3 +1)\n",
    "#    longeur = circonférence / nbre_cotés\n",
    "\n",
    "#polygone (turtle, longeur, nbre_cotés)\n",
    "\n",
    "#polygone (bob, 10, 100)"
   ],
   "outputs": [],
   "metadata": {}
  },
  {
   "cell_type": "markdown",
   "source": [
    "La seconde partie dessine $n$ segments de même longeur en pivotant à chaque étage selon un certain degré. Définissez une fonction ```polyligne``` qui prend en paramètre une tortue, un nombre de côté, une longueur et un angle et qui encapsule cette partie du code."
   ],
   "metadata": {}
  },
  {
   "cell_type": "code",
   "execution_count": 28,
   "source": [
    "def arc (tortue, rayon, angle):\n",
    "    longueur_arc = 2 * math.pi * rayon * angle / 360\n",
    "    nbre_cotés = int(longueur_arc /3)+1\n",
    "    longueur_pas = longueur_arc / nbre_cotés\n",
    "    angle_pas = angle / nbre_cotés\n",
    "\n",
    "    for i in range (nbre_cotés) : \n",
    "        tortue.fr(longueur_pas)\n",
    "        tortue.lt(angle_pas)\n",
    "\n",
    "    arc (bob, 100 , 135)\n",
    "\n",
    "    #------------------------------------------------------\n",
    "\n",
    "def polyligne (tortue, longueur, nbre_cotés, angle):\n",
    "    angle_pas = angle / nbre_cotés\n",
    "    for i in range (nbre_cotés):\n",
    "        tortue.fd(longueur)\n",
    "        tortue.lt(angle_pas)\n",
    "\n",
    "polyligne(bob, 10, 10, 135)\n",
    "\n"
   ],
   "outputs": [],
   "metadata": {}
  },
  {
   "cell_type": "markdown",
   "source": [
    "Réécrivez la fonction ```arc``` en utilisant la fonction ```polyligne``` :"
   ],
   "metadata": {}
  },
  {
   "cell_type": "code",
   "execution_count": null,
   "source": [],
   "outputs": [],
   "metadata": {}
  },
  {
   "cell_type": "markdown",
   "source": [
    "Cette fonction est très proche de ```polygone``` et peut être utilisée pour dessiner un polygone. En effet, un polygone est un arc tracé sur 360 degrés. Réécrivez ```polygone``` en utilisant ```polyligne```."
   ],
   "metadata": {}
  },
  {
   "cell_type": "code",
   "execution_count": null,
   "source": [
    "def polyligne(tortue, longueur, nbre_cotés, 360):\n",
    "    "
   ],
   "outputs": [],
   "metadata": {}
  },
  {
   "cell_type": "markdown",
   "source": [
    "Ce qui a été fait ici s'appelle du **refactoring**. L'idée est que l'on a deux fonctions qui ont des parties identiques ou très proches. Il est possible de **factoriser** ces morceaux de code dans des fonctions pouvant être utilisées à la place (éventuellement au prix d'une généralisation ou d'une extension).\n",
    "\n",
    "Pour finir, réécrivez la fonction ```cercle``` en utilisant la fonction ```arc```."
   ],
   "metadata": {}
  },
  {
   "cell_type": "code",
   "execution_count": null,
   "source": [],
   "outputs": [],
   "metadata": {}
  }
 ],
 "metadata": {
  "interpreter": {
   "hash": "e7370f93d1d0cde622a1f8e1c04877d8463912d04d973331ad4851f04de6915a"
  },
  "kernelspec": {
   "display_name": "Python 3",
   "language": "python",
   "name": "python3"
  },
  "language_info": {
   "codemirror_mode": {
    "name": "ipython",
    "version": 3
   },
   "file_extension": ".py",
   "mimetype": "text/x-python",
   "name": "python",
   "nbconvert_exporter": "python",
   "pygments_lexer": "ipython3",
   "version": "3.9.7"
  }
 },
 "nbformat": 4,
 "nbformat_minor": 2
}