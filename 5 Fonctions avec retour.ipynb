{
 "cells": [
  {
   "cell_type": "markdown",
   "metadata": {},
   "source": [
    "# Valeurs de retour\n",
    "\n",
    "L'appel d'une fonction entraîne la génération d'une **valeur de retour** qui peut être assignée à une variable ou utiliser directement dans une expression."
   ]
  },
  {
   "cell_type": "code",
   "execution_count": 5,
   "metadata": {},
   "outputs": [],
   "source": [
    "import math\n",
    "\n",
    "radiants = 180\n",
    "e = math.exp(1.0)\n",
    "hauteur = radiants * math.sin(radiants)"
   ]
  },
  {
   "cell_type": "markdown",
   "metadata": {},
   "source": [
    "**Remarque :** il existe des fonctions qui renvoie un type ```void``` comme ```print``` ou les fonctions définies par nous jusque maintenant. Dans les faits, elle retourne la valeur ```none```. Il n'y a pas d'intérêt à la stocker dans une variable ou à l'utiliser dans une expression."
   ]
  },
  {
   "cell_type": "markdown",
   "metadata": {},
   "source": [
    "# Instruction ```return``` \n",
    "\n",
    "L'instruction ```return``` permet de définir des fonctions qui retourne une valeur."
   ]
  },
  {
   "cell_type": "code",
   "execution_count": 6,
   "metadata": {},
   "outputs": [],
   "source": [
    "def aire(rayon):\n",
    "    return math.pi * rayon ** 2"
   ]
  },
  {
   "cell_type": "markdown",
   "metadata": {},
   "source": [
    "* Comme vu précédemment (récursivité), on peut omettre la valeur à retourner\n",
    "* L'exécution de la fonction s'arête lorsque l'on rencontre ```return``` (s'il y a du code après il ne sera pas considéré)\n",
    "* Il peut y avoir plusieurs ```return``` dans une fonction"
   ]
  },
  {
   "cell_type": "code",
   "execution_count": 1,
   "metadata": {},
   "outputs": [
    {
     "name": "stdout",
     "output_type": "stream",
     "text": [
      "valeur_absolue(42) = 42\n",
      "valeur_absolue(-42) = 42\n"
     ]
    }
   ],
   "source": [
    "def valeur_absolue(x):\n",
    "    if x < 0:\n",
    "        return -x\n",
    "    else:\n",
    "        return x\n",
    "\n",
    "print(\"valeur_absolue(42) =\", valeur_absolue(42))\n",
    "print(\"valeur_absolue(-42) =\", valeur_absolue(-42))"
   ]
  },
  {
   "cell_type": "markdown",
   "metadata": {},
   "source": [
    "# Bonnes pratiques\n",
    "\n",
    "## Cohérence sur la présence d'une valeur de retour\n",
    "\n",
    " Si une fonction n'est pas ```void```, il est préférable qu'elle retourne une valeur quelque soit les chemins d'exécution possibles. Si elle est ```void```, il est préférable que la fonction ne retourne rien quelque soit les chemins d'exécution possibles."
   ]
  },
  {
   "cell_type": "code",
   "execution_count": 8,
   "metadata": {},
   "outputs": [
    {
     "name": "stdout",
     "output_type": "stream",
     "text": [
      "ma_racine_carrée(42) = 6.48074069840786\n",
      "ma_racine_carrée(-1) = None\n"
     ]
    }
   ],
   "source": [
    "import math\n",
    "\n",
    "# Un exemple d'une mauvaise pratique\n",
    "def ma_racine_carrée(x):\n",
    "    if x >= 0:\n",
    "        return math.sqrt(x)\n",
    "    # Implicitement : si x < 0, on ne fait rien\n",
    "\n",
    "print(\"ma_racine_carrée(42) =\", ma_racine_carrée(42))\n",
    "print(\"ma_racine_carrée(-1) =\", ma_racine_carrée(-1))"
   ]
  },
  {
   "cell_type": "markdown",
   "metadata": {},
   "source": [
    "## Cohérence sur le type de la valeur de retour\n",
    "\n",
    "Si une fonction n'est pas ```void```, il est préférable qu'elle retourne toujours des valeurs du même type."
   ]
  },
  {
   "cell_type": "code",
   "execution_count": 9,
   "metadata": {},
   "outputs": [
    {
     "name": "stdout",
     "output_type": "stream",
     "text": [
      "ma_racine_carrée(42) = 6.48074069840786\n",
      "ma_racine_carrée(-1) = On ne peut pas calculer la racine carrée d'un nombre négatif\n"
     ]
    }
   ],
   "source": [
    "# Un exemple d'une mauvaise pratique\n",
    "def ma_racine_carrée(x):\n",
    "    if x >= 0:\n",
    "        return math.sqrt(x)\n",
    "    else:\n",
    "        return \"On ne peut pas calculer la racine carrée d'un nombre négatif\"\n",
    "    # Implicitement : si x < 0, on ne fait rien\n",
    "\n",
    "print(\"ma_racine_carrée(42) =\", ma_racine_carrée(42))\n",
    "print(\"ma_racine_carrée(-1) =\", ma_racine_carrée(-1))"
   ]
  },
  {
   "cell_type": "markdown",
   "metadata": {},
   "source": [
    "## Développement incrémental\n",
    "\n",
    "Plutôt que d'écrire directement une \"grosse\" fonction, il vaut mieux écrire une base, la tester, l'étendre, la tester et ainsi de suite. Par exemple, on veut calculer la distance entre deux points $(x_1, y_1)$ et $(x_2, y_2)$ qui est donnée par la formule $\\sqrt{(x_2 - x_1)^2 + (y_2-y_1)^2}$.\n",
    "\n",
    "On peut commencer par définir la spécification de la fonction et la tester :"
   ]
  },
  {
   "cell_type": "code",
   "execution_count": 10,
   "metadata": {},
   "outputs": [
    {
     "data": {
      "text/plain": [
       "0.0"
      ]
     },
     "execution_count": 10,
     "metadata": {},
     "output_type": "execute_result"
    }
   ],
   "source": [
    "def distance(x1, y1, x2, y2):\n",
    "    return 0.0\n",
    "\n",
    "distance(1, 2, 4, 6) # Choisir des valeurs pour lesquels on connaît facilement le résultat"
   ]
  },
  {
   "cell_type": "markdown",
   "metadata": {},
   "source": [
    "On peut ensuite ajouter une première étape. Ici, on peut calculer $x_2 - x_1$ et $y_2 - y_1$ et les afficher pour vérifier si le calcul est correct."
   ]
  },
  {
   "cell_type": "code",
   "execution_count": 11,
   "metadata": {},
   "outputs": [
    {
     "name": "stdout",
     "output_type": "stream",
     "text": [
      "dx = 3\n",
      "dy = 4\n"
     ]
    },
    {
     "data": {
      "text/plain": [
       "0.0"
      ]
     },
     "execution_count": 11,
     "metadata": {},
     "output_type": "execute_result"
    }
   ],
   "source": [
    "def distance(x1, y1, x2, y2):\n",
    "    dx = x2 - x1\n",
    "    dy = y2 - y1\n",
    "    print(\"dx =\", dx)\n",
    "    print(\"dy =\", dy)\n",
    "    return 0.0\n",
    "\n",
    "distance(1, 2, 4, 6)"
   ]
  },
  {
   "cell_type": "markdown",
   "metadata": {},
   "source": [
    "Maintenant que l'on est sûr que cette partie est correcte (si ce n'était pas le cas, on recherche le problème), on peut ajouter une étape :"
   ]
  },
  {
   "cell_type": "code",
   "execution_count": 12,
   "metadata": {},
   "outputs": [
    {
     "name": "stdout",
     "output_type": "stream",
     "text": [
      "somme_carrés = 25\n"
     ]
    },
    {
     "data": {
      "text/plain": [
       "0.0"
      ]
     },
     "execution_count": 12,
     "metadata": {},
     "output_type": "execute_result"
    }
   ],
   "source": [
    "def distance(x1, y1, x2, y2):\n",
    "    dx = x2 - x1\n",
    "    dy = y2 - y1\n",
    "    somme_carrés = dx ** 2 + dy ** 2\n",
    "    print(\"somme_carrés =\", somme_carrés)\n",
    "    return 0.0\n",
    "\n",
    "distance(1, 2, 4, 6)"
   ]
  },
  {
   "cell_type": "markdown",
   "metadata": {},
   "source": [
    "Une fois que le calcul est correct, on peut terminer en calculant la racine carrée de ```somme_carrés``` :"
   ]
  },
  {
   "cell_type": "code",
   "execution_count": 13,
   "metadata": {},
   "outputs": [
    {
     "data": {
      "text/plain": [
       "5.0"
      ]
     },
     "execution_count": 13,
     "metadata": {},
     "output_type": "execute_result"
    }
   ],
   "source": [
    "def distance(x1, y1, x2, y2):\n",
    "    dx = x2 - x1\n",
    "    dy = y2 - y1\n",
    "    somme_carrés = dx ** 2 + dy ** 2\n",
    "    résultat = math.sqrt(somme_carrés)\n",
    "    return résultat\n",
    "\n",
    "distance(1, 2, 4, 6)"
   ]
  },
  {
   "cell_type": "markdown",
   "metadata": {},
   "source": [
    "L'exemple est simple et il n'est peut être nécessaire de faire autant d'étapes. Cependant, même pour un code simple, il est facile de faire une erreur. Voyez-vous le problème dans la fonction ci-dessous (on peut aussi remarquer que le code gagnerait en lisibilité avec des espaces) ?"
   ]
  },
  {
   "cell_type": "code",
   "execution_count": 14,
   "metadata": {},
   "outputs": [
    {
     "data": {
      "text/plain": [
       "4.0"
      ]
     },
     "execution_count": 14,
     "metadata": {},
     "output_type": "execute_result"
    }
   ],
   "source": [
    "def distance(x1, y1, x2, y2):\n",
    "    return math.sqrt((x2-x2)**2+(y2-y1)**2)\n",
    "\n",
    "distance(1, 2, 4, 6)"
   ]
  },
  {
   "cell_type": "markdown",
   "metadata": {},
   "source": [
    "Résumé d'un développement incrémental :\n",
    "\n",
    "1. Commencer avec un programme qui marche et faire de petit changement incrémental. Si une erreur se produit, le problème est contenu dans un code limité.\n",
    "2. Utiliser des variables pour contenir les résultats intermédiaires pour pouvoir les tester ou les afficher.\n",
    "3. Une fois que la fonction est terminée, on peut simplifier le code en ne passant pas par certaines des variables intermédiaires."
   ]
  },
  {
   "cell_type": "code",
   "execution_count": 15,
   "metadata": {},
   "outputs": [
    {
     "data": {
      "text/plain": [
       "5.0"
      ]
     },
     "execution_count": 15,
     "metadata": {},
     "output_type": "execute_result"
    }
   ],
   "source": [
    "def distance(x1, y1, x2, y2):\n",
    "    dx = x2 - x1\n",
    "    dy = y2 - y1\n",
    "    return math.sqrt(dx ** 2 + dy ** 2)\n",
    "\n",
    "distance(1, 2, 4, 6)"
   ]
  },
  {
   "cell_type": "markdown",
   "metadata": {},
   "source": [
    "## Encapsulation\n",
    "\n",
    "Il est intéressant de découper son code en plusieurs fonctions plus simples que l'on peut plus facilement tester. Par exemple, pour calculer l'aire d'un cercle défini par son centre $(x_c, y_c)$ et un point $(x_p, y_p)$ du périmètre, on pourrait écrire :"
   ]
  },
  {
   "cell_type": "code",
   "execution_count": 4,
   "metadata": {},
   "outputs": [],
   "source": [
    "def aire_cercle(xc, yc, xp, yp):\n",
    "    return math.pi * math.sqrt((xc - xp)**2 + (yc - yp)**2)**2"
   ]
  },
  {
   "cell_type": "markdown",
   "metadata": {},
   "source": [
    "Il est cependant plus intéressant de définir la fonction qui calcul le rayon qui est en fait la fonction ```distance``` que l'on peut donc réutiliser. On peut aussi utiliser la fonction ```aire``` qui calcule l'aire d'un cercle à partir de son rayon."
   ]
  },
  {
   "cell_type": "code",
   "execution_count": 17,
   "metadata": {},
   "outputs": [],
   "source": [
    "def distance(x1, y1, x2, y2):\n",
    "    return math.sqrt((x2 - x1) ** 2 + (y2 - y1) ** 2)\n",
    "\n",
    "def aire(rayon):\n",
    "    return math.pi * rayon ** 2\n",
    "\n",
    "def aire_cercle(xc, yc, xp, yp):\n",
    "    rayon = distance(xc, yc, xp, yp)\n",
    "    résultat = aire(rayon)\n",
    "    return résultat"
   ]
  },
  {
   "cell_type": "markdown",
   "metadata": {},
   "source": [
    "Ici le code est assez simple et on peut aisément se passer des variables intermédiaires :"
   ]
  },
  {
   "cell_type": "code",
   "execution_count": 18,
   "metadata": {},
   "outputs": [],
   "source": [
    "def aire_cercle(xc, yc, xp, yp):\n",
    "    return aire(distance(xc, yc, xp, yp))"
   ]
  },
  {
   "cell_type": "markdown",
   "metadata": {},
   "source": [
    "## Fonctions booléennes\n",
    "\n",
    "Il peut être aussi intéressant de _cacher_ une expression booléenne dans une fonction qui retourne un booléen pour faciliter le test de l'expression et améliorer la lisibilité du code. Par exemple, si on veut tester si un enter $y$ peut diviser un entier $x$ :"
   ]
  },
  {
   "cell_type": "code",
   "execution_count": 20,
   "metadata": {},
   "outputs": [
    {
     "name": "stdout",
     "output_type": "stream",
     "text": [
      "6 est-il divisible par 4 ? False\n",
      "6 est-il divisoble par 3 ? False\n"
     ]
    }
   ],
   "source": [
    "def est_divisible(x, y):\n",
    "    if x % y == 0:\n",
    "        return True\n",
    "    else:\n",
    "        return False\n",
    "\n",
    "print(\"6 est-il divisible par 4 ?\", est_divisible(6, 4))\n",
    "print(\"6 est-il divisoble par 3 ?\", est_divisible(6, 4))"
   ]
  },
  {
   "cell_type": "markdown",
   "metadata": {},
   "source": [
    "**Remarque :** le résultat de ```x % y == 0``` est un booléen et on retourne la valeur correspondante au résultat, on peut donc se passer du ```if``` :"
   ]
  },
  {
   "cell_type": "code",
   "execution_count": 2,
   "metadata": {},
   "outputs": [],
   "source": [
    "def est_divisible(x, y):\n",
    "    return x % y == 0"
   ]
  },
  {
   "cell_type": "markdown",
   "metadata": {},
   "source": [
    "Une utilisation typique des fonctions booléennes est comme condition (pour faciliter la lisibilité du code et les tests) :"
   ]
  },
  {
   "cell_type": "code",
   "execution_count": 3,
   "metadata": {},
   "outputs": [
    {
     "name": "stdout",
     "output_type": "stream",
     "text": [
      "42 n'est pas divisible par 12\n"
     ]
    }
   ],
   "source": [
    "x = 42\n",
    "y = 12\n",
    "\n",
    "if est_divisible(x, y):\n",
    "    print(x, \"est divisible par\", y)\n",
    "else:\n",
    "    print(x, \"n'est pas divisible par\", y)"
   ]
  },
  {
   "cell_type": "markdown",
   "metadata": {},
   "source": [
    "# Exercices \n",
    "\n",
    "## Exercice 1\n",
    "\n",
    "Ecrire une fonction ```est_entre(x, y, z)``` qui retourne ```True``` si $x \\leq y \\leq z$, ```False``` sinon."
   ]
  },
  {
   "cell_type": "code",
   "execution_count": 6,
   "metadata": {},
   "outputs": [
    {
     "data": {
      "text/plain": [
       "False"
      ]
     },
     "execution_count": 6,
     "metadata": {},
     "output_type": "execute_result"
    }
   ],
   "source": [
    "def est_entre (x, y, z):\n",
    "    if x < y and y < z :\n",
    "        return True\n",
    "    else:\n",
    "        return False\n",
    "\n",
    "y = int(input(\"Donnez la valeur de y à évaluer :\"))\n",
    "x = int(input(\"Donnez la première valeur :\"))\n",
    "z = int(input(\"Donnez la deuxième valeur :\"))\n",
    "est_entre (x, y , z )"
   ]
  },
  {
   "cell_type": "markdown",
   "metadata": {},
   "source": [
    "## Exercice 2\n",
    "\n",
    "1. Définissez une fonction ```est_positif(x)``` retournant ```True``` si le nombre $x \\geq 0$, ```False``` sinon."
   ]
  },
  {
   "cell_type": "code",
   "execution_count": 9,
   "metadata": {},
   "outputs": [
    {
     "data": {
      "text/plain": [
       "False"
      ]
     },
     "execution_count": 9,
     "metadata": {},
     "output_type": "execute_result"
    }
   ],
   "source": [
    "def est_positif (x):\n",
    "    if x >= 0 :\n",
    "        return True\n",
    "    else: \n",
    "        return False\n",
    "\n",
    "x = int(input(\"Donnez un chiffre :\"))\n",
    "est_positif(x)"
   ]
  },
  {
   "cell_type": "markdown",
   "metadata": {},
   "source": [
    "2. Utilisez la fonction ```est_positif``` pour écrire une fonction ```même_signe(x, y)``` qui retourne ```True``` si les nombres $x$ et $y$ sont de même signe, ```False``` sinon."
   ]
  },
  {
   "cell_type": "code",
   "execution_count": 13,
   "metadata": {},
   "outputs": [
    {
     "data": {
      "text/plain": [
       "True"
      ]
     },
     "execution_count": 13,
     "metadata": {},
     "output_type": "execute_result"
    }
   ],
   "source": [
    "def meme_signe(x, y):\n",
    "    a = est_positif(x)\n",
    "    b = est_positif (y)\n",
    "    if a == b :\n",
    "        return True\n",
    "    else: \n",
    "        return False\n",
    "\n",
    "x = int(input(\"Donnez un premier chiffre :\"))\n",
    "y = int(input(\"Donnez un deuxièle chiffre :\")) \n",
    "meme_signe(x, y)\n"
   ]
  },
  {
   "cell_type": "markdown",
   "metadata": {},
   "source": [
    "## Exercice 3\n",
    "\n",
    "1. Ecrivez une fonction ```addition(val1, val2)```et qui retourne le résultat ```val1 + val2```"
   ]
  },
  {
   "cell_type": "code",
   "execution_count": 16,
   "metadata": {},
   "outputs": [
    {
     "data": {
      "text/plain": [
       "100005"
      ]
     },
     "execution_count": 16,
     "metadata": {},
     "output_type": "execute_result"
    }
   ],
   "source": [
    "def addition (val1, val2):\n",
    "    res = val1 + val2\n",
    "    return res\n",
    "\n",
    "\n",
    "val1 = int(input(\"Donnez un premier chiffre :\"))\n",
    "val2 = int(input(\"Donnez un deuxièle chiffre :\")) \n",
    "addition(val1, val2)\n"
   ]
  },
  {
   "cell_type": "markdown",
   "metadata": {},
   "source": [
    "2. Ecrivez une fonction ```carré(x)``` qui retourne le carré de la valeur ```x```."
   ]
  },
  {
   "cell_type": "code",
   "execution_count": 30,
   "metadata": {},
   "outputs": [
    {
     "data": {
      "text/plain": [
       "4"
      ]
     },
     "execution_count": 30,
     "metadata": {},
     "output_type": "execute_result"
    }
   ],
   "source": [
    "def carré(x):\n",
    "    res = x*x\n",
    "    return res\n",
    "\n",
    "x = int(input(\"Donnez une valeur pour calculer son carré :\"))\n",
    "carré(x)"
   ]
  },
  {
   "cell_type": "markdown",
   "metadata": {},
   "source": [
    "3. Ecrivez une fonction ```cube(x)```qui affiche la valeur ```x``` multipliée 3 fois par elle-même. La fonction ne retourne rien."
   ]
  },
  {
   "cell_type": "code",
   "execution_count": 20,
   "metadata": {},
   "outputs": [],
   "source": [
    "def cube(x):\n",
    "    res = x*x*x\n",
    "\n",
    "x = int(input(\"Donnez une valeur pour calculer son cube :\"))\n",
    "cube(x)"
   ]
  },
  {
   "cell_type": "markdown",
   "metadata": {},
   "source": [
    "**Indication :** le code ci-dessous permet d'utiliser un générateurs de nombre aléatoires. Un appel à la fonction ```random.randint(a, b)``` retourne un entier choisi au hasard dans l'interval $[a, b]$"
   ]
  },
  {
   "cell_type": "code",
   "execution_count": 23,
   "metadata": {},
   "outputs": [
    {
     "name": "stdout",
     "output_type": "stream",
     "text": [
      "Un nombre aléatoire entre 10 et 20 : 12\n",
      "Un nombre aléatoire entre 1 et 20 : 9\n",
      "Un nombre aléatoire entre -10 et 20 : 4\n"
     ]
    }
   ],
   "source": [
    "import random\n",
    "\n",
    "print(\"Un nombre aléatoire entre 10 et 20 :\", random.randint(10, 20))\n",
    "print(\"Un nombre aléatoire entre 1 et 20 :\", random.randint(1, 20))\n",
    "print(\"Un nombre aléatoire entre -10 et 20 :\", random.randint(-10, 20))"
   ]
  },
  {
   "cell_type": "markdown",
   "metadata": {},
   "source": [
    "4. Ecrivez une fonction ```dé(nbre_faces)``` qui retourne une valeur aléatoire représentant un jet d'un dé dont le nombre de face est le paramètre."
   ]
  },
  {
   "cell_type": "code",
   "execution_count": 25,
   "metadata": {},
   "outputs": [
    {
     "name": "stdout",
     "output_type": "stream",
     "text": [
      "Un nombre aléatoire entre 1 et votre nombre de face : 5\n"
     ]
    }
   ],
   "source": [
    "import random\n",
    "\n",
    "def dé (nbre_face):\n",
    "    print(\"Un nombre aléatoire entre 1 et votre nombre de face :\", random.randint(1, nbre_face))\n",
    "\n",
    "nbre_face = int(input(\"Donnez le nombre de face :\"))\n",
    "dé(nbre_face)"
   ]
  },
  {
   "cell_type": "markdown",
   "metadata": {},
   "source": [
    "5. Ecrivez une fonction qui ne retourne rien, ```résultat(valeur)```, qui affiche le message \"Le résultat est < valeur >\"."
   ]
  },
  {
   "cell_type": "code",
   "execution_count": 27,
   "metadata": {},
   "outputs": [
    {
     "name": "stdout",
     "output_type": "stream",
     "text": [
      "La valeur est : 211054\n"
     ]
    }
   ],
   "source": [
    "def résultat (valeur):\n",
    "    print(\"La valeur est :\", valeur)\n",
    "\n",
    "valeur = int(input(\"Donnez une valeur :\"))\n",
    "résultat(valeur)"
   ]
  },
  {
   "cell_type": "markdown",
   "metadata": {},
   "source": [
    "## Exercice 4\n",
    "\n",
    "Utilisez uniquement les fonctions définies à l'exercice précédent pour répondre au question (même les opérateurs arithmétiques sont interdits). Les résultats sont affichées à l'aide de la fonction ```résultat```. La résolution de certaines questions n'est pas possibles avec les contraintes demandées, vous expliquerez pourquoi.\n",
    "\n",
    "1. Calculez l'aire d'un carré de côté de longueur 4."
   ]
  },
  {
   "cell_type": "code",
   "execution_count": 35,
   "metadata": {},
   "outputs": [
    {
     "data": {
      "text/plain": [
       "16"
      ]
     },
     "execution_count": 35,
     "metadata": {},
     "output_type": "execute_result"
    }
   ],
   "source": [
    "carré(4)"
   ]
  },
  {
   "cell_type": "markdown",
   "metadata": {},
   "source": [
    "2. Calculez l'aire d'un rectangle de dimensions : $4\\times 8$."
   ]
  },
  {
   "cell_type": "code",
   "execution_count": null,
   "metadata": {},
   "outputs": [],
   "source": [
    "# Je ne peut pas multiplier deux chiffres entre eux avec les fonction qui me sont proposer"
   ]
  },
  {
   "cell_type": "markdown",
   "metadata": {},
   "source": [
    "3. Calculez le volume d'un cube de côté 5.5."
   ]
  },
  {
   "cell_type": "code",
   "execution_count": 36,
   "metadata": {},
   "outputs": [],
   "source": [
    "#Je ne peut pas car la fonction cube ne retourne rien"
   ]
  },
  {
   "cell_type": "markdown",
   "metadata": {},
   "source": [
    "4. Calculez le volume d'un pavé de dimension : $4\\times 4\\times 8$."
   ]
  },
  {
   "cell_type": "code",
   "execution_count": null,
   "metadata": {},
   "outputs": [],
   "source": [
    "#Je ne peut pas multiplier trois chiffres entre eux avec les fonction qui me sont proposer"
   ]
  },
  {
   "cell_type": "markdown",
   "metadata": {},
   "source": [
    "5. Réalisez deux lancers de dés à dix faces et additionnez leurs valeurs."
   ]
  },
  {
   "cell_type": "code",
   "execution_count": 38,
   "metadata": {},
   "outputs": [
    {
     "name": "stdout",
     "output_type": "stream",
     "text": [
      "Un nombre aléatoire entre 1 et votre nombre de face : 9\n",
      "Un nombre aléatoire entre 1 et votre nombre de face : 4\n"
     ]
    }
   ],
   "source": [
    "dé(10)\n",
    "dé(10)"
   ]
  },
  {
   "cell_type": "markdown",
   "metadata": {},
   "source": [
    "## Exercice 5\n",
    "\n",
    "Une équation du second degré est une équation de la forme $ax^2 + bx + c = 0$ avec $a, b$ et $c$ des valeurs réelles données. Résoudre cette équation signifie trouver la ou les valeurs de $x$ tel que la partie gauche vaut 0. Il y a plusieurs cas possibles :\n",
    "\n",
    "1. Si $a, b$ et $c$ valent 0, il y a une infinité de solutions.\n",
    "2. Si $a$ et $b$ valent 0, il n'y a pas de solutions.\n",
    "3. Si $a$ vaut 0, il y a une seule solution égale à $x = -\\frac{c}{b}$.\n",
    "4. Sinon il faut procéder de la manière suivante :\n",
    "   1. Il faut d'abord calculer le discriminant $\\Delta = b^2 - 4ac$\n",
    "   2. On distingue alors 3 cas :\n",
    "      1. Si $\\Delta = 0$, il y a une seule solution réelle : $x = -\\frac{b}{2a}$.\n",
    "      2. Si $\\Delta > 0$, il y a deux solutions réelles : $x_1 = \\frac{-b + \\sqrt{\\Delta}}{2a}$ et $x_2 = \\frac{-b - \\sqrt{\\Delta}}{2a}$\n",
    "      3. Si $\\Delta < 0$, il y a deux solutions complexes : $x_1 = \\frac{-b + \\sqrt{\\Delta}i}{2a}$ et $x_2 = \\frac{-b - \\sqrt{\\Delta}i}{2a}$\n",
    "\n",
    "Ecrivez une fonction ```résoudre(a, b, c)``` qui affiche le résultat de la résolution de l'équation définie par $a, b$ et $c$. Les solutions réelles seront à afficher sous forme de nombres flottants. Les solutions complexes seront à afficher sous forme de fraction sauf si le dénominateur vaut 1 auquel cas on affichera uniquement le numérateur.\n",
    "\n",
    "**Indication :** pensez à définir plusieurs fonctions pour écrire votre programme et essayer d'appliquer une démarche d'implémentation incrémentale."
   ]
  },
  {
   "cell_type": "code",
   "execution_count": 4,
   "metadata": {},
   "outputs": [
    {
     "ename": "ValueError",
     "evalue": "math domain error",
     "output_type": "error",
     "traceback": [
      "\u001b[0;31m---------------------------------------------------------------------------\u001b[0m",
      "\u001b[0;31mValueError\u001b[0m                                Traceback (most recent call last)",
      "\u001b[0;32m<ipython-input-4-1c8153a02763>\u001b[0m in \u001b[0;36m<module>\u001b[0;34m\u001b[0m\n\u001b[1;32m     23\u001b[0m             \u001b[0;32mreturn\u001b[0m \u001b[0mx_1\u001b[0m\u001b[0;34m,\u001b[0m\u001b[0;34m\"i\"\u001b[0m\u001b[0;34m,\u001b[0m \u001b[0mx_2\u001b[0m\u001b[0;34m,\u001b[0m\u001b[0;34m\"i\"\u001b[0m\u001b[0;34m\u001b[0m\u001b[0;34m\u001b[0m\u001b[0m\n\u001b[1;32m     24\u001b[0m \u001b[0;34m\u001b[0m\u001b[0m\n\u001b[0;32m---> 25\u001b[0;31m \u001b[0mrésoudre\u001b[0m\u001b[0;34m(\u001b[0m\u001b[0;36m7\u001b[0m\u001b[0;34m,\u001b[0m\u001b[0;36m2\u001b[0m\u001b[0;34m,\u001b[0m\u001b[0;36m1\u001b[0m\u001b[0;34m)\u001b[0m\u001b[0;34m\u001b[0m\u001b[0;34m\u001b[0m\u001b[0m\n\u001b[0m",
      "\u001b[0;32m<ipython-input-4-1c8153a02763>\u001b[0m in \u001b[0;36mrésoudre\u001b[0;34m(a, b, c)\u001b[0m\n\u001b[1;32m     19\u001b[0m             \u001b[0;32mreturn\u001b[0m \u001b[0mx_1\u001b[0m\u001b[0;34m,\u001b[0m \u001b[0mx_2\u001b[0m\u001b[0;34m\u001b[0m\u001b[0;34m\u001b[0m\u001b[0m\n\u001b[1;32m     20\u001b[0m         \u001b[0;32mif\u001b[0m \u001b[0mdisc\u001b[0m \u001b[0;34m<\u001b[0m \u001b[0;36m0\u001b[0m \u001b[0;34m:\u001b[0m\u001b[0;34m\u001b[0m\u001b[0;34m\u001b[0m\u001b[0m\n\u001b[0;32m---> 21\u001b[0;31m             \u001b[0mx_1\u001b[0m \u001b[0;34m=\u001b[0m \u001b[0;34m(\u001b[0m\u001b[0;34m-\u001b[0m\u001b[0mb\u001b[0m \u001b[0;34m+\u001b[0m \u001b[0mmath\u001b[0m\u001b[0;34m.\u001b[0m\u001b[0msqrt\u001b[0m\u001b[0;34m(\u001b[0m\u001b[0mdisc\u001b[0m\u001b[0;34m)\u001b[0m \u001b[0;34m)\u001b[0m \u001b[0;34m/\u001b[0m \u001b[0;34m(\u001b[0m \u001b[0;36m2\u001b[0m \u001b[0;34m*\u001b[0m\u001b[0ma\u001b[0m\u001b[0;34m)\u001b[0m\u001b[0;34m\u001b[0m\u001b[0;34m\u001b[0m\u001b[0m\n\u001b[0m\u001b[1;32m     22\u001b[0m             \u001b[0mx_2\u001b[0m \u001b[0;34m=\u001b[0m \u001b[0;34m(\u001b[0m\u001b[0;34m-\u001b[0m\u001b[0mb\u001b[0m \u001b[0;34m-\u001b[0m \u001b[0mmath\u001b[0m\u001b[0;34m.\u001b[0m\u001b[0msqrt\u001b[0m\u001b[0;34m(\u001b[0m\u001b[0mdisc\u001b[0m\u001b[0;34m)\u001b[0m \u001b[0;34m)\u001b[0m \u001b[0;34m/\u001b[0m \u001b[0;34m(\u001b[0m \u001b[0;36m2\u001b[0m \u001b[0;34m*\u001b[0m\u001b[0ma\u001b[0m\u001b[0;34m)\u001b[0m\u001b[0;34m\u001b[0m\u001b[0;34m\u001b[0m\u001b[0m\n\u001b[1;32m     23\u001b[0m             \u001b[0;32mreturn\u001b[0m \u001b[0mx_1\u001b[0m\u001b[0;34m,\u001b[0m\u001b[0;34m\"i\"\u001b[0m\u001b[0;34m,\u001b[0m \u001b[0mx_2\u001b[0m\u001b[0;34m,\u001b[0m\u001b[0;34m\"i\"\u001b[0m\u001b[0;34m\u001b[0m\u001b[0;34m\u001b[0m\u001b[0m\n",
      "\u001b[0;31mValueError\u001b[0m: math domain error"
     ]
    }
   ],
   "source": [
    "import math\n",
    "\n",
    "def résoudre (a, b, c):\n",
    "    if a == 0 and b == 0 and c == 0:\n",
    "        return(\"Il y à une infinité de solutions\")\n",
    "    if a == 0 and b == 0 :\n",
    "        return(\"Il n'y à pas de solutions\")\n",
    "    if a == 0:\n",
    "        x = -(c / b)\n",
    "        return x\n",
    "    else:\n",
    "        disc = b * b - 4 *(a * c)\n",
    "        if disc == 0:\n",
    "            x = -(b / (2 * a))\n",
    "            return x\n",
    "        if disc > 0 :\n",
    "            x_1 = (-b + math.sqrt(disc) ) / ( 2 *a)\n",
    "            x_2 = (-b - math.sqrt(disc) ) / ( 2 *a)   \n",
    "            return x_1, x_2\n",
    "        if disc < 0 :\n",
    "            x_1 = (-b + math.sqrt(disc) ) / ( 2 *a)\n",
    "            x_2 = (-b - math.sqrt(disc) ) / ( 2 *a)   \n",
    "            return x_1,\"i\", x_2,\"i\"\n",
    "\n",
    "résoudre(7,2,1)"
   ]
  },
  {
   "cell_type": "markdown",
   "metadata": {},
   "source": [
    "# Retour à la récursivité\n",
    "\n",
    "Il est possible de faire de la récursivité avec des fonctions qui retournent une valeur. Il est possible d'utiliser la valeur retournée par l'appel récursif pour calculer le résultat retourner par la fonction. \n",
    "\n",
    "**Indication :** il faut supposer que l'appel récursif renvoie le bon résultat. Il faut aussi bien définir ce qui est renvoyé lors des cas de base.\n",
    "\n",
    "Exemple : $n! = n\\times n-1 \\times n-2\\times \\dots \\times 1$ peut être défini de manière récursive :\n",
    "\n",
    "* $0! = 1$\n",
    "* $n! = n(n-1)!$\n",
    "\n",
    "Si on veut implémenter cette formule (qui est récursive), on peut procéder de la manière suivante.\n",
    "\n",
    "On commence par définir la spécification de la fonction :"
   ]
  },
  {
   "cell_type": "code",
   "execution_count": null,
   "metadata": {},
   "outputs": [],
   "source": [
    "def factoriel(n):\n",
    "    return 1 # Il faut au moins une instruction"
   ]
  },
  {
   "cell_type": "markdown",
   "metadata": {},
   "source": [
    "Ensuite, on peut ajouter le cas d'arrêt quand $n = 0$ :"
   ]
  },
  {
   "cell_type": "code",
   "execution_count": null,
   "metadata": {},
   "outputs": [],
   "source": [
    "def factoriel(n):\n",
    "    if n == 0:\n",
    "        return 1"
   ]
  },
  {
   "cell_type": "markdown",
   "metadata": {},
   "source": [
    "Ensuite on ajoute l'appel récursif :"
   ]
  },
  {
   "cell_type": "code",
   "execution_count": null,
   "metadata": {},
   "outputs": [],
   "source": [
    "def factoriel(n):\n",
    "    if n == 0:\n",
    "        return 1\n",
    "    else:\n",
    "        résultat_récursion = factoriel(n-1)"
   ]
  },
  {
   "cell_type": "markdown",
   "metadata": {},
   "source": [
    "On utilise le résultat de l'appel récursif pour calculer le résultat pour $n$ et on le retourne : "
   ]
  },
  {
   "cell_type": "code",
   "execution_count": null,
   "metadata": {},
   "outputs": [],
   "source": [
    "def factoriel(n):\n",
    "    if n == 0:\n",
    "        return 1\n",
    "    else:\n",
    "        résultat_récursion = factoriel(n-1)\n",
    "        résultat = n * résultat_récursion \n",
    "        return résultat"
   ]
  },
  {
   "cell_type": "markdown",
   "metadata": {},
   "source": [
    "On peut se passer des variables intermédiaires :"
   ]
  },
  {
   "cell_type": "code",
   "execution_count": null,
   "metadata": {},
   "outputs": [],
   "source": [
    "def factoriel(n):\n",
    "    if n == 0:\n",
    "        return 1\n",
    "    else:\n",
    "        return n * factoriel(n-1)"
   ]
  },
  {
   "cell_type": "markdown",
   "metadata": {},
   "source": [
    "Il est possible de faire un arbre d'appel comme pour ```compte_à_rebours```. La différence est que maintenant en plus de la phase de \"descente\", il y a une phase de remontée des résultats. Pour un programme simple comme factoriel, on peut le visualiser par un affichage :"
   ]
  },
  {
   "cell_type": "code",
   "execution_count": 5,
   "metadata": {},
   "outputs": [
    {
     "name": "stdout",
     "output_type": "stream",
     "text": [
      "                 factoriel(4)\n",
      "             factoriel(3)\n",
      "         factoriel(2)\n",
      "     factoriel(1)\n",
      " factoriel(0)\n",
      " factoriel(0) retourne 1\n",
      "     factoriel(1) retourne 1 = 1 * 1\n",
      "         factoriel(2) retourne 2 = 2 * 1\n",
      "             factoriel(3) retourne 6 = 3 * 2\n",
      "                 factoriel(4) retourne 24 = 4 * 6\n",
      "\n",
      "factoriel(4) = 24\n"
     ]
    }
   ],
   "source": [
    "def factoriel(n):\n",
    "    espace = ' ' * (4 * n)\n",
    "    print(espace, \"factoriel(\"+ str(n) + \")\")\n",
    "    if n == 0:\n",
    "        print(espace, \"factoriel(0) retourne 1\")\n",
    "        return 1\n",
    "    else :\n",
    "        résultat_récursion = factoriel(n-1)\n",
    "        résultat = n * résultat_récursion\n",
    "        print(espace, \"factoriel(\"+str(n)+\") retourne\", résultat, \"=\", n, \"*\", résultat_récursion)\n",
    "        return résultat\n",
    "\n",
    "print(\"\\nfactoriel(4) =\", factoriel(4))"
   ]
  },
  {
   "cell_type": "markdown",
   "metadata": {},
   "source": [
    "# Exercices \n",
    "\n",
    "## Exercice 1\n",
    "\n",
    "La suite de Fibonacci est définie de la manière suivante (il y a deux cas d'arrêt et un double appel récursif) :\n",
    "\n",
    "* fibonacci(0) = 0\n",
    "* fibonacci(1) = 1\n",
    "* fibonacci($n$) = fibonacci($n-1$) + fibonacci($n-2$) pour $n \\geq 2$\n",
    "\n",
    "Implémentez une fonction ```fibonacci(n)``` qui calcule la valeur de la suite pour $n$.\n",
    "\n",
    "**Indication :** ne testez pas votre fonction pour des valeurs trop grandes."
   ]
  },
  {
   "cell_type": "code",
   "execution_count": 9,
   "metadata": {},
   "outputs": [
    {
     "data": {
      "text/plain": [
       "55"
      ]
     },
     "execution_count": 9,
     "metadata": {},
     "output_type": "execute_result"
    }
   ],
   "source": [
    "def fibonacci (n) : \n",
    "    if n == 0:\n",
    "        return 0\n",
    "    if n == 1:\n",
    "        return 1   \n",
    "    return fibonacci(n - 1) + fibonacci(n - 2)\n",
    "\n",
    "fibonacci (10)"
   ]
  },
  {
   "cell_type": "markdown",
   "metadata": {},
   "source": [
    "## Exercice 2\n",
    "\n",
    "La fonction d'Ackermann $A(m, n)$ est définie par la récurrence :\n",
    "\n",
    "$$\n",
    "A(m, n) = \\begin{cases}\n",
    "n + 1 & \\text{si } m = 0 \\\\\n",
    "A(m-1, 1) & \\text{si } m > 0 \\text{ et } n = 0 \\\\\n",
    "A(m-1, A(m, n-1)) & \\text{si } m > 0 \\text{ et } n > 0\n",
    "\\end{cases}\n",
    "$$\n",
    "\n",
    "Ecrivez une fonction ```ack(m, n)``` qui calcule la fonction d'Ackerman.\n",
    "\n",
    "**Indication pour vérifier :** ```ack(3, 4)``` doit retourner 125."
   ]
  },
  {
   "cell_type": "code",
   "execution_count": 14,
   "metadata": {},
   "outputs": [
    {
     "ename": "SyntaxError",
     "evalue": "invalid syntax (<ipython-input-14-5e6d6ae659be>, line 8)",
     "output_type": "error",
     "traceback": [
      "\u001b[0;36m  File \u001b[0;32m\"<ipython-input-14-5e6d6ae659be>\"\u001b[0;36m, line \u001b[0;32m8\u001b[0m\n\u001b[0;31m    ack(3,4)\u001b[0m\n\u001b[0m    ^\u001b[0m\n\u001b[0;31mSyntaxError\u001b[0m\u001b[0;31m:\u001b[0m invalid syntax\n"
     ]
    }
   ],
   "source": [
    "def ack (m,n):\n",
    "    if m == 0:\n",
    "        return(n + 1) \n",
    "    if m > 0 and n == 0:\n",
    "        return(ack( m- 1.1))\n",
    "    if m > 0 and n > 0 :\n",
    "        return(ack(m - 1, ack( m,n-1))\n",
    "ack(3,4)\n"
   ]
  },
  {
   "cell_type": "markdown",
   "metadata": {},
   "source": [
    "## Exercice 3\n",
    "\n",
    "Ecrivez une fonction récursive qui prend en paramètre deux entiers positifs et qui retourne la somme des deux entiers positifs. Les seules expressions que vous pouvez utiliser sont : i) ajouter 1 à un entier ; ii) retirer 1 à un entier ; iii) comparer si un entier est égal à 0 (```==```).\n",
    "\n",
    "**Indication :** essayez de trouver d'abord le cas de base qui peut être aussi le cas pour lequel il est facile de répondre."
   ]
  },
  {
   "cell_type": "code",
   "execution_count": null,
   "metadata": {},
   "outputs": [],
   "source": []
  },
  {
   "cell_type": "markdown",
   "metadata": {},
   "source": [
    "## Exercice 4\n",
    "\n",
    "Un palindrome est un mot qui s'écrit de la même façon de gauche à droite et de droite à gauche, par exemple : ICI, ELLE, RADAR.\n",
    "\n",
    "De manière récursive, un palindrome est un mot dont la première lettre est la même que la dernière et dont le sous-mot obtenu en retirant la première lettre et la dernière lettre est aussi un palindrome. Un mot vide est un palindrome.\n",
    "\n",
    "En python, on peut représenter un mot par une chaîne de caractères. Les fonctions ci-dessous permettent d'obtenir la première lettre du mot, la dernière lettre du mot et le sous-mot obtenu en retirant la première et la dernière lettre."
   ]
  },
  {
   "cell_type": "code",
   "execution_count": 6,
   "metadata": {},
   "outputs": [
    {
     "name": "stdout",
     "output_type": "stream",
     "text": [
      "première_lettre(\"Timoléon\") = T\n",
      "dernière_lettre(\"Timoléon\") = n\n",
      "sous_mot(\"Timoléon\") = imoléo\n",
      "sous_mot(\"ab\") = \n",
      "sous_mot(\"a\") = \n",
      "sous_mot(\"\") = \n"
     ]
    }
   ],
   "source": [
    "def première_lettre(mot):\n",
    "    return mot[0]\n",
    "\n",
    "def dernière_lettre(mot):\n",
    "    return mot[-1]\n",
    "\n",
    "def sous_mot(mot):\n",
    "    return mot[1:-1]\n",
    "\n",
    "print('première_lettre(\"Timoléon\") =', première_lettre(\"Timoléon\"))\n",
    "print('dernière_lettre(\"Timoléon\") =', dernière_lettre(\"Timoléon\"))\n",
    "print('sous_mot(\"Timoléon\") =', sous_mot(\"Timoléon\"))\n",
    "print('sous_mot(\"ab\") =', sous_mot(\"ab\"))\n",
    "print('sous_mot(\"a\") =', sous_mot(\"a\"))\n",
    "print('sous_mot(\"\") =', sous_mot(\"\"))\n"
   ]
  },
  {
   "cell_type": "markdown",
   "metadata": {},
   "source": [
    "Ecrivez une fonction ```palindrome(mot)``` qui retourne ```True``` si la chaîne de caractères ```mot``` est un palindrome, ```False``` sinon."
   ]
  },
  {
   "cell_type": "code",
   "execution_count": null,
   "metadata": {},
   "outputs": [],
   "source": []
  },
  {
   "cell_type": "markdown",
   "metadata": {},
   "source": [
    "## Exercice 5\n",
    "\n",
    "L'algorithme d'Euclide permet de calculer le pgcd de deux nombres entiers $a$ et $b$, c'est-à-dire le plus grand entier positif divisant ces deux nombres, par des divisions euclidiennes successives.\n",
    "\n",
    "Voici le déroulement de cet algorithme pour le calcul du pgcd de $a = 119$ et $b = 544$ :\n",
    "\n",
    "* Itération 1 : $119 = 544 \\times 0 + 119$\n",
    "* Itération 2 : $544 = 119 \\times 4 + 68$\n",
    "* Itération 3 : $119 = 68 \\times 1 + 51$\n",
    "* Itération 4 : $68 = 51 \\times 1 + 17$\n",
    "* Itération 5 : $51 = 17 \\times 3 + 0$\n",
    "\n",
    "Le pgcd de 119 et 544 est le dernier reste non nul, c'est-à-dire 17. On va supposer que $a$ et $b$ sont positifs ou nuls et que l'un au moins des deux entiers n'est pas nul.\n",
    "\n",
    "1. Exprimez de manière récursive cet algorithme : il faut donc identifier le cas de base et l'appel récursif.\n",
    "2. Implémentez cet algorithme en Python. Le seul opérateur arithmétique que vous pouvez utiliser est le modulo ```%```."
   ]
  },
  {
   "cell_type": "code",
   "execution_count": null,
   "metadata": {},
   "outputs": [],
   "source": []
  }
 ],
 "metadata": {
  "interpreter": {
   "hash": "767d51c1340bd893661ea55ea3124f6de3c7a262a8b4abca0554b478b1e2ff90"
  },
  "kernelspec": {
   "display_name": "Python 3.9.7 64-bit ('base': conda)",
   "name": "python3"
  },
  "language_info": {
   "codemirror_mode": {
    "name": "ipython",
    "version": 3
   },
   "file_extension": ".py",
   "mimetype": "text/x-python",
   "name": "python",
   "nbconvert_exporter": "python",
   "pygments_lexer": "ipython3",
   "version": "3.9.7"
  },
  "orig_nbformat": 4
 },
 "nbformat": 4,
 "nbformat_minor": 2
}
