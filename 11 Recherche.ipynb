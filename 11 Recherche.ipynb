{
 "cells": [
  {
   "cell_type": "markdown",
   "metadata": {},
   "source": [
    "# Problèmes de recherche\n",
    "\n",
    "## Entrées \n",
    "\n",
    "- une collection $l$\n",
    "- une valeur $x$\n",
    "\n",
    "# Sortie\n",
    "\n",
    "Vrai si $x$ est présent dans $l$, faux sinon\n",
    "\n",
    "# Problème de recherche dans une séquence\n",
    "\n",
    "## Entrées\n",
    "\n",
    "- $l$ : structure de données séquentielle de $n$ éléments\n",
    "- $x$ : une valeur\n",
    "- $a$ et $b$ : deux indices (entiers)\n",
    "\n",
    "## Hypothèses\n",
    "\n",
    "- On suppose que l'on peut accéder directement à un élément par son indice compris entre 0 et $n$ - 1\n",
    "- Si $a \\geq b$, on suppose que l'on cherche dans une séquence vide\n",
    "- Opérateurs de comparaison (```<, >, <=, >=, ==```) sur les éléments\n",
    "- Dans le cours, on travaillera sur des listes (```list```) python mais on pourrait aussi travailler avec des chaînes de caractères ou des tuples\n",
    "- _Coût_ de l'algorithme ```==``` nombre de comparaisons entre $x$ et un élément de $l$\n",
    "\n",
    "## Sortie\n",
    "\n",
    "Vrai si $x \\in l[a:b]$ (b exclus), Faux sinon\n",
    "\n",
    "## Variante\n",
    "\n",
    "- Quel est l'indice $i$ tel que $l[i] == x$ ?\n",
    "- Quel est le plus petit indice ?\n",
    "- Quel est le plus grand indice ?\n",
    "- Quels sont tous les indices ?\n",
    "\n",
    "# Structure séquentielle non triée\n",
    "\n",
    "## Recherche séquentielle naïve\n",
    "\n",
    "- Utilisation d'une variable booléenne ```présent``` pour indiquer si $x$ est dans $l$\n",
    "- Au début, ```présent``` vaut ```False```\n",
    "- On parcours la liste, si on trouve l'élément, on bascule ```présent``` à ```True```\n",
    "\n"
   ]
  },
  {
   "cell_type": "code",
   "execution_count": 1,
   "metadata": {},
   "outputs": [],
   "source": [
    "def recherche_séquentielle_naïve(l, x, a, b):\n",
    "    présent = False\n",
    "    for i in range(a, b):\n",
    "        if x == l[i]:\n",
    "            présent = True\n",
    "    return présent"
   ]
  },
  {
   "cell_type": "markdown",
   "metadata": {},
   "source": [
    "Coût pour une recherche dans une séquence de $n = b - a$ éléments : $n$ comparaisons\n",
    "\n",
    "## Recherche séquentielle\n",
    "\n",
    "Même principe que précédemment mais on s'arrête quand on a trouvé l'élément\n",
    "\n",
    "Version avec une boucle ```while``` :"
   ]
  },
  {
   "cell_type": "code",
   "execution_count": null,
   "metadata": {},
   "outputs": [],
   "source": [
    "def recherche_séquentielle(l, x, a, b):\n",
    "    présent = False\n",
    "    i = a\n",
    "    \n",
    "    while not présent and i < b:\n",
    "        if x == l[i]:\n",
    "            présent = True\n",
    "        i += 1\n",
    "        \n",
    "    return présent"
   ]
  },
  {
   "cell_type": "markdown",
   "metadata": {},
   "source": [
    "Version avec une boucle ```for``` :"
   ]
  },
  {
   "cell_type": "code",
   "execution_count": null,
   "metadata": {},
   "outputs": [],
   "source": [
    "def recherche_séquentielle(l, x, a, b):\n",
    "    for i in range(a, b):\n",
    "        if x == l[i]:\n",
    "            return True\n",
    "    return False"
   ]
  },
  {
   "cell_type": "markdown",
   "metadata": {},
   "source": [
    "Coût pour une recherche parmi une séquence de $n = b - a$ éléments\n",
    "\n",
    "- Meilleur des cas : 1 comparaison ($x$ est le premier élément de $l$)\n",
    "- Pire des cas : $n$ comparaisons ($x$ est le dernier élément de $l$ ou $x$ n'est pas présent dans $l$)\n",
    "\n",
    "# Structure séquentielle triée\n",
    "\n",
    "*Hypothèse :* on suppose que la struture est triée par ordre croissant\n",
    "\n",
    "- Non trié : ```[0, 20, 10, 30, 50, 40]```\n",
    "- Trié par ordre croissant : ```[0, 10, 20, 30, 40, 50]```\n",
    "- Trié par ordre décroissant : ```[50, 40, 30, 20, 10, 0]```\n",
    "\n",
    "## Recherche séquentielle"
   ]
  },
  {
   "cell_type": "markdown",
   "metadata": {},
   "source": [
    "Même principe que l'algorithme précédent avec ajout d'une condition d'arrêt supplémentaire :\n",
    "\n",
    "- Si l'élément d'indice $i$ est strictement plus grand que $x$, on s'arrête car $x$ ne peut pas apparaître dans la suite de la séquence\n",
    "\n",
    "Version avec une boucle ```while``` :"
   ]
  },
  {
   "cell_type": "code",
   "execution_count": null,
   "metadata": {},
   "outputs": [],
   "source": [
    "def recherche_séquentielle(l, x, a, b):\n",
    "    présent = False\n",
    "    fini = False\n",
    "    i = a\n",
    "    \n",
    "    while not présent and not fini and i < b:\n",
    "        if x == l[i]:\n",
    "            présent = True\n",
    "        elif x < l[i]:\n",
    "            fini = True\n",
    "        else:\n",
    "            i += 1\n",
    "            \n",
    "    return présent\n",
    "            "
   ]
  },
  {
   "cell_type": "markdown",
   "metadata": {},
   "source": [
    "Version avec une boucle ```for``` :"
   ]
  },
  {
   "cell_type": "code",
   "execution_count": null,
   "metadata": {},
   "outputs": [],
   "source": [
    "def recherche_séquentielle(l, x, a, b):\n",
    "    for i in range(a, b):\n",
    "        if x == l[i]:\n",
    "            return True\n",
    "        elif x < l[i]:\n",
    "            return False\n",
    "    return False"
   ]
  },
  {
   "cell_type": "markdown",
   "metadata": {},
   "source": [
    "Coût pour une recherche parmi une séquence de $n = b - a$ éléments\n",
    "\n",
    "- Meilleur des cas : 1 comparaison ($x$ est le premier élément de $l$)\n",
    "- Pire des cas : $n$ comparaisons ($x$ est le dernier élément de $l$ ou $x$ n'est pas présent dans $l$)\n",
    "\n",
    "## Diviser pour régner\n",
    "\n",
    "Principe du paradigme :\n",
    "\n",
    "1. _Diviser_ le problème en problèmes identiques de plus petites tailles\n",
    "2. _Résoudre_ les sous-problèmes définis\n",
    "3. _Combiner_ les résultats des sous-problèmes pour répondre au problème initial\n",
    "\n",
    "## Application à la recherche dans une séquence triée\n",
    "\n",
    "1. _Diviser_ : on recherche $x$ dans une moitié de la liste (on choisit quelle sous-liste en se comparant à l'élément d'indice médian)\n",
    "2. _Résoudre_ : on réapplique l'algorithme sur la demi-liste sélectionnée (récursivité)\n",
    "3. _Combiner_ : on récupère directement le résultat sur le sous-problème (il n'y en a qu'un)\n",
    "\n",
    "\n",
    "## Définition récursive :\n",
    "\n",
    "$$\n",
    "\t\t\\text{recherche\\_dichotomique}(l, x, a, b) =\n",
    "\t\t\\begin{cases}\n",
    "\t\tFalse & \\text{si } a \\geq b \\text{ (la séquence est vide)}\t\\\\\n",
    "\t\tTrue & \\text{si } a < b \\text{ et } x == l[m]  \\\\\n",
    "\t\t\\text{recherche\\_dichotomique}(l, x, a, m) & \\text{si } x < l[m] \\\\\n",
    "\t\t\\text{recherche\\_dichotomique}(l, x, m+1, b) & \\text{si } x > l[m]\n",
    "\t\t\\end{cases}\n",
    "\t\t$$\n",
    "\n",
    "avec $m = \\lfloor\\frac{a + b - 1}{2}\\rfloor$.\n",
    "\n",
    "## Implémentation récursive :"
   ]
  },
  {
   "cell_type": "code",
   "execution_count": null,
   "metadata": {},
   "outputs": [],
   "source": [
    "def recherche_dichotomique(l, x, a, b):\n",
    "    if a >= b:\n",
    "        return False\n",
    "    else:\n",
    "        m = (a + b - 1) // 2\n",
    "        if x == l[m]:\n",
    "            return True\n",
    "        elif x < l[m]:\n",
    "            return recherche_dichotomique(l, x, a, m)\n",
    "        else:\n",
    "            return recherche_dichotomique(l, x, m+1, b)"
   ]
  },
  {
   "cell_type": "markdown",
   "metadata": {},
   "source": [
    "## Implémentation itérative :"
   ]
  },
  {
   "cell_type": "code",
   "execution_count": null,
   "metadata": {},
   "outputs": [],
   "source": [
    "def recherche_dichotomique(l, x, a, b):\n",
    "    présent = False\n",
    "    \n",
    "    while not présent and a < b:\n",
    "        m = (a + b - 1) // 2\n",
    "        if x == l[m]:\n",
    "            présent = True\n",
    "        elif x < l[m]:\n",
    "            b = m\n",
    "        else:\n",
    "            a = m + 1\n",
    "    \n",
    "    return présent    "
   ]
  },
  {
   "cell_type": "markdown",
   "metadata": {},
   "source": [
    "## Coût de la recherche dichotomique\n",
    "\n",
    "- Meilleur des cas : 1 (x == l[(a + b - 1) // 2])\n",
    "- Dans le pire des cas : environ $\\log_2(n) << n$ (pour $n$ grand) ($x$ n'est pas présent dans $l$)\n",
    "\n",
    "# Quel algorithme de recherche choisir ? \n",
    "\n",
    "- Structure non triée : recherche séquentielle en s'arrêtant quand on a trouvé $x$\n",
    "\n",
    "- Structure triée :\n",
    "\n",
    "Nombre de comparisons pour différentes valeurs de $n = a - b$\n",
    "\n",
    "|$n$ | Dichotomie | Séquentielle |\n",
    "|:---|:---|:---|\n",
    "|128 | entre 1 et 7 | entre 1 et 128 |\n",
    "|1024 | entre 1 et 11 | entre 1 et 1024 |\n",
    "|$10^6$ | entre 1 et 21 | entre 1 et $10^6$ | \n",
    "\n",
    "# Exercices\n",
    "\n",
    "## Exercice 1\n",
    "\n",
    "Il est possible d'adapter la recherche séquentielle dans un tableau pour retrouver certaines valeurs remarquables : plus grande valeur, plus petite valeur ... Le principe est d'utiliser une variable initialisée soit par une valeur possible, soit par une valeur qui sera toujours moins bonne que ce qui se trouve dans le tableau. Puis, on parcourt le tableau en mettant à jour cette variable si on trouve un meilleur candidat. \n",
    "\n",
    "1. Écrivez une fonction qui retourne la plus grande valeur dans un tableau d'entiers."
   ]
  },
  {
   "cell_type": "code",
   "execution_count": 1,
   "metadata": {},
   "outputs": [
    {
     "name": "stdout",
     "output_type": "stream",
     "text": [
      "La valeur la plus grande du tableau est : 50\n"
     ]
    }
   ],
   "source": [
    "def plus_grand_tableau (tableau):\n",
    "    res = tableau[0]\n",
    "    #print (\"res =\", res)\n",
    "    #print(\"taille du tableau =\",len(tableau))\n",
    "    for i in range (len(tableau)):\n",
    "        #test = tableau[i]\n",
    "        #print (\"i =\",i)\n",
    "        if tableau[i] > res :\n",
    "            #print (\"La valeur de i\",i,\"entre dans la boucle\")\n",
    "            res = tableau [i]\n",
    "            #print (\" res dans if =\", res)\n",
    "    return res\n",
    "\n",
    "print(\"La valeur la plus grande du tableau est :\",plus_grand_tableau([5,3,6,9,8,7,4,4,1,2,35,10,50]))"
   ]
  },
  {
   "cell_type": "markdown",
   "metadata": {},
   "source": [
    "2. Écrivez une fonction qui retourne l'indice de la plus petite valeur dans un tableau d'entiers. Si le minimum apparaît plusieurs fois, la fonction doit retourner l'indice de la première occurrence."
   ]
  },
  {
   "cell_type": "code",
   "execution_count": 23,
   "metadata": {},
   "outputs": [
    {
     "name": "stdout",
     "output_type": "stream",
     "text": [
      "L'itération la plus petite du tableau est : 8\n"
     ]
    }
   ],
   "source": [
    "def plus_grand_tableau (tableau):\n",
    "    res = tableau[0]\n",
    "    for i in range (len(tableau)):\n",
    "        #test = tableau[i] \n",
    "        if tableau[i] < res :\n",
    "            res = tableau[i]\n",
    "            resindice = i\n",
    "    return resindice\n",
    "\n",
    "print(\"L'itération la plus petite du tableau est :\",plus_grand_tableau([5,3,6,9,8,7,4,4,1,2,35,10,50]))"
   ]
  },
  {
   "cell_type": "markdown",
   "metadata": {},
   "source": [
    "\n",
    "## Exercice 2\n",
    "\n",
    "Les algorithmes vu en cours travaillent sur des séquences triées par ordre croissant.\n",
    "\n",
    "1. Réécrivez l'algorithme de recherche séquentielle dans le cas où la liste $l$ est triée en ordre décroissant."
   ]
  },
  {
   "cell_type": "code",
   "execution_count": null,
   "metadata": {},
   "outputs": [],
   "source": [
    "def recherche_séquentielle(l, x, a, b):\n",
    "    for i in range(a, b):\n",
    "        if x == l[i]:\n",
    "            return True\n",
    "        elif x > l[i]:\n",
    "            return False\n",
    "    return False"
   ]
  },
  {
   "cell_type": "code",
   "execution_count": 18,
   "metadata": {},
   "outputs": [],
   "source": [
    "def est_dans_la_liste_decroissante(x,l):\n",
    "    comp=0\n",
    "    while comp<len(l) and x<=l[comp] :\n",
    "        if x==l[comp]:\n",
    "            return True\n",
    "            comp+=1\n",
    "        return False"
   ]
  },
  {
   "cell_type": "markdown",
   "metadata": {},
   "source": [
    "2. Réécrivez l'algorithme de recherche dichotomique (version récursive ou itérative) dans le cas où la liste $l$ est triée en ordre décroissant."
   ]
  },
  {
   "cell_type": "code",
   "execution_count": null,
   "metadata": {},
   "outputs": [],
   "source": [
    "def dichoto_decroissante(x,l):\n",
    " if x==l[0] or x==l[-1]:\n",
    "    return True\n",
    "    a=0\n",
    "    b=len(l)-1\n",
    "    while (a+1)<b:\n",
    "        test=(a+b)//2\n",
    "        if l[test]==x:\n",
    "            return True\n",
    "        if x<l[test]:\n",
    "            a=test\n",
    "        if x>l[test]:\n",
    "            b=test\n",
    "    return False"
   ]
  },
  {
   "cell_type": "markdown",
   "metadata": {},
   "source": [
    "## Exercice 3\n",
    "\n",
    "Les algorithmes vu en cours retournent un booléen qui indique si l'élément recherché est dans la liste ou non. On considère ici des séquences triées par ordre croissant.\n",
    "\n",
    "1. Adaptez l'algorithme de recherche séquentielle pour qu'il retourne le plus petit indice où se trouve $x$ s'il est présent dans $l$ et la longueur de $l$ sinon."
   ]
  },
  {
   "cell_type": "code",
   "execution_count": null,
   "metadata": {},
   "outputs": [],
   "source": [
    "def recherche_séquentielle(l, x, a, b):\n",
    "    for i in range(a, b):\n",
    "        if x == l[i]:\n",
    "            return True\n",
    "        elif x > l[i]:\n",
    "            return False\n",
    "    return False"
   ]
  },
  {
   "cell_type": "code",
   "execution_count": 13,
   "metadata": {},
   "outputs": [
    {
     "name": "stdout",
     "output_type": "stream",
     "text": [
      "7\n"
     ]
    }
   ],
   "source": [
    "def recherche_indice(l,x):\n",
    "    for i in range (len(l)):\n",
    "        test = l[i]\n",
    "        if test == x :\n",
    "            return i\n",
    "    return len(l)\n",
    "\n",
    "print(recherche_indice([4,8,9,7,1,2,3,5,4,6,8],5))"
   ]
  },
  {
   "cell_type": "markdown",
   "metadata": {},
   "source": [
    "2. Adaptez l'algorithme de recherche dichotomique pour qu'il renvoie l'indice de l'élément recherché s'il s'y trouve et la longueur de la liste sinon. Si l'élément apparaît plusieurs fois, on retournera n'importe quel indice parmi les indices possibles."
   ]
  },
  {
   "cell_type": "code",
   "execution_count": null,
   "metadata": {},
   "outputs": [],
   "source": [
    "def recherche_dichotomique(l, x, a, b):\n",
    "    if a >= b:\n",
    "        return False\n",
    "    else:\n",
    "        m = (a + b - 1) // 2\n",
    "        if x == l[m]:\n",
    "            return True\n",
    "        elif x < l[m]:\n",
    "            return recherche_dichotomique(l, x, a, m)\n",
    "        else:\n",
    "            return recherche_dichotomique(l, x, m+1, b)"
   ]
  },
  {
   "cell_type": "code",
   "execution_count": null,
   "metadata": {},
   "outputs": [],
   "source": []
  },
  {
   "cell_type": "markdown",
   "metadata": {},
   "source": [
    "## Exercice 4\n",
    "\n",
    "On considère des listes triées par ordre croissant. En vous basant sur la recherche séquentielle, écrivez une fonction qui prend une liste $l$ en paramètre et qui retourne ```True``` si la liste passée en paramètre est triée par ordre croissant et ```False``` sinon.\n",
    "\n",
    "\n",
    "*Indication :* cela revient à rechercher s'il y a deux éléments aux indices $i$ et $i+1$ qui ne sont pas rangés dans le bon ordre."
   ]
  },
  {
   "cell_type": "code",
   "execution_count": 39,
   "metadata": {},
   "outputs": [
    {
     "name": "stdout",
     "output_type": "stream",
     "text": [
      "l[i = 3\n",
      "l[i+1 = \n"
     ]
    },
    {
     "ename": "TypeError",
     "evalue": "'>=' not supported between instances of 'int' and 'str'",
     "output_type": "error",
     "traceback": [
      "\u001b[0;31m---------------------------------------------------------------------------\u001b[0m",
      "\u001b[0;31mTypeError\u001b[0m                                 Traceback (most recent call last)",
      "\u001b[0;32m<ipython-input-39-0777396d976b>\u001b[0m in \u001b[0;36m<module>\u001b[0;34m\u001b[0m\n\u001b[1;32m     10\u001b[0m                 \u001b[0;32mreturn\u001b[0m \u001b[0;32mFalse\u001b[0m\u001b[0;34m\u001b[0m\u001b[0;34m\u001b[0m\u001b[0m\n\u001b[1;32m     11\u001b[0m \u001b[0;34m\u001b[0m\u001b[0m\n\u001b[0;32m---> 12\u001b[0;31m \u001b[0mprint\u001b[0m\u001b[0;34m(\u001b[0m\u001b[0mrecherche_sequentielle_v3\u001b[0m\u001b[0;34m(\u001b[0m\u001b[0;34m[\u001b[0m\u001b[0;36m3\u001b[0m\u001b[0;34m]\u001b[0m\u001b[0;34m)\u001b[0m\u001b[0;34m)\u001b[0m\u001b[0;34m\u001b[0m\u001b[0;34m\u001b[0m\u001b[0m\n\u001b[0m",
      "\u001b[0;32m<ipython-input-39-0777396d976b>\u001b[0m in \u001b[0;36mrecherche_sequentielle_v3\u001b[0;34m(l)\u001b[0m\n\u001b[1;32m      7\u001b[0m             \u001b[0mprint\u001b[0m\u001b[0;34m(\u001b[0m\u001b[0;34m\"l[i =\"\u001b[0m\u001b[0;34m,\u001b[0m \u001b[0ml\u001b[0m\u001b[0;34m[\u001b[0m\u001b[0mi\u001b[0m\u001b[0;34m]\u001b[0m\u001b[0;34m)\u001b[0m\u001b[0;34m\u001b[0m\u001b[0;34m\u001b[0m\u001b[0m\n\u001b[1;32m      8\u001b[0m             \u001b[0mprint\u001b[0m\u001b[0;34m(\u001b[0m\u001b[0;34m\"l[i+1 =\"\u001b[0m\u001b[0;34m,\u001b[0m \u001b[0ml\u001b[0m\u001b[0;34m[\u001b[0m\u001b[0mi\u001b[0m\u001b[0;34m+\u001b[0m\u001b[0;36m1\u001b[0m\u001b[0;34m]\u001b[0m\u001b[0;34m)\u001b[0m\u001b[0;34m\u001b[0m\u001b[0;34m\u001b[0m\u001b[0m\n\u001b[0;32m----> 9\u001b[0;31m             \u001b[0;32mif\u001b[0m \u001b[0ml\u001b[0m\u001b[0;34m[\u001b[0m\u001b[0mi\u001b[0m\u001b[0;34m]\u001b[0m \u001b[0;34m>=\u001b[0m \u001b[0ml\u001b[0m\u001b[0;34m[\u001b[0m\u001b[0mi\u001b[0m\u001b[0;34m+\u001b[0m\u001b[0;36m1\u001b[0m\u001b[0;34m]\u001b[0m\u001b[0;34m:\u001b[0m\u001b[0;34m\u001b[0m\u001b[0;34m\u001b[0m\u001b[0m\n\u001b[0m\u001b[1;32m     10\u001b[0m                 \u001b[0;32mreturn\u001b[0m \u001b[0;32mFalse\u001b[0m\u001b[0;34m\u001b[0m\u001b[0;34m\u001b[0m\u001b[0m\n\u001b[1;32m     11\u001b[0m \u001b[0;34m\u001b[0m\u001b[0m\n",
      "\u001b[0;31mTypeError\u001b[0m: '>=' not supported between instances of 'int' and 'str'"
     ]
    }
   ],
   "source": [
    "def recherche_sequentielle_v3(l):\n",
    "    l = l + [\"\"]\n",
    "    for i in range (len(l)):\n",
    "        if l[i+1] == [\"\"]:\n",
    "            return True\n",
    "        print(\"l[i =\", l[i])\n",
    "        print(\"l[i+1 =\", l[i+1])\n",
    "        if l[i] >= l[i+1]:\n",
    "            return False\n",
    "\n",
    "print(recherche_sequentielle_v3([3]))"
   ]
  },
  {
   "cell_type": "markdown",
   "metadata": {},
   "source": [
    "## Exercice 5\n",
    "\n",
    "Le principe de recherche dichotomique peut s'appliquer dans un contexte autre que la recherche d'un élément dans un tableau. Elle permet par exemple de gagner à coût sûr en un nombre de tentatives borné au jeu \"deviner le nombre\" ou pour résoudre certaines équations mathématiques. Si on cherche un entier dans un intervalle $[a, b]$, on commence par proposer l'élément médian $m = (a+b)/2$ (arrondi si nécessaire). Si $m$ est le nombre recherché sinon on recommence en ne considérant qu'un des deux intervalle $[a, m-1]$ or $[m+1, b]$ selon que $m$ était plus grand ou plus petit que le nombre recherché. Ainsi, le nombre de tentatives nécessaire est au plus de l'ordre de $\\log_2 n$ avec $n$ le nombre d'éléments dans l'intervalle initial. \n",
    "\n",
    "*Remarque :* il n'est pas nécessaire ici d'avoir un tableau contenant les chiffres entre 1 et 100. \n",
    "\n",
    "Écrivez un programme où l'ordinateur demande un nombre entre 1 et 100 à l'utilisateur et le retrouve en le moins d'étapes possible via une recherche dichotomique."
   ]
  },
  {
   "cell_type": "code",
   "execution_count": null,
   "metadata": {},
   "outputs": [],
   "source": []
  }
 ],
 "metadata": {
  "interpreter": {
   "hash": "c81fe28bf7dc0f631969d84fa725496b76a5eccaf9a5efd69c5894ddf0a6fdb4"
  },
  "kernelspec": {
   "display_name": "Python 3.9.7 64-bit ('coursAP': conda)",
   "language": "python",
   "name": "python3"
  },
  "language_info": {
   "codemirror_mode": {
    "name": "ipython",
    "version": 3
   },
   "file_extension": ".py",
   "mimetype": "text/x-python",
   "name": "python",
   "nbconvert_exporter": "python",
   "pygments_lexer": "ipython3",
   "version": "3.9.7"
  },
  "orig_nbformat": 4
 },
 "nbformat": 4,
 "nbformat_minor": 2
}
