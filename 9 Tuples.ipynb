{
 "cells": [
  {
   "cell_type": "markdown",
   "metadata": {},
   "source": [
    "# Définition\n",
    "\n",
    "Les tuples sont des séquences hétérogènes non mutables.\n",
    "\n",
    "Valeur littérale délimitée par des ```()``` :"
   ]
  },
  {
   "cell_type": "code",
   "execution_count": 1,
   "metadata": {},
   "outputs": [
    {
     "data": {
      "text/plain": [
       "(1, 2, 'timoélon')"
      ]
     },
     "execution_count": 1,
     "metadata": {},
     "output_type": "execute_result"
    }
   ],
   "source": [
    "() # tuple vide\n",
    "(1, ) # tuple avec 1 seul élément\n",
    "(1, 2, \"timoléon\") # tuple hétérogène avec 3 éléments "
   ]
  },
  {
   "cell_type": "markdown",
   "metadata": {},
   "source": [
    "**Attention :** quand le tuple ne contient qu'un seul élément, il ne faut pas oublier la ```,```. Par exemple, ```(1)``` n'est pas un tuple mais une expression arithmétique qui vaut ```1```.\n",
    "\n",
    "La fonction ```tuple``` permet de créer un tuple à partir d'une autre séquence (chaîne de caractères, listes, tuples, interval d'entiers) :"
   ]
  },
  {
   "cell_type": "code",
   "execution_count": 2,
   "metadata": {},
   "outputs": [
    {
     "name": "stdout",
     "output_type": "stream",
     "text": [
      "tuple() = ()\n",
      "tuple(\"timoléon\") = ('t', 'i', 'm', 'o', 'l', 'é', 'o', 'n')\n",
      "tuple([1, 2, 3, 4]) = (1, 2, 3, 4)\n",
      "tuple((1, 2, 3)) = (1, 2, 3)\n",
      "tuple(range(0, 11, 2)) = (0, 2, 4, 6, 8, 10)\n"
     ]
    }
   ],
   "source": [
    "print(\"tuple() =\", tuple())\n",
    "print(\"tuple(\\\"timoléon\\\") =\", tuple(\"timoléon\"))\n",
    "print(\"tuple([1, 2, 3, 4]) =\", tuple([1, 2, 3, 4]))\n",
    "print(\"tuple((1, 2, 3)) =\", tuple((1, 2, 3)))\n",
    "print(\"tuple(range(0, 11, 2)) =\", tuple(range(0, 11, 2)))"
   ]
  },
  {
   "cell_type": "markdown",
   "metadata": {},
   "source": [
    "\n",
    "**Récapitulatifs sur les différentes structures de données séquentielles :**\n",
    "\n",
    "| | chaîne de caractères | liste | tuple |\n",
    "|:- |:- |:- |:- |\n",
    "|Mutabilité | Non | Oui | Non |\n",
    "|Hétérogénéité | Non | Oui | Oui |\n",
    "|Notation indicielle | Oui | Oui | Oui |\n",
    "| Tranches | Oui | Oui | Oui |\n",
    "|```len``` | Oui | Oui | Oui |\n",
    "|```+```, ```*```| Oui | Oui | Oui |\n",
    "|Itératable (```for```) | Oui | Oui | Oui |\n",
    "|```in``` | Oui | Oui | Oui | \n",
    "\n",
    "**Utilisation typique des tuples :** regrouper ensemble des valeurs ayant un rapport avec les unes des autres.\n",
    "\n",
    "Par exemple, si un élève est défini par son nom, son prénom et son âge, plutôt que d'avoir trois variables pour le représenter, on regroupera les informations dans un tuple :"
   ]
  },
  {
   "cell_type": "code",
   "execution_count": 3,
   "metadata": {},
   "outputs": [],
   "source": [
    "élève = (\"Timoléon\", \"George\", 20)"
   ]
  },
  {
   "cell_type": "code",
   "execution_count": 4,
   "metadata": {},
   "outputs": [
    {
     "name": "stdout",
     "output_type": "stream",
     "text": [
      "Nom : Timoléon\n",
      "Prénom : George\n",
      "Age : 20\n"
     ]
    }
   ],
   "source": [
    "def affiche_élève(élève):\n",
    "    print(\"Nom :\", élève[0])\n",
    "    print(\"Prénom :\", élève[1])\n",
    "    print(\"Age :\", élève[2])\n",
    "\n",
    "affiche_élève(élève)"
   ]
  },
  {
   "cell_type": "markdown",
   "metadata": {},
   "source": [
    "# Affectation par tuple\n",
    "\n",
    "Il est possible d'affecté plusieurs valeurs en une seule instruction en utilisant des tuples :"
   ]
  },
  {
   "cell_type": "code",
   "execution_count": 5,
   "metadata": {},
   "outputs": [
    {
     "name": "stdout",
     "output_type": "stream",
     "text": [
      "x = 1\n",
      "y = 2\n"
     ]
    }
   ],
   "source": [
    "(x, y) = (1, 2)\n",
    "print(\"x =\", x)\n",
    "print(\"y =\", y)"
   ]
  },
  {
   "cell_type": "markdown",
   "metadata": {},
   "source": [
    "On n'est pas obligé de mettre les parenthèses dans ces cas :"
   ]
  },
  {
   "cell_type": "code",
   "execution_count": 6,
   "metadata": {},
   "outputs": [
    {
     "name": "stdout",
     "output_type": "stream",
     "text": [
      "x = 2\n",
      "y = 5\n"
     ]
    }
   ],
   "source": [
    "x, y = 2*x, 2*y + x\n",
    "print(\"x =\", x)\n",
    "print(\"y =\", y)"
   ]
  },
  {
   "cell_type": "markdown",
   "metadata": {},
   "source": [
    "**Remarque :** les expressions de droite sont évaluées avant l'affectation\n",
    "\n",
    "La syntaxe est :\n",
    "\n",
    "* à gauche des identifiants séparées par des vigules\n",
    "* à droite des expressions séparées par des virgules\n",
    "* il doit y avoir autant de variables que d'expression"
   ]
  },
  {
   "cell_type": "code",
   "execution_count": 7,
   "metadata": {},
   "outputs": [
    {
     "ename": "ValueError",
     "evalue": "too many values to unpack (expected 2)",
     "output_type": "error",
     "traceback": [
      "\u001b[0;31m---------------------------------------------------------------------------\u001b[0m",
      "\u001b[0;31mValueError\u001b[0m                                Traceback (most recent call last)",
      "\u001b[0;32m<ipython-input-7-10edbbb6d673>\u001b[0m in \u001b[0;36m<module>\u001b[0;34m\u001b[0m\n\u001b[0;32m----> 1\u001b[0;31m \u001b[0mx\u001b[0m\u001b[0;34m,\u001b[0m \u001b[0my\u001b[0m \u001b[0;34m=\u001b[0m \u001b[0;36m1\u001b[0m\u001b[0;34m,\u001b[0m \u001b[0;36m2\u001b[0m\u001b[0;34m,\u001b[0m \u001b[0;36m3\u001b[0m\u001b[0;34m\u001b[0m\u001b[0;34m\u001b[0m\u001b[0m\n\u001b[0m",
      "\u001b[0;31mValueError\u001b[0m: too many values to unpack (expected 2)"
     ]
    }
   ],
   "source": [
    "x, y = 1, 2, 3"
   ]
  },
  {
   "cell_type": "markdown",
   "metadata": {},
   "source": [
    "**Exemple :**\n",
    "\n",
    "Il est possible de réécrire l'algorithme qui échange deux variables :"
   ]
  },
  {
   "cell_type": "code",
   "execution_count": 8,
   "metadata": {},
   "outputs": [],
   "source": [
    "aux = x\n",
    "x = y\n",
    "y = aux"
   ]
  },
  {
   "cell_type": "markdown",
   "metadata": {},
   "source": [
    "de manière plus élégante avec l'affectation par tuple :"
   ]
  },
  {
   "cell_type": "code",
   "execution_count": 9,
   "metadata": {},
   "outputs": [],
   "source": [
    "x, y = y, x"
   ]
  },
  {
   "cell_type": "markdown",
   "metadata": {},
   "source": [
    "# Tuple comme valeur de retour\n",
    "\n",
    "Une fonction retourne dans les faits qu'une seule valeur.\n",
    "\n",
    "Pour les tuples, il est possible de simplifier l'écriture en omettant les ```()``` ce qui donne l'impression que la fonction retourne plusieurs valeurs."
   ]
  },
  {
   "cell_type": "code",
   "execution_count": 10,
   "metadata": {},
   "outputs": [
    {
     "name": "stdout",
     "output_type": "stream",
     "text": [
      "13 =  2 * 5 + 3\n"
     ]
    }
   ],
   "source": [
    "def division_entière(a, b):\n",
    "    return a // b, a % b\n",
    "\n",
    "quotient, reste = division_entière(13, 5)\n",
    "\n",
    "print(\"13 = \", quotient, \"* 5 +\", reste)"
   ]
  },
  {
   "cell_type": "markdown",
   "metadata": {},
   "source": [
    "**Remarque :** il est toujours possible de récupérer le résultat comme un tuple :"
   ]
  },
  {
   "cell_type": "code",
   "execution_count": 11,
   "metadata": {},
   "outputs": [
    {
     "name": "stdout",
     "output_type": "stream",
     "text": [
      "type(résultat) = <class 'tuple'>\n",
      "13 =  2 * 5 + 3\n"
     ]
    }
   ],
   "source": [
    "résultat = division_entière(13, 5)\n",
    "\n",
    "print(\"type(résultat) =\", type(résultat))\n",
    "print(\"13 = \", résultat[0], \"* 5 +\", résultat[1])"
   ]
  },
  {
   "cell_type": "markdown",
   "metadata": {},
   "source": [
    "# Exercices\n",
    "\n",
    "## Exercice 1\n",
    "\n",
    "1. Ecrire une fonction ```entier_hasard``` paramétrée par un entier ```n``` qui retourne un tuple de longueur ```n``` d'entiers choisis au hasard entre 1 et 100."
   ]
  },
  {
   "cell_type": "code",
   "execution_count": 8,
   "metadata": {},
   "outputs": [
    {
     "name": "stdout",
     "output_type": "stream",
     "text": [
      "(38, 30, 40, 65, 2, 75, 14, 77, 84, 30)\n"
     ]
    }
   ],
   "source": [
    "import random\n",
    "\n",
    "def entier_hasard(n):\n",
    "    res = ()\n",
    "    inter = ()\n",
    "    for i in range (n):\n",
    "        inter = (random.randint(0, 100),)\n",
    "        res = res + inter \n",
    "    return res\n",
    "\n",
    "x = 10\n",
    "print(entier_hasard(x))"
   ]
  },
  {
   "cell_type": "markdown",
   "metadata": {},
   "source": [
    "2. Ecrire une fonction ```filtre_pair``` paramétrée par un tuple d'entiers ```t``` et dont le résultat est un tuple d'entiers obtenu en supprimant les éléments impairs de ```t```."
   ]
  },
  {
   "cell_type": "code",
   "execution_count": 46,
   "metadata": {},
   "outputs": [
    {
     "name": "stdout",
     "output_type": "stream",
     "text": [
      "(58, 46, 48, 8, 86, 28)\n"
     ]
    }
   ],
   "source": [
    "def filtre_pair(t):\n",
    "    res = ()\n",
    "    inter = ()\n",
    "    for i in range(len(t)):\n",
    "        if t[i]%2 == 0:\n",
    "            inter = (t[i],)\n",
    "            res = res + inter\n",
    "    return res\n",
    "\n",
    "x = 10\n",
    "y = (entier_hasard(x))\n",
    "print(filtre_pair(y))"
   ]
  },
  {
   "cell_type": "markdown",
   "metadata": {},
   "source": [
    "3. Ecrire une fonction ```filtre_indice_pair``` paramétrée par un tuple ```t``` et dont le résultat est le tuple obtenu en supprimant les éléments de ```t``` dont **les indice** sont impairs. "
   ]
  },
  {
   "cell_type": "code",
   "execution_count": 58,
   "metadata": {},
   "outputs": [
    {
     "name": "stdout",
     "output_type": "stream",
     "text": [
      "(32, 64, 72, 87, 65)\n"
     ]
    }
   ],
   "source": [
    "def filtre_indice_pair(t):\n",
    "    res = ()\n",
    "    inter = ()\n",
    "    for i in range(len(t)):\n",
    "        if i%2 == 0:\n",
    "            inter = (t[i],)\n",
    "            res = res + inter\n",
    "    return res\n",
    "\n",
    "x = 10\n",
    "y = (entier_hasard(x))\n",
    "print(filtre_indice_pair(y))"
   ]
  },
  {
   "cell_type": "markdown",
   "metadata": {},
   "source": [
    "4. Ecrire les mêmes fonctions en utilisant des listes plutôt que des tuples."
   ]
  },
  {
   "cell_type": "code",
   "execution_count": 67,
   "metadata": {},
   "outputs": [
    {
     "name": "stdout",
     "output_type": "stream",
     "text": [
      "[50, 54, 25, 88, 74]\n"
     ]
    }
   ],
   "source": [
    "import random\n",
    "\n",
    "def entier_hasard(n):\n",
    "    res = []\n",
    "    inter = []\n",
    "    for i in range (n):\n",
    "        inter = [random.randint(0, 100),]\n",
    "        res = res + inter \n",
    "    return res\n",
    "\n",
    "def filtre_pair(t):\n",
    "    res = []\n",
    "    inter = []\n",
    "    for i in range(len(t)):\n",
    "        if t[i]%2 == 0:\n",
    "            inter = [t[i],]\n",
    "            res = res + inter\n",
    "    return res\n",
    "\n",
    "def filtre_indice_pair(t):\n",
    "    res = []\n",
    "    inter = []\n",
    "    for i in range(len(t)):\n",
    "        if i%2 == 0:\n",
    "            inter = [t[i],]\n",
    "            res = res + inter\n",
    "    return res\n",
    "\n",
    "x = 10\n",
    "y = (entier_hasard(x))\n",
    "print(filtre_indice_pair(y))\n"
   ]
  },
  {
   "cell_type": "markdown",
   "metadata": {},
   "source": [
    "## Exercice 2\n",
    "\n",
    "1. Ecrivez une fonction ```est_divisible``` paramétrée par un entier ```n``` et un tuple ```t``` d'entiers tous non nuls et dont le résultat est ```True``` s'il existe au un élément de ```t```qui divise ```n```, et ```False``` sinon."
   ]
  },
  {
   "cell_type": "code",
   "execution_count": 21,
   "metadata": {},
   "outputs": [
    {
     "ename": "TypeError",
     "evalue": "can only concatenate tuple (not \"str\") to tuple",
     "output_type": "error",
     "traceback": [
      "\u001b[0;31m---------------------------------------------------------------------------\u001b[0m",
      "\u001b[0;31mTypeError\u001b[0m                                 Traceback (most recent call last)",
      "\u001b[0;32m<ipython-input-21-e0741c63f9d9>\u001b[0m in \u001b[0;36m<module>\u001b[0;34m\u001b[0m\n\u001b[1;32m     14\u001b[0m \u001b[0my\u001b[0m \u001b[0;34m=\u001b[0m \u001b[0;36m5\u001b[0m\u001b[0;34m\u001b[0m\u001b[0;34m\u001b[0m\u001b[0m\n\u001b[1;32m     15\u001b[0m \u001b[0;34m\u001b[0m\u001b[0m\n\u001b[0;32m---> 16\u001b[0;31m \u001b[0mprint\u001b[0m \u001b[0;34m(\u001b[0m\u001b[0msupprime\u001b[0m\u001b[0;34m(\u001b[0m\u001b[0mx\u001b[0m\u001b[0;34m,\u001b[0m\u001b[0my\u001b[0m\u001b[0;34m)\u001b[0m\u001b[0;34m)\u001b[0m\u001b[0;34m\u001b[0m\u001b[0;34m\u001b[0m\u001b[0m\n\u001b[0m",
      "\u001b[0;32m<ipython-input-21-e0741c63f9d9>\u001b[0m in \u001b[0;36msupprime\u001b[0;34m(t, i)\u001b[0m\n\u001b[1;32m      5\u001b[0m             \u001b[0mt\u001b[0m\u001b[0;34m[\u001b[0m\u001b[0;36m0\u001b[0m\u001b[0;34m:\u001b[0m\u001b[0mj\u001b[0m\u001b[0;34m]\u001b[0m\u001b[0;34m\u001b[0m\u001b[0;34m\u001b[0m\u001b[0m\n\u001b[1;32m      6\u001b[0m         \u001b[0;32melse\u001b[0m\u001b[0;34m:\u001b[0m\u001b[0;34m\u001b[0m\u001b[0;34m\u001b[0m\u001b[0m\n\u001b[0;32m----> 7\u001b[0;31m             \u001b[0mres\u001b[0m \u001b[0;34m=\u001b[0m \u001b[0mres\u001b[0m \u001b[0;34m+\u001b[0m \u001b[0mt\u001b[0m\u001b[0;34m[\u001b[0m\u001b[0mj\u001b[0m\u001b[0;34m]\u001b[0m\u001b[0;34m\u001b[0m\u001b[0;34m\u001b[0m\u001b[0m\n\u001b[0m\u001b[1;32m      8\u001b[0m \u001b[0;34m\u001b[0m\u001b[0m\n\u001b[1;32m      9\u001b[0m \u001b[0;34m\u001b[0m\u001b[0m\n",
      "\u001b[0;31mTypeError\u001b[0m: can only concatenate tuple (not \"str\") to tuple"
     ]
    }
   ],
   "source": [
    "def est_divisible(t, n):\n",
    "    val = len(t)\n",
    "    inter = ()\n",
    "    for i in range(val):\n",
    "        inter = t[i]\n",
    "        if n%inter ==0:\n",
    "            return True\n",
    "    return False\n",
    "\n",
    "tu = (3,4,6,7,8,9,5)\n",
    "entier = 50\n",
    "\n",
    "print(est_divisible(tu,entier))"
   ]
  },
  {
   "cell_type": "markdown",
   "metadata": {},
   "source": [
    "**Rappel :** un nombre premier est un entier positif différent de 1 qui n'est divisible que par 1 et lui-même. Par exemple, 2, 3, 5, 7, 11 sont premiers tandis que $4 (= 2\\times 2 ), 6 (= 2\\times 3), 8 (=2\\times 2\\times 2), 10 (= 2\\times 5)$ ne le sont pas.\n",
    "\n",
    "2. Ecrivez une fonction ```énumère_premiers```dont le résultat est un tuple contenant les nombres premiers inférieurs ou égaux à ```n```.\n",
    "\n",
    "Par exemple, ```énumère_premiers(100)``` retourne ```(2, 3, 5, 7, 11, 13, 17, 19, 23, 29, 31, 37, 41, 43, 47, 53, 59, 61, 67, 71, 73, 79, 83, 89, 97)```."
   ]
  },
  {
   "cell_type": "code",
   "execution_count": null,
   "metadata": {},
   "outputs": [],
   "source": []
  },
  {
   "cell_type": "markdown",
   "metadata": {},
   "source": [
    "## Exercice 3\n",
    "\n",
    "1. Ecrivez une fonction ```plus_longue_chaîne``` paramétrée par un tuple ```t``` de chaînes de caractères et qui retourne un tuple contenant les plus longues chaînes de caractères dans ```t```. \n",
    "\n",
    "Par exemple :\n",
    "\n",
    "* ```plus_longue_chaîne((\"abba\", \"anticonstitutionnellement\", \"baba\", \"timéoleon\"))``` retourne ```(\"anticonstitutionnellement\", )```\n",
    "* ```plus_longue_chaîne((\"abba\", \"la\", \"baba\", \"a\"))``` retourne ```(\"abba\", \"baba\")```"
   ]
  },
  {
   "cell_type": "code",
   "execution_count": 11,
   "metadata": {},
   "outputs": [
    {
     "name": "stdout",
     "output_type": "stream",
     "text": [
      "Résultat : anticonstitutionnellement\n",
      "Résultat : ('baba', 'abba')\n"
     ]
    }
   ],
   "source": [
    "def plus_longue_chaine(t):\n",
    "    res =()\n",
    "    for i in range (len(t)):\n",
    "        #print (\"--- i :\",i)\n",
    "        #print(\"--- t\",i, t[i])\n",
    "        #print(\"--- res cal\", res)\n",
    "        if i == 0:\n",
    "            #print (\"if t0\")\n",
    "            res = t[0]\n",
    "            #print (res)\n",
    "        else:\n",
    "            if len(t[i]) == len(res):\n",
    "                res = (t[i], res)\n",
    "                #print (\"res == :\", res)\n",
    "            elif len(t[i]) > len(res):\n",
    "                res = t[i]\n",
    "                #print (\"res > :\", res)\n",
    "        \n",
    "    return res\n",
    "    \n",
    "\n",
    "\n",
    "x = (\"abba\", \"anticonstitutionnellement\", \"baba\", \"timéoleon\")\n",
    "print(\"Résultat :\",plus_longue_chaine(x))\n",
    "x = (\"abba\", \"la\", \"baba\", \"a\")\n",
    "print(\"Résultat :\",plus_longue_chaine(x))"
   ]
  },
  {
   "cell_type": "markdown",
   "metadata": {},
   "source": [
    "2. Modifiez votre fonction pour le cas où ```t``` est une liste."
   ]
  },
  {
   "cell_type": "code",
   "execution_count": null,
   "metadata": {},
   "outputs": [],
   "source": []
  },
  {
   "cell_type": "markdown",
   "metadata": {},
   "source": [
    "## Exercice 4\n",
    "\n",
    "1. Ecrire une fonction ```somme_imbriquée``` paramétrée par un tuple ```t``` de tuples d'entiers qui retourne deux valeurs :\n",
    "\n",
    "* la somme totale des entiers des tuples imbriqués\n",
    "* un tuple contenant pour chaque tuple de ```t``` la somme des entiers qu'il contient.\n",
    "\n",
    "Par exemple, ```somme_imbriquée(((1, 2, 3), (4, 5), (6, 7)))``` retourne ```28``` et ```(6, 9, 13)```"
   ]
  },
  {
   "cell_type": "code",
   "execution_count": null,
   "metadata": {},
   "outputs": [],
   "source": [
    "def somme_imbriquée(t):\n",
    "    res = ()\n",
    "    \n",
    "x = (((1,2,3),(4,5),(6,7)))\n",
    "print(somme_imbriquée(x))"
   ]
  },
  {
   "cell_type": "markdown",
   "metadata": {},
   "source": [
    "2. Modifiez votre fonction pour qu'elle retourne un entier et une liste."
   ]
  },
  {
   "cell_type": "code",
   "execution_count": null,
   "metadata": {},
   "outputs": [],
   "source": []
  },
  {
   "cell_type": "markdown",
   "metadata": {},
   "source": [
    "## Exercice 5\n",
    "\n",
    "1. Ecrivez une fonction ```supprime``` paramétrée par un tuple ```t``` et un entier ```i``` et qui retourne un tuple correspondant au tuple ```t``` auquel on a retiré l'élément d'indice ```i```."
   ]
  },
  {
   "cell_type": "code",
   "execution_count": 39,
   "metadata": {},
   "outputs": [
    {
     "name": "stdout",
     "output_type": "stream",
     "text": [
      "('1', '2', '3', '4', '6')\n"
     ]
    }
   ],
   "source": [
    "def supprime (t,i):\n",
    "    res = ()\n",
    "   \n",
    "    for j in range (len(t)):\n",
    "        if j != i-1:\n",
    "            res = res + (t[j],)\n",
    "    return res\n",
    "\n",
    "\n",
    "x = (\"1\",\"2\",\"3\",\"4\",\"5\",\"6\",)\n",
    "y = 5\n",
    "\n",
    "print (supprime(x,y))"
   ]
  },
  {
   "cell_type": "markdown",
   "metadata": {},
   "source": [
    "2. Ecrivez une fonction ```ìnsère``` paramétrée par un tuple ```t```, un entier ```i``` et une valeur ```x``` qui retourne un tuple obtenu en insérant dans ```t``` la valeur ```x``` à l'indice ```ì```."
   ]
  },
  {
   "cell_type": "code",
   "execution_count": 41,
   "metadata": {},
   "outputs": [
    {
     "name": "stdout",
     "output_type": "stream",
     "text": [
      "('1', '2', '3', '4', 8, '5', '6')\n"
     ]
    }
   ],
   "source": [
    "def insere (t,i,ins):\n",
    "    res = ()\n",
    "   \n",
    "    for j in range (len(t)):\n",
    "        if j == i-1:\n",
    "            res = res + (ins,) + (t[j],)\n",
    "        else:\n",
    "            res = res + (t[j],)\n",
    "    return res\n",
    "\n",
    "\n",
    "x = (\"1\",\"2\",\"3\",\"4\",\"5\",\"6\",)\n",
    "y = 5\n",
    "z = 8\n",
    "\n",
    "print (insere(x,y,z))"
   ]
  },
  {
   "cell_type": "markdown",
   "metadata": {},
   "source": [
    "3. Ecrivez une fonction ```échange``` paramétrée par un tuple ```t```, un entier ```i``` et une valeur ```x``` qui retourne un tuple obtenu en remplaçant l'élément dans ```t``` à l'indice ```i``` par la valeur ```x```.\n"
   ]
  },
  {
   "cell_type": "code",
   "execution_count": 43,
   "metadata": {},
   "outputs": [
    {
     "name": "stdout",
     "output_type": "stream",
     "text": [
      "('1', '2', '3', '4', 8, '6')\n"
     ]
    }
   ],
   "source": [
    "def echange (t,i,ins):\n",
    "    res = ()\n",
    "   \n",
    "    for j in range (len(t)):\n",
    "        if j == i-1:\n",
    "            res = res + (ins,) \n",
    "        else:\n",
    "            res = res + (t[j],)\n",
    "    return res\n",
    "\n",
    "\n",
    "x = (\"1\",\"2\",\"3\",\"4\",\"5\",\"6\",)\n",
    "y = 5\n",
    "z = 8\n",
    "\n",
    "print (echange(x,y,z))"
   ]
  },
  {
   "cell_type": "markdown",
   "metadata": {},
   "source": [
    "4. Réécrivez ces fonctions pour des listes."
   ]
  },
  {
   "cell_type": "code",
   "execution_count": null,
   "metadata": {},
   "outputs": [],
   "source": []
  },
  {
   "cell_type": "markdown",
   "metadata": {},
   "source": [
    "5. Réécrivez ces fonctions pour des chaînes de caractères."
   ]
  },
  {
   "cell_type": "code",
   "execution_count": null,
   "metadata": {},
   "outputs": [],
   "source": []
  }
 ],
 "metadata": {
  "interpreter": {
   "hash": "767d51c1340bd893661ea55ea3124f6de3c7a262a8b4abca0554b478b1e2ff90"
  },
  "kernelspec": {
   "display_name": "Python 3.9.7 64-bit ('base': conda)",
   "name": "python3"
  },
  "language_info": {
   "codemirror_mode": {
    "name": "ipython",
    "version": 3
   },
   "file_extension": ".py",
   "mimetype": "text/x-python",
   "name": "python",
   "nbconvert_exporter": "python",
   "pygments_lexer": "ipython3",
   "version": "3.9.7"
  },
  "orig_nbformat": 4
 },
 "nbformat": 4,
 "nbformat_minor": 2
}
