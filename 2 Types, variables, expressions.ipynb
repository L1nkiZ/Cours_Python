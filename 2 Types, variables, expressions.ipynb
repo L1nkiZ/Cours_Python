{
 "cells": [
  {
   "cell_type": "markdown",
   "metadata": {},
   "source": [
    "# Commentaires\n",
    "\n",
    "Un commentaire est une série de caractères ignorée lors de l'exécution. En Python, un commentaire commence par ```#``` et se termine au retour à ligne."
   ]
  },
  {
   "cell_type": "code",
   "execution_count": null,
   "metadata": {},
   "outputs": [],
   "source": [
    "# Ceci est un commentaire\n",
    "# Ceci est un autre commentaire"
   ]
  },
  {
   "cell_type": "markdown",
   "metadata": {},
   "source": [
    "Les commentaires permettent d'ajouter des explications sur le fonctionnement du programme."
   ]
  },
  {
   "cell_type": "code",
   "execution_count": 2,
   "metadata": {},
   "outputs": [
    {
     "name": "stdout",
     "output_type": "stream",
     "text": [
      "Ceci est un programme simple\n",
      "\n",
      "Nom : hgh , né(e) il y a 1966 années\n"
     ]
    }
   ],
   "source": [
    "# Le programme débute ici\n",
    "print(\"Ceci est un programme simple\")\n",
    "print() # Affiche une ligne vide pour aider à la mise en page\n",
    "nom = input(\"Entrez votre nom : \") # Attend que l'utilisateur entre un nom\n",
    "année_naissance = int(input(\"Entrez votre année de naissance :\")) # Attend que l'utilisateur entre un nombre\n",
    "print(\"Nom :\", nom, \", né(e) il y a\", 2021 - année_naissance, \"années\") # Affiche un message Nom : [nom], né(e) il y a [x] années\n",
    "# Au-dessus [nom] = nom saisi, [x] = nombre d'années depuis la naissance jusqu'à aujourd'hui"
   ]
  },
  {
   "cell_type": "markdown",
   "metadata": {},
   "source": [
    "__Remarque :__ il faut veiller à mettre des commentaires seulement quand c'est nécessaire. "
   ]
  },
  {
   "cell_type": "markdown",
   "metadata": {},
   "source": [
    "# Type : nombres entiers\n",
    "\n",
    "Ils sont écrits en base 10.\n"
   ]
  },
  {
   "cell_type": "code",
   "execution_count": null,
   "metadata": {},
   "outputs": [],
   "source": [
    "10\n",
    "42\n",
    "314\n",
    "#042 -> cela n'est pas valide le premier chiffre ne peut pas être 0"
   ]
  },
  {
   "cell_type": "markdown",
   "metadata": {},
   "source": [
    "Si le nombre n'est pas 0, le premier chiffre doit être différent de ```0```."
   ]
  },
  {
   "cell_type": "code",
   "execution_count": null,
   "metadata": {},
   "outputs": [],
   "source": [
    "042"
   ]
  },
  {
   "cell_type": "markdown",
   "metadata": {},
   "source": [
    "Ils peuvent être précédés de ```+``` ou ```-```."
   ]
  },
  {
   "cell_type": "code",
   "execution_count": null,
   "metadata": {},
   "outputs": [],
   "source": [
    "42 # Un entier positif\n",
    "+42 # Le même entier\n",
    "-42 # Un entier négatif"
   ]
  },
  {
   "cell_type": "markdown",
   "metadata": {},
   "source": [
    "Il n'y a pas de limitation sur le plus petit entier et le plus grand entier."
   ]
  },
  {
   "cell_type": "code",
   "execution_count": null,
   "metadata": {},
   "outputs": [],
   "source": [
    "19330483058308543058320541943938928392453091485098102812084210948 # Un très grand entier positif\n",
    "-43489385935039409124091094230941209420148210940231940218421093402 # Un très petit entier négatif"
   ]
  },
  {
   "cell_type": "markdown",
   "metadata": {},
   "source": [
    "# Type : nombres réels (ou flottants)\n",
    "Ce sont les nombres non entiers comprenant une partie décimale. Le marqueur de la partie décimale est le __.__\n",
    "\n",
    " Il est possible d'utiliser une notation scientifique.\n",
    " "
   ]
  },
  {
   "cell_type": "code",
   "execution_count": null,
   "metadata": {},
   "outputs": [],
   "source": [
    "3.141492\n",
    "-6.023e23"
   ]
  },
  {
   "cell_type": "markdown",
   "metadata": {},
   "source": [
    "__Remarque :__ On ne peut pas représenter tous les nombres flottants. Ils sont bornés par un plus petit flottant et un plus grand flottant. De plus, la norme de codage des nombres flottants fait qu'il y a des \"trous\" qui mènent à des erreurs de calcul.\n",
    "\n",
    "__Remarque :__ Lorsque la partie décimale est nulle, on peut omettre le 0."
   ]
  },
  {
   "cell_type": "code",
   "execution_count": null,
   "metadata": {},
   "outputs": [],
   "source": [
    "3.0 # Le réel 3.0\n",
    "3. # Le même réel"
   ]
  },
  {
   "cell_type": "markdown",
   "metadata": {},
   "source": [
    "# Type : chaînes de caractères (version light)\n",
    "\n",
    "- Un caractère : une lettre (majuscule, minuscule), symbole de ponctuation, espace ...\n",
    "- Un caractère ne forme pas un type en Python\n",
    "- Une chaîne de caractères : suite de caractères délimitée par \\' ou \\\"\n"
   ]
  },
  {
   "cell_type": "code",
   "execution_count": null,
   "metadata": {},
   "outputs": [],
   "source": [
    "'Timoléon'\n",
    "\"Timoléon\" # Equivalent à ci-dessus\n",
    "\"   Une chaîne plus complexe !!\\nAvec un retour à la ligne\"\n",
    "\"1\" # Une chaïne de caractères de longueur 1, différent de l'entier 1\n",
    "\"\" # Une chaîne vide"
   ]
  },
  {
   "cell_type": "markdown",
   "metadata": {},
   "source": [
    "# Variables \n",
    "\n",
    "## Déclaration et affectation\n",
    "\n",
    "**Variable** = un nom qui fait référence à une valeur\n",
    "\n",
    "**Affectation** = une instruction qui crée une variable si elle n'existe pas et lui donne une valeur\n",
    "\n",
    "L'instruction suivante crée une variable appelée ```num1``` et lui affecte la valeur 42 :"
   ]
  },
  {
   "cell_type": "code",
   "execution_count": null,
   "metadata": {},
   "outputs": [],
   "source": [
    "num1 = 42"
   ]
  },
  {
   "cell_type": "markdown",
   "metadata": {},
   "source": [
    "```num1``` peut être utilisé à la place de la valeur 42. L'instruction suivante crée une variable ```num2``` et lui affecte la valeur contenue dans ```num1```."
   ]
  },
  {
   "cell_type": "code",
   "execution_count": null,
   "metadata": {},
   "outputs": [],
   "source": [
    "num2 = num1"
   ]
  },
  {
   "cell_type": "markdown",
   "metadata": {},
   "source": [
    "On peut modifier la valeur stockée dans une variable."
   ]
  },
  {
   "cell_type": "code",
   "execution_count": null,
   "metadata": {},
   "outputs": [],
   "source": [
    "num1 = 144"
   ]
  },
  {
   "cell_type": "markdown",
   "metadata": {},
   "source": [
    "__Remarque :__ la valeur stockée dans ```num2``` est toujours 42.\n",
    "\n",
    "__Remarque :__ une variable est dite du type de la donnée qu'elle contient. Les variables ```num1``` et ```num2``` sont donc de type entier."
   ]
  },
  {
   "cell_type": "code",
   "execution_count": null,
   "metadata": {},
   "outputs": [],
   "source": [
    "reel = 3.141519 # une variable réelle"
   ]
  },
  {
   "cell_type": "code",
   "execution_count": null,
   "metadata": {},
   "outputs": [],
   "source": [
    "chaîne = \"Timoléon\" # une variable de type chaîne de caractères"
   ]
  },
  {
   "cell_type": "markdown",
   "metadata": {},
   "source": [
    "__Remarque :__ En Python, une variable peut changer de type mais cela n'est pas recommandé.\n",
    "\n",
    "__Remarque :__ L'opérateur ```=``` s'appelle **l'opérateur d'affectation**. L'opérande gauche doit nécessairement être une variable."
   ]
  },
  {
   "cell_type": "code",
   "execution_count": null,
   "metadata": {},
   "outputs": [],
   "source": [
    "x = 42 # Création de la variable x"
   ]
  },
  {
   "cell_type": "code",
   "execution_count": null,
   "metadata": {},
   "outputs": [],
   "source": [
    "x = 92 # Modification du contenu de la variable x"
   ]
  },
  {
   "cell_type": "code",
   "execution_count": null,
   "metadata": {},
   "outputs": [],
   "source": [
    "42 = x"
   ]
  },
  {
   "cell_type": "code",
   "execution_count": null,
   "metadata": {},
   "outputs": [],
   "source": [
    "x + y = 42"
   ]
  },
  {
   "cell_type": "markdown",
   "metadata": {},
   "source": [
    "## Identificateur\n",
    "\n",
    "Le nom d'une variable s'appelle un **identificateur**. Un identificateur est une séquence de lettres, de chiffres et du caractère ```_``` qui doit respecter certaines règles :\n",
    "\n",
    "- Caractères interdits : espace, ```=```, ```+```, ```-```, ```/```, ```%``` (notamment)\n",
    "- Un identificateur ne peut pas commencer par un chiffres\n",
    "- Il ne faut pas que ce soit un mot-clef du langage\n",
    "- Sensible à la casse"
   ]
  },
  {
   "cell_type": "code",
   "execution_count": null,
   "metadata": {},
   "outputs": [],
   "source": [
    "aire = 42 "
   ]
  },
  {
   "cell_type": "code",
   "execution_count": null,
   "metadata": {},
   "outputs": [],
   "source": [
    "Aire = 52 # Déclaration d'une nouvelle variable"
   ]
  },
  {
   "cell_type": "markdown",
   "metadata": {},
   "source": [
    "__Remarque :__ Il ne faut pas confondre identificateur et chaîne de caractères."
   ]
  },
  {
   "cell_type": "code",
   "execution_count": null,
   "metadata": {},
   "outputs": [],
   "source": [
    "aire # La variable aire qui vaut 42\n",
    "\"aire\" # Une chaîne de caractère"
   ]
  },
  {
   "cell_type": "markdown",
   "metadata": {},
   "source": [
    "## Un premier algorithme : échanger les valeurs entre deux variables\n",
    "\n",
    "Supposons que l'on ait deux variables $a$ et $b$ de même type. Comment échanger les valeurs ? Par exemple, si initialement $a$ vaut 1 et $b$ vaut 2, il faut qu'à la fin $a$ vaille 2 et $b$ vaille 1. L'algorithme doit fonctionner quelque soit le type des variables."
   ]
  },
  {
   "cell_type": "code",
   "execution_count": null,
   "metadata": {},
   "outputs": [],
   "source": [
    "a = 1\n",
    "b = 2\n",
    "print(\"a =\", a, \"b =\", b)\n",
    "\n",
    "aux = a # On sauvegarde la valeur de a\n",
    "a = b   # On copie la valeur de b dans a\n",
    "b = aux # On copie l'ancienne valeur de a dans b\n",
    "\n",
    "print(\"a =\", a, \"b =\", b)"
   ]
  },
  {
   "cell_type": "markdown",
   "metadata": {},
   "source": [
    "# Expressions arithmétiques\n",
    "\n",
    "## Définition et opérateurs arithmétiques\n",
    "\n",
    "Une expression arithmétique est formée de littéraux (des entiers ou des réels) et de variables de type entier ou réel que l'on combine à l'aide d'opérateurs arithmétiques. Les opérations arithmétiques en Python sont les suivants par ordre croissant de priorité :\n",
    "\n",
    "| Opérateur | Signification |\n",
    "|:- |:- |  \n",
    "|```+```, ```-``` | addition, soustraction |\n",
    "|```*```, ```/```| multiplication, division (non entière) |\n",
    "| ```//```, ```%``` | division entière (quotient), modulo (reste de la division entière) |\n",
    "| ```-``` | négation (opérateur unaire) |\n",
    "|```**``` | exponentiation |\n",
    "\n",
    "Il est possible d'utiliser des parenthèses pour modifier les priorités\n",
    "\n",
    "__Rappel :__ Soit $a$ et $b$ deux entiers, on peut écrire $a = qb + r$. Le quotient $q$ est le resultat de la division entière ($q = a // b$) et le reste $r$ est le résultat du modulo ($r = a \\% b$).\n"
   ]
  },
  {
   "cell_type": "code",
   "execution_count": null,
   "metadata": {},
   "outputs": [],
   "source": [
    "- 42.0 * (5 - num1 + num2) / num1 - 13 # Une expression arithmétique combinant des littéraux et des variables"
   ]
  },
  {
   "cell_type": "markdown",
   "metadata": {},
   "source": [
    "Une expression arithmétique retourne un résultat dont le type (entier ou réel) dépend des types des éléments la composant et des opérateurs arithmétiques.\n"
   ]
  },
  {
   "cell_type": "markdown",
   "metadata": {},
   "source": [
    "## Addition / Soustraction / Multiplication\n",
    "Le type du résultat dépend du type des opérateurs\n",
    "\n",
    "| Opérande gauche | Opérande droite | Résultat |\n",
    "| :-: | :-: | :-:\n",
    "| Entier | Entier | Entier |\n",
    "| Entier | Réel | Réel |\n",
    "| Réel | Entier | Réel |\n",
    "| Réel | Réel | Réel |"
   ]
  },
  {
   "cell_type": "code",
   "execution_count": null,
   "metadata": {},
   "outputs": [],
   "source": [
    "résultat = num1 + num2\n",
    "print('résultat =', résultat)\n",
    "print('type du résultat =', type(résultat))"
   ]
  },
  {
   "cell_type": "code",
   "execution_count": null,
   "metadata": {},
   "outputs": [],
   "source": [
    "résultat = num1 - num2\n",
    "print('résultat =', résultat)\n",
    "print('type du résultat =', type(résultat))"
   ]
  },
  {
   "cell_type": "code",
   "execution_count": null,
   "metadata": {},
   "outputs": [],
   "source": [
    "résultat = num1 * num2\n",
    "print('résultat =', résultat)\n",
    "print('type du résultat =', type(résultat))"
   ]
  },
  {
   "cell_type": "markdown",
   "metadata": {},
   "source": [
    "## Division\n",
    "\n",
    "Le résultat est toujours un réel."
   ]
  },
  {
   "cell_type": "code",
   "execution_count": null,
   "metadata": {},
   "outputs": [],
   "source": [
    "résultat = num1 / num2\n",
    "print('résultat =', résultat)\n",
    "print('type du résultat =', type(résultat))"
   ]
  },
  {
   "cell_type": "markdown",
   "metadata": {},
   "source": [
    "## Division entière\n",
    "Les deux opérandes doivent être des entiers et le résultat est un entier (le quotient)."
   ]
  },
  {
   "cell_type": "code",
   "execution_count": null,
   "metadata": {},
   "outputs": [],
   "source": [
    "résultat = num1 // num2\n",
    "print('résultat =', résultat)\n",
    "print('type du résultat =', type(résultat))"
   ]
  },
  {
   "cell_type": "markdown",
   "metadata": {},
   "source": [
    "## Modulo\n",
    "Les deux opérandes doivent être des entiers et le résultat est un entier (le reste)."
   ]
  },
  {
   "cell_type": "code",
   "execution_count": null,
   "metadata": {},
   "outputs": [],
   "source": [
    "résultat = num1 % num2\n",
    "print('résultat =', résultat)\n",
    "print('type du résultat =', type(résultat))"
   ]
  },
  {
   "cell_type": "markdown",
   "metadata": {},
   "source": [
    "## Exactitude des calculs\n",
    "\n",
    "Les calculs sur les entiers sont parfaitement exacts.\n",
    "\n",
    "Il peut y avoir des erreurs de précision pour les calculs sur les nombres réels.\n"
   ]
  },
  {
   "cell_type": "code",
   "execution_count": null,
   "metadata": {},
   "outputs": [],
   "source": [
    "1/3 + 1/3 + 1/3 + 1/3 + 1/3 + 1/3"
   ]
  },
  {
   "cell_type": "code",
   "execution_count": null,
   "metadata": {},
   "outputs": [],
   "source": [
    "6 * 1/3"
   ]
  },
  {
   "cell_type": "code",
   "execution_count": null,
   "metadata": {},
   "outputs": [],
   "source": [
    "1.1 + 2.2 - 3.3"
   ]
  },
  {
   "cell_type": "markdown",
   "metadata": {},
   "source": [
    "# Entrées / sorties standard (aka clavier / écran)\n",
    "## La fonction ```print```\n",
    "\n",
    "__Remarque :__ une fonction dans un langage informatique est un programme qui exécute une série d'instructions à partir d'arguments et qui peut renvoyer un résultat.\n",
    "\n",
    "La fonction ```print``` prend un nombre quelconque d'argument et affiche à l'écran les valeurs des arguments séparées par un espace et ajoute un retour à la ligne à la fin. S'il n'y a aucun argument, seul le retour à la ligne est affiché."
   ]
  },
  {
   "cell_type": "code",
   "execution_count": 4,
   "metadata": {},
   "outputs": [
    {
     "name": "stdout",
     "output_type": "stream",
     "text": [
      "Ceci est un message\n",
      "Première ligne\n",
      "Deuxième ligne\n",
      "\n"
     ]
    },
    {
     "ename": "NameError",
     "evalue": "name 'résultat' is not defined",
     "output_type": "error",
     "traceback": [
      "\u001b[0;31m---------------------------------------------------------------------------\u001b[0m",
      "\u001b[0;31mNameError\u001b[0m                                 Traceback (most recent call last)",
      "\u001b[0;32m<ipython-input-4-bb7aa21c154d>\u001b[0m in \u001b[0;36m<module>\u001b[0;34m\u001b[0m\n\u001b[1;32m      2\u001b[0m \u001b[0mprint\u001b[0m\u001b[0;34m(\u001b[0m\u001b[0;34m\"Première ligne\\nDeuxième ligne\"\u001b[0m\u001b[0;34m)\u001b[0m\u001b[0;34m\u001b[0m\u001b[0;34m\u001b[0m\u001b[0m\n\u001b[1;32m      3\u001b[0m \u001b[0mprint\u001b[0m\u001b[0;34m(\u001b[0m\u001b[0;34m)\u001b[0m\u001b[0;34m\u001b[0m\u001b[0;34m\u001b[0m\u001b[0m\n\u001b[0;32m----> 4\u001b[0;31m \u001b[0mprint\u001b[0m\u001b[0;34m(\u001b[0m\u001b[0;34m\"Le résultat est\"\u001b[0m\u001b[0;34m,\u001b[0m \u001b[0mrésultat\u001b[0m\u001b[0;34m)\u001b[0m\u001b[0;34m\u001b[0m\u001b[0;34m\u001b[0m\u001b[0m\n\u001b[0m",
      "\u001b[0;31mNameError\u001b[0m: name 'résultat' is not defined"
     ]
    }
   ],
   "source": [
    "print(\"Ceci est un message\")\n",
    "print(\"Première ligne\\nDeuxième ligne\")\n",
    "print()\n",
    "print(\"Le résultat est\", résultat)"
   ]
  },
  {
   "cell_type": "markdown",
   "metadata": {},
   "source": [
    "## La fonction ```input```\n",
    "La fonction affiche la chaîne de caractères qui lui est passée en argument (on peut éventuellement ne rien passer en argument) et retourne une chaîne de caractères contenant ce qui est entré au clavier jusqu'à ce que l'on appuie sur retour (exclu)."
   ]
  },
  {
   "cell_type": "code",
   "execution_count": null,
   "metadata": {},
   "outputs": [],
   "source": [
    "texte = input(\"Entrez un texte : \")\n",
    "print(texte)"
   ]
  },
  {
   "cell_type": "markdown",
   "metadata": {},
   "source": [
    "Si on souhaite lire un entier ou un réel, il faut transformer la chaîne de caractères retournée par ```input``` en utilisant la fonction ```int``` ou la fonction ```float```."
   ]
  },
  {
   "cell_type": "code",
   "execution_count": null,
   "metadata": {},
   "outputs": [],
   "source": [
    "un_entier = int(input(\"Entrez un entier : \"))\n",
    "un_reel = float(input(\"Entrez un flottant : \"))\n",
    "print(\"L'entier lu est\", un_entier, \"; le réel lu est\", un_reel)"
   ]
  },
  {
   "cell_type": "markdown",
   "metadata": {},
   "source": [
    "# Exercices\n",
    "## Exercice 1\n",
    "Demandez à l'utilisateur son prénom et afficher le message : __Bonjour \\[prénom]__\n"
   ]
  },
  {
   "cell_type": "code",
   "execution_count": 1,
   "metadata": {},
   "outputs": [
    {
     "name": "stdout",
     "output_type": "stream",
     "text": [
      "Bonjour  qs\n"
     ]
    }
   ],
   "source": [
    "nom=input(\"who dis?\")\n",
    "print(\"Bonjour \", nom)"
   ]
  },
  {
   "cell_type": "markdown",
   "metadata": {},
   "source": [
    "## Exercice 2\n",
    "Demandez à l'utilisateur son prénom puis son nom et afficher le message : __Bonjour \\[prénom] \\[nom]__"
   ]
  },
  {
   "cell_type": "code",
   "execution_count": 6,
   "metadata": {},
   "outputs": [
    {
     "name": "stdout",
     "output_type": "stream",
     "text": [
      "Bonjour  ddd fff\n"
     ]
    }
   ],
   "source": [
    "prenom=input(\"Quel est ton prenom?\")\n",
    "nom=input(\"Quel est ton nom de famille?\")\n",
    "print(\"Bonjour\", prenom, nom)"
   ]
  },
  {
   "cell_type": "markdown",
   "metadata": {},
   "source": [
    "## Exercice 3\n",
    "Demander à l'utilisateur d'entrer deux nombres et afficher la somme des deux nombres dans un message : **La somme est [résultat]**. Essayer d'écrire le code sans utiliser une variable pour stocker le résultat de la somme."
   ]
  },
  {
   "cell_type": "code",
   "execution_count": 8,
   "metadata": {},
   "outputs": [
    {
     "name": "stdout",
     "output_type": "stream",
     "text": [
      "La somme est: 61\n"
     ]
    }
   ],
   "source": [
    "nb1=int(input(\"entrer un nombre\"))\n",
    "nb2=int(input(\"entrer un nombre (encore)\"))\n",
    "print(\"La somme est:\",nb1+nb2)"
   ]
  },
  {
   "cell_type": "markdown",
   "metadata": {},
   "source": [
    "## Exercice 4\n",
    "Demander à l'utilisateur trois nombres, faire la somme du premier et du second et multiplier le résultat de la somme par le troisième entier saisi. Afficher le résultat sous la forme : **Le résultat est [résultat]**."
   ]
  },
  {
   "cell_type": "code",
   "execution_count": 10,
   "metadata": {},
   "outputs": [
    {
     "name": "stdout",
     "output_type": "stream",
     "text": [
      "Le résultat est 27\n"
     ]
    }
   ],
   "source": [
    "a=int(input(\"nb1\"))\n",
    "b=int(input(\"nb2\"))\n",
    "c=int(input(\"nb3\"))\n",
    "print(\"Le résultat est\",(a+b)*c)"
   ]
  },
  {
   "cell_type": "markdown",
   "metadata": {},
   "source": [
    "## Exercice 5\n",
    "Demander à l'utilisateur son nom et son âge. Ajouter 1 à son age et afficher le résultat ainsi : **[Nom], à votre prochain anniversaire vous aurez [nouvel age]**"
   ]
  },
  {
   "cell_type": "code",
   "execution_count": 12,
   "metadata": {},
   "outputs": [
    {
     "name": "stdout",
     "output_type": "stream",
     "text": [
      "hufijeh à votre prochain anniversaire vous aurez 66 ans\n"
     ]
    }
   ],
   "source": [
    "nom=input(\"nom?\")\n",
    "age=int(input(\"age?\"))\n",
    "print(nom,\"à votre prochain anniversaire vous aurez\",age+1,\"ans\")"
   ]
  },
  {
   "cell_type": "markdown",
   "metadata": {},
   "source": [
    "## Exercice 6\n",
    "\n",
    "Ecrire un programme qui demande un nombre de jours et qui indique combien d'heures, de minutes et de secondes se trouvent dans ce nombre de jours."
   ]
  },
  {
   "cell_type": "code",
   "execution_count": 14,
   "metadata": {},
   "outputs": [
    {
     "name": "stdout",
     "output_type": "stream",
     "text": [
      "Ca fait 8784 heures, 527040 minutes ou 31622400 secondes\n"
     ]
    }
   ],
   "source": [
    "jours=int(input(\"\"))\n",
    "h=jours*24\n",
    "m=h*60\n",
    "s=m*60\n",
    "print(\"Ca fait\",h,\"heures,\",m,\"minutes ou\",s,\"secondes\")"
   ]
  },
  {
   "cell_type": "markdown",
   "metadata": {},
   "source": [
    "## Exercice 7\n",
    "Il y a 2,204 livres dans un kilogramme. Demander à un utilisateur d'entrer un poids en kilogrammes et le convertir en livres. Afficher le poids en livres. "
   ]
  },
  {
   "cell_type": "code",
   "execution_count": 17,
   "metadata": {},
   "outputs": [
    {
     "name": "stdout",
     "output_type": "stream",
     "text": [
      "Ca fait 22.040000000000003 livres.\n"
     ]
    }
   ],
   "source": [
    "poids_kg=float(input(\"poids en kg\"))\n",
    "print(\"Ca fait\",poids_kg*2.204,\"livres.\")"
   ]
  },
  {
   "cell_type": "markdown",
   "metadata": {},
   "source": [
    "## Exercice 8\n",
    "Demander à l'utilisateur un nombre plus grand que 100 puis un nombre plus petit que 10 et qui affiche dans un format lisible combien de fois au maximum le plus petit nombre peut être multiplié avant de dépasser le plus grand nombre."
   ]
  },
  {
   "cell_type": "code",
   "execution_count": 1,
   "metadata": {},
   "outputs": [
    {
     "name": "stdout",
     "output_type": "stream",
     "text": [
      "30\n"
     ]
    }
   ],
   "source": [
    "dividende=int(input(\"Entrer un nombre >100.\"))\n",
    "diviseur=int(input(\"Entrer un nombre <10.\"))\n",
    "print(dividende//diviseur)"
   ]
  },
  {
   "cell_type": "markdown",
   "metadata": {},
   "source": [
    "## Exercice 9\n",
    "\n",
    "Soit 3 variables ```a```, ```b``` et ```c``` supposées du même type. Ecrire un programme permutant leur valeurs valeurs, de sorte que la valeur de ```b``` passe dans ```a```, la valeur de ```c```dans ```b``` et la valeur de ```a```dans ```c```. On utilisera une variable supplémentaire ```d```."
   ]
  },
  {
   "cell_type": "code",
   "execution_count": 19,
   "metadata": {},
   "outputs": [],
   "source": [
    "a=\"a\"\n",
    "b=\"b\"\n",
    "c=\"c\"\n",
    "d=a\n",
    "a=b\n",
    "b=c\n",
    "c=d"
   ]
  },
  {
   "cell_type": "markdown",
   "metadata": {},
   "source": [
    "## Exercice 10\n",
    "\n",
    "Vous disposez d'une casse contenant des pièces de valeur 10 unités, 5 unités, 2 unités et 1 unités. Le nombre de pièces dans la caisse n'est pas limité. On cherche à rendre la monnaie à un client à partir de la somme qu'il a donnée et du montant de l'achat. Pour rendre la monnaie, on utilise la stratégie suivante : on essaie de rendre le plus grand nombre de pièces de valeur 10 possibles, puis le plus grand nombre de pièces de valeur 5, puis le plus grand nombre de pièces de valeur 2 et enfin on considère les pièces de valeur 1."
   ]
  },
  {
   "cell_type": "code",
   "execution_count": 22,
   "metadata": {},
   "outputs": [
    {
     "name": "stdout",
     "output_type": "stream",
     "text": [
      "Rendre 0 pièces de 10, 1 pièces de 5, 1 pièces de 2 et 1 pièces de 1.\n"
     ]
    }
   ],
   "source": [
    "donne=int(input(\"argent donné\"))\n",
    "prix=int(input(\"prix à payer\"))\n",
    "a_rendre=donne-prix\n",
    "p10=a_rendre//10\n",
    "a_rendre=a_rendre%10\n",
    "p5=a_rendre//5\n",
    "a_rendre=a_rendre%5\n",
    "p2=a_rendre//2\n",
    "p1=a_rendre%2\n",
    "print(\"Rendre\",p10,\"pièces de 10,\",p5,\"pièces de 5,\",p2,\"pièces de 2 et\",p1,\"pièces de 1.\")\n"
   ]
  }
 ],
 "metadata": {
  "interpreter": {
   "hash": "767d51c1340bd893661ea55ea3124f6de3c7a262a8b4abca0554b478b1e2ff90"
  },
  "kernelspec": {
   "display_name": "Python 3.9.7 64-bit ('base': conda)",
   "name": "python3"
  },
  "language_info": {
   "codemirror_mode": {
    "name": "ipython",
    "version": 3
   },
   "file_extension": ".py",
   "mimetype": "text/x-python",
   "name": "python",
   "nbconvert_exporter": "python",
   "pygments_lexer": "ipython3",
   "version": "3.9.9"
  },
  "metadata": {
   "interpreter": {
    "hash": "c3531389a362e15ae2b360be98eaa8a9af4a3adee23d9f54ab9f21d1d8ce9837"
   }
  }
 },
 "nbformat": 4,
 "nbformat_minor": 4
}
